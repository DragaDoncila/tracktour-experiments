{
 "cells": [
  {
   "cell_type": "code",
   "execution_count": 1,
   "metadata": {},
   "outputs": [],
   "source": [
    "root_dir = '/home/ddon0001/PhD/data/trackastra_training/draga/'\n",
    "out_csv = '/home/ddon0001/PhD/experiments/trackastra_training_tracktour/ds_summary.csv'"
   ]
  },
  {
   "cell_type": "code",
   "execution_count": null,
   "metadata": {},
   "outputs": [],
   "source": [
    "from tracktour_experiments.generate_dataset_summary import generate_recurisve_summary\n",
    "\n",
    "summary_df = generate_recurisve_summary(root_dir, out_csv)"
   ]
  },
  {
   "cell_type": "code",
   "execution_count": 2,
   "metadata": {},
   "outputs": [],
   "source": [
    "import pandas as pd\n",
    "\n",
    "\n",
    "summary_df = pd.read_csv(out_csv)"
   ]
  },
  {
   "cell_type": "code",
   "execution_count": 3,
   "metadata": {},
   "outputs": [],
   "source": [
    "from tracktour_experiments.generate_configs import ds_summary_to_configs\n",
    "out_path = '/home/ddon0001/PhD/experiments/trackastra_training_ttour_ctc/'\n",
    "configs = ds_summary_to_configs(\n",
    "    out_csv,\n",
    "    out_path,\n",
    "    appearance_cheat=False,\n",
    "    div_constraint=False,\n",
    "    penalize_flow=False,\n",
    "    merge_capacity=2,\n",
    "    allow_merges=True,\n",
    "    k_neighbours=10\n",
    ")"
   ]
  },
  {
   "cell_type": "code",
   "execution_count": 4,
   "metadata": {},
   "outputs": [
    {
     "name": "stderr",
     "output_type": "stream",
     "text": [
      "Computing candidate edges: 100%|██████████| 64/64 [00:00<00:00, 1068.09it/s]\n"
     ]
    },
    {
     "name": "stdout",
     "output_type": "stream",
     "text": [
      "Set parameter Username\n",
      "Academic license - for non-commercial use only - expires 2026-03-03\n",
      "Building took 7.818665504455566 seconds\n"
     ]
    },
    {
     "name": "stderr",
     "output_type": "stream",
     "text": [
      "Loading TIFFs: 100%|██████████| 64/64 [00:00<00:00, 296.64it/s]\n",
      "Computing candidate edges: 100%|██████████| 41/41 [00:00<00:00, 1499.55it/s]\n"
     ]
    },
    {
     "name": "stdout",
     "output_type": "stream",
     "text": [
      "Building took 0.8771228790283203 seconds\n"
     ]
    },
    {
     "name": "stderr",
     "output_type": "stream",
     "text": [
      "Loading TIFFs: 100%|██████████| 41/41 [00:00<00:00, 268.94it/s]\n",
      "Computing candidate edges: 100%|██████████| 54/54 [00:00<00:00, 1254.82it/s]\n"
     ]
    },
    {
     "name": "stdout",
     "output_type": "stream",
     "text": [
      "Building took 5.167490720748901 seconds\n"
     ]
    },
    {
     "name": "stderr",
     "output_type": "stream",
     "text": [
      "Loading TIFFs: 100%|██████████| 54/54 [00:00<00:00, 275.91it/s]\n",
      "Computing candidate edges: 100%|██████████| 44/44 [00:00<00:00, 1369.89it/s]\n"
     ]
    },
    {
     "name": "stdout",
     "output_type": "stream",
     "text": [
      "Building took 2.851104736328125 seconds\n"
     ]
    },
    {
     "name": "stderr",
     "output_type": "stream",
     "text": [
      "Loading TIFFs: 100%|██████████| 44/44 [00:00<00:00, 271.32it/s]\n",
      "Computing candidate edges: 100%|██████████| 41/41 [00:00<00:00, 1612.62it/s]\n"
     ]
    },
    {
     "name": "stdout",
     "output_type": "stream",
     "text": [
      "Building took 1.0745189189910889 seconds\n"
     ]
    },
    {
     "name": "stderr",
     "output_type": "stream",
     "text": [
      "Loading TIFFs: 100%|██████████| 41/41 [00:00<00:00, 270.99it/s]\n",
      "Computing candidate edges: 100%|██████████| 70/70 [00:00<00:00, 857.37it/s]\n"
     ]
    },
    {
     "name": "stdout",
     "output_type": "stream",
     "text": [
      "Building took 15.033989906311035 seconds\n"
     ]
    },
    {
     "name": "stderr",
     "output_type": "stream",
     "text": [
      "Loading TIFFs: 100%|██████████| 70/70 [00:00<00:00, 260.74it/s]\n",
      "Computing candidate edges: 100%|██████████| 54/54 [00:00<00:00, 628.23it/s]\n"
     ]
    },
    {
     "name": "stdout",
     "output_type": "stream",
     "text": [
      "Building took 11.40885853767395 seconds\n"
     ]
    },
    {
     "name": "stderr",
     "output_type": "stream",
     "text": [
      "Loading TIFFs: 100%|██████████| 54/54 [00:00<00:00, 253.64it/s]\n",
      "Computing candidate edges: 100%|██████████| 41/41 [00:00<00:00, 1832.57it/s]\n"
     ]
    },
    {
     "name": "stdout",
     "output_type": "stream",
     "text": [
      "Building took 0.659980058670044 seconds\n"
     ]
    },
    {
     "name": "stderr",
     "output_type": "stream",
     "text": [
      "Loading TIFFs: 100%|██████████| 41/41 [00:00<00:00, 266.36it/s]\n",
      "Computing candidate edges: 100%|██████████| 41/41 [00:00<00:00, 1260.33it/s]\n"
     ]
    },
    {
     "name": "stdout",
     "output_type": "stream",
     "text": [
      "Building took 1.6864380836486816 seconds\n"
     ]
    },
    {
     "name": "stderr",
     "output_type": "stream",
     "text": [
      "Loading TIFFs: 100%|██████████| 41/41 [00:00<00:00, 310.02it/s]\n",
      "Computing candidate edges: 100%|██████████| 70/70 [00:00<00:00, 1505.89it/s]\n"
     ]
    },
    {
     "name": "stdout",
     "output_type": "stream",
     "text": [
      "Building took 4.129455327987671 seconds\n"
     ]
    },
    {
     "name": "stderr",
     "output_type": "stream",
     "text": [
      "Loading TIFFs: 100%|██████████| 70/70 [00:00<00:00, 257.37it/s]\n",
      "Computing candidate edges: 100%|██████████| 64/64 [00:00<00:00, 1286.98it/s]\n"
     ]
    },
    {
     "name": "stdout",
     "output_type": "stream",
     "text": [
      "Building took 5.1261067390441895 seconds\n"
     ]
    },
    {
     "name": "stderr",
     "output_type": "stream",
     "text": [
      "Loading TIFFs: 100%|██████████| 64/64 [00:00<00:00, 275.74it/s]\n",
      "Computing candidate edges: 100%|██████████| 49/49 [00:00<00:00, 1715.99it/s]\n"
     ]
    },
    {
     "name": "stdout",
     "output_type": "stream",
     "text": [
      "Building took 0.3485281467437744 seconds\n"
     ]
    },
    {
     "name": "stderr",
     "output_type": "stream",
     "text": [
      "Loading TIFFs: 100%|██████████| 49/49 [00:00<00:00, 288.27it/s]\n",
      "Computing candidate edges: 100%|██████████| 41/41 [00:00<00:00, 1574.61it/s]\n"
     ]
    },
    {
     "name": "stdout",
     "output_type": "stream",
     "text": [
      "Building took 0.8999128341674805 seconds\n"
     ]
    },
    {
     "name": "stderr",
     "output_type": "stream",
     "text": [
      "Loading TIFFs: 100%|██████████| 41/41 [00:00<00:00, 258.90it/s]\n",
      "Computing candidate edges: 100%|██████████| 41/41 [00:00<00:00, 1581.77it/s]\n"
     ]
    },
    {
     "name": "stdout",
     "output_type": "stream",
     "text": [
      "Building took 1.2702200412750244 seconds\n"
     ]
    },
    {
     "name": "stderr",
     "output_type": "stream",
     "text": [
      "Loading TIFFs: 100%|██████████| 41/41 [00:00<00:00, 283.42it/s]\n",
      "Computing candidate edges: 100%|██████████| 41/41 [00:00<00:00, 1566.65it/s]\n"
     ]
    },
    {
     "name": "stdout",
     "output_type": "stream",
     "text": [
      "Building took 0.9296762943267822 seconds\n"
     ]
    },
    {
     "name": "stderr",
     "output_type": "stream",
     "text": [
      "Loading TIFFs: 100%|██████████| 41/41 [00:00<00:00, 284.16it/s]\n",
      "Computing candidate edges: 100%|██████████| 44/44 [00:00<00:00, 1217.25it/s]\n"
     ]
    },
    {
     "name": "stdout",
     "output_type": "stream",
     "text": [
      "Building took 5.484586000442505 seconds\n"
     ]
    },
    {
     "name": "stderr",
     "output_type": "stream",
     "text": [
      "Loading TIFFs: 100%|██████████| 44/44 [00:00<00:00, 284.15it/s]\n",
      "Computing candidate edges: 100%|██████████| 41/41 [00:00<00:00, 1600.15it/s]\n"
     ]
    },
    {
     "name": "stdout",
     "output_type": "stream",
     "text": [
      "Building took 1.126037359237671 seconds\n"
     ]
    },
    {
     "name": "stderr",
     "output_type": "stream",
     "text": [
      "Loading TIFFs: 100%|██████████| 41/41 [00:00<00:00, 280.15it/s]\n",
      "Computing candidate edges: 100%|██████████| 54/54 [00:00<00:00, 1255.53it/s]\n"
     ]
    },
    {
     "name": "stdout",
     "output_type": "stream",
     "text": [
      "Building took 5.844009160995483 seconds\n"
     ]
    },
    {
     "name": "stderr",
     "output_type": "stream",
     "text": [
      "Loading TIFFs: 100%|██████████| 54/54 [00:00<00:00, 269.23it/s]\n",
      "Computing candidate edges: 100%|██████████| 41/41 [00:00<00:00, 1634.21it/s]\n"
     ]
    },
    {
     "name": "stdout",
     "output_type": "stream",
     "text": [
      "Building took 0.8246512413024902 seconds\n"
     ]
    },
    {
     "name": "stderr",
     "output_type": "stream",
     "text": [
      "Loading TIFFs: 100%|██████████| 41/41 [00:00<00:00, 278.85it/s]\n",
      "Computing candidate edges: 100%|██████████| 41/41 [00:00<00:00, 1506.42it/s]\n"
     ]
    },
    {
     "name": "stdout",
     "output_type": "stream",
     "text": [
      "Building took 1.222536325454712 seconds\n"
     ]
    },
    {
     "name": "stderr",
     "output_type": "stream",
     "text": [
      "Loading TIFFs: 100%|██████████| 41/41 [00:00<00:00, 271.53it/s]\n",
      "Computing candidate edges: 100%|██████████| 54/54 [00:00<00:00, 1067.70it/s]\n"
     ]
    },
    {
     "name": "stdout",
     "output_type": "stream",
     "text": [
      "Building took 8.019803047180176 seconds\n"
     ]
    },
    {
     "name": "stderr",
     "output_type": "stream",
     "text": [
      "Loading TIFFs: 100%|██████████| 54/54 [00:00<00:00, 270.20it/s]\n",
      "Computing candidate edges: 100%|██████████| 41/41 [00:00<00:00, 1532.24it/s]\n"
     ]
    },
    {
     "name": "stdout",
     "output_type": "stream",
     "text": [
      "Building took 1.1726317405700684 seconds\n"
     ]
    },
    {
     "name": "stderr",
     "output_type": "stream",
     "text": [
      "Loading TIFFs: 100%|██████████| 41/41 [00:00<00:00, 285.00it/s]\n",
      "Computing candidate edges: 100%|██████████| 70/70 [00:00<00:00, 1101.92it/s]\n"
     ]
    },
    {
     "name": "stdout",
     "output_type": "stream",
     "text": [
      "Building took 12.017941236495972 seconds\n"
     ]
    },
    {
     "name": "stderr",
     "output_type": "stream",
     "text": [
      "Loading TIFFs: 100%|██████████| 70/70 [00:00<00:00, 261.36it/s]\n",
      "Computing candidate edges: 100%|██████████| 44/44 [00:00<00:00, 1255.34it/s]\n"
     ]
    },
    {
     "name": "stdout",
     "output_type": "stream",
     "text": [
      "Building took 3.6901326179504395 seconds\n"
     ]
    },
    {
     "name": "stderr",
     "output_type": "stream",
     "text": [
      "Loading TIFFs: 100%|██████████| 44/44 [00:00<00:00, 283.73it/s]\n",
      "Computing candidate edges: 100%|██████████| 44/44 [00:00<00:00, 1288.42it/s]\n"
     ]
    },
    {
     "name": "stdout",
     "output_type": "stream",
     "text": [
      "Building took 4.704197645187378 seconds\n"
     ]
    },
    {
     "name": "stderr",
     "output_type": "stream",
     "text": [
      "Loading TIFFs: 100%|██████████| 44/44 [00:00<00:00, 278.37it/s]\n",
      "Computing candidate edges: 100%|██████████| 41/41 [00:00<00:00, 1652.13it/s]\n"
     ]
    },
    {
     "name": "stdout",
     "output_type": "stream",
     "text": [
      "Building took 0.8651702404022217 seconds\n"
     ]
    },
    {
     "name": "stderr",
     "output_type": "stream",
     "text": [
      "Loading TIFFs: 100%|██████████| 41/41 [00:00<00:00, 281.58it/s]\n",
      "Computing candidate edges: 100%|██████████| 70/70 [00:00<00:00, 1581.39it/s]\n"
     ]
    },
    {
     "name": "stdout",
     "output_type": "stream",
     "text": [
      "Building took 2.6620259284973145 seconds\n"
     ]
    },
    {
     "name": "stderr",
     "output_type": "stream",
     "text": [
      "Loading TIFFs: 100%|██████████| 70/70 [00:00<00:00, 290.40it/s]\n",
      "Computing candidate edges: 100%|██████████| 41/41 [00:00<00:00, 1619.48it/s]\n"
     ]
    },
    {
     "name": "stdout",
     "output_type": "stream",
     "text": [
      "Building took 0.7149739265441895 seconds\n"
     ]
    },
    {
     "name": "stderr",
     "output_type": "stream",
     "text": [
      "Loading TIFFs: 100%|██████████| 41/41 [00:00<00:00, 288.78it/s]\n",
      "Computing candidate edges: 100%|██████████| 41/41 [00:00<00:00, 1676.94it/s]\n"
     ]
    },
    {
     "name": "stdout",
     "output_type": "stream",
     "text": [
      "Building took 0.9777135848999023 seconds\n"
     ]
    },
    {
     "name": "stderr",
     "output_type": "stream",
     "text": [
      "Loading TIFFs: 100%|██████████| 41/41 [00:00<00:00, 283.00it/s]\n",
      "Computing candidate edges: 100%|██████████| 41/41 [00:00<00:00, 1626.70it/s]\n"
     ]
    },
    {
     "name": "stdout",
     "output_type": "stream",
     "text": [
      "Building took 0.8200771808624268 seconds\n"
     ]
    },
    {
     "name": "stderr",
     "output_type": "stream",
     "text": [
      "Loading TIFFs: 100%|██████████| 41/41 [00:00<00:00, 281.02it/s]\n",
      "Computing candidate edges: 100%|██████████| 64/64 [00:00<00:00, 1330.91it/s]\n"
     ]
    },
    {
     "name": "stdout",
     "output_type": "stream",
     "text": [
      "Building took 4.44094181060791 seconds\n"
     ]
    },
    {
     "name": "stderr",
     "output_type": "stream",
     "text": [
      "Loading TIFFs: 100%|██████████| 64/64 [00:00<00:00, 278.26it/s]\n",
      "Computing candidate edges: 100%|██████████| 54/54 [00:00<00:00, 1306.43it/s]\n"
     ]
    },
    {
     "name": "stdout",
     "output_type": "stream",
     "text": [
      "Building took 5.045907974243164 seconds\n"
     ]
    },
    {
     "name": "stderr",
     "output_type": "stream",
     "text": [
      "Loading TIFFs: 100%|██████████| 54/54 [00:00<00:00, 269.46it/s]\n",
      "Computing candidate edges: 100%|██████████| 41/41 [00:00<00:00, 1526.39it/s]\n"
     ]
    },
    {
     "name": "stdout",
     "output_type": "stream",
     "text": [
      "Building took 1.2397785186767578 seconds\n"
     ]
    },
    {
     "name": "stderr",
     "output_type": "stream",
     "text": [
      "Loading TIFFs: 100%|██████████| 41/41 [00:00<00:00, 277.33it/s]\n",
      "Computing candidate edges: 100%|██████████| 70/70 [00:00<00:00, 1541.62it/s]\n"
     ]
    },
    {
     "name": "stdout",
     "output_type": "stream",
     "text": [
      "Building took 3.4755008220672607 seconds\n"
     ]
    },
    {
     "name": "stderr",
     "output_type": "stream",
     "text": [
      "Loading TIFFs: 100%|██████████| 70/70 [00:00<00:00, 289.85it/s]\n",
      "Computing candidate edges: 100%|██████████| 49/49 [00:00<00:00, 1844.20it/s]\n"
     ]
    },
    {
     "name": "stdout",
     "output_type": "stream",
     "text": [
      "Building took 0.1710493564605713 seconds\n"
     ]
    },
    {
     "name": "stderr",
     "output_type": "stream",
     "text": [
      "Loading TIFFs: 100%|██████████| 49/49 [00:00<00:00, 286.60it/s]\n",
      "Computing candidate edges: 100%|██████████| 70/70 [00:00<00:00, 1129.56it/s]\n"
     ]
    },
    {
     "name": "stdout",
     "output_type": "stream",
     "text": [
      "Building took 11.095933437347412 seconds\n"
     ]
    },
    {
     "name": "stderr",
     "output_type": "stream",
     "text": [
      "Loading TIFFs: 100%|██████████| 70/70 [00:00<00:00, 259.26it/s]\n",
      "Computing candidate edges: 100%|██████████| 70/70 [00:00<00:00, 1631.51it/s]\n"
     ]
    },
    {
     "name": "stdout",
     "output_type": "stream",
     "text": [
      "Building took 2.7915289402008057 seconds\n"
     ]
    },
    {
     "name": "stderr",
     "output_type": "stream",
     "text": [
      "Loading TIFFs: 100%|██████████| 70/70 [00:00<00:00, 287.34it/s]\n",
      "Computing candidate edges: 100%|██████████| 49/49 [00:00<00:00, 1738.61it/s]\n"
     ]
    },
    {
     "name": "stdout",
     "output_type": "stream",
     "text": [
      "Building took 0.5507209300994873 seconds\n"
     ]
    },
    {
     "name": "stderr",
     "output_type": "stream",
     "text": [
      "Loading TIFFs: 100%|██████████| 49/49 [00:00<00:00, 283.16it/s]\n",
      "Computing candidate edges: 100%|██████████| 64/64 [00:00<00:00, 1471.26it/s]\n"
     ]
    },
    {
     "name": "stdout",
     "output_type": "stream",
     "text": [
      "Building took 4.263371706008911 seconds\n"
     ]
    },
    {
     "name": "stderr",
     "output_type": "stream",
     "text": [
      "Loading TIFFs: 100%|██████████| 64/64 [00:00<00:00, 291.30it/s]\n",
      "Computing candidate edges: 100%|██████████| 41/41 [00:00<00:00, 1506.32it/s]\n"
     ]
    },
    {
     "name": "stdout",
     "output_type": "stream",
     "text": [
      "Building took 0.45113539695739746 seconds\n"
     ]
    },
    {
     "name": "stderr",
     "output_type": "stream",
     "text": [
      "Loading TIFFs: 100%|██████████| 41/41 [00:00<00:00, 280.59it/s]\n",
      "Computing candidate edges: 100%|██████████| 70/70 [00:00<00:00, 1106.79it/s]\n"
     ]
    },
    {
     "name": "stdout",
     "output_type": "stream",
     "text": [
      "Building took 10.496794700622559 seconds\n"
     ]
    },
    {
     "name": "stderr",
     "output_type": "stream",
     "text": [
      "Loading TIFFs: 100%|██████████| 70/70 [00:00<00:00, 250.95it/s]\n",
      "Computing candidate edges: 100%|██████████| 41/41 [00:00<00:00, 1527.65it/s]\n"
     ]
    },
    {
     "name": "stdout",
     "output_type": "stream",
     "text": [
      "Building took 1.0700170993804932 seconds\n"
     ]
    },
    {
     "name": "stderr",
     "output_type": "stream",
     "text": [
      "Loading TIFFs: 100%|██████████| 41/41 [00:00<00:00, 284.85it/s]\n",
      "Computing candidate edges: 100%|██████████| 64/64 [00:00<00:00, 1131.15it/s]\n"
     ]
    },
    {
     "name": "stdout",
     "output_type": "stream",
     "text": [
      "Building took 9.74427080154419 seconds\n"
     ]
    },
    {
     "name": "stderr",
     "output_type": "stream",
     "text": [
      "Loading TIFFs: 100%|██████████| 64/64 [00:00<00:00, 266.87it/s]\n",
      "Computing candidate edges: 100%|██████████| 41/41 [00:00<00:00, 1566.08it/s]\n"
     ]
    },
    {
     "name": "stdout",
     "output_type": "stream",
     "text": [
      "Building took 1.3254389762878418 seconds\n"
     ]
    },
    {
     "name": "stderr",
     "output_type": "stream",
     "text": [
      "Loading TIFFs: 100%|██████████| 41/41 [00:00<00:00, 242.91it/s]\n",
      "Computing candidate edges: 100%|██████████| 41/41 [00:00<00:00, 1532.79it/s]\n"
     ]
    },
    {
     "name": "stdout",
     "output_type": "stream",
     "text": [
      "Building took 1.271369457244873 seconds\n"
     ]
    },
    {
     "name": "stderr",
     "output_type": "stream",
     "text": [
      "Loading TIFFs: 100%|██████████| 41/41 [00:00<00:00, 282.89it/s]\n",
      "Computing candidate edges: 100%|██████████| 41/41 [00:00<00:00, 1512.87it/s]\n"
     ]
    },
    {
     "name": "stdout",
     "output_type": "stream",
     "text": [
      "Building took 1.1551182270050049 seconds\n"
     ]
    },
    {
     "name": "stderr",
     "output_type": "stream",
     "text": [
      "Loading TIFFs: 100%|██████████| 41/41 [00:00<00:00, 280.96it/s]\n",
      "Computing candidate edges: 100%|██████████| 49/49 [00:00<00:00, 1812.40it/s]\n"
     ]
    },
    {
     "name": "stdout",
     "output_type": "stream",
     "text": [
      "Building took 0.7768459320068359 seconds\n"
     ]
    },
    {
     "name": "stderr",
     "output_type": "stream",
     "text": [
      "Loading TIFFs: 100%|██████████| 49/49 [00:00<00:00, 288.56it/s]\n",
      "Computing candidate edges: 100%|██████████| 64/64 [00:00<00:00, 922.96it/s]\n"
     ]
    },
    {
     "name": "stdout",
     "output_type": "stream",
     "text": [
      "Building took 8.014686107635498 seconds\n"
     ]
    },
    {
     "name": "stderr",
     "output_type": "stream",
     "text": [
      "Loading TIFFs: 100%|██████████| 64/64 [00:00<00:00, 283.84it/s]\n",
      "Computing candidate edges: 100%|██████████| 64/64 [00:00<00:00, 1311.54it/s]\n"
     ]
    },
    {
     "name": "stdout",
     "output_type": "stream",
     "text": [
      "Building took 6.494147300720215 seconds\n"
     ]
    },
    {
     "name": "stderr",
     "output_type": "stream",
     "text": [
      "Loading TIFFs: 100%|██████████| 64/64 [00:00<00:00, 285.66it/s]\n",
      "Computing candidate edges: 100%|██████████| 41/41 [00:00<00:00, 757.84it/s]\n"
     ]
    },
    {
     "name": "stdout",
     "output_type": "stream",
     "text": [
      "Building took 0.8253257274627686 seconds\n"
     ]
    },
    {
     "name": "stderr",
     "output_type": "stream",
     "text": [
      "Loading TIFFs: 100%|██████████| 41/41 [00:00<00:00, 289.32it/s]\n",
      "Computing candidate edges: 100%|██████████| 41/41 [00:00<00:00, 1635.08it/s]\n"
     ]
    },
    {
     "name": "stdout",
     "output_type": "stream",
     "text": [
      "Building took 0.7437396049499512 seconds\n"
     ]
    },
    {
     "name": "stderr",
     "output_type": "stream",
     "text": [
      "Loading TIFFs: 100%|██████████| 41/41 [00:00<00:00, 281.47it/s]\n",
      "Computing candidate edges: 100%|██████████| 54/54 [00:00<00:00, 1241.83it/s]\n"
     ]
    },
    {
     "name": "stdout",
     "output_type": "stream",
     "text": [
      "Building took 5.711994886398315 seconds\n"
     ]
    },
    {
     "name": "stderr",
     "output_type": "stream",
     "text": [
      "Loading TIFFs: 100%|██████████| 54/54 [00:00<00:00, 266.11it/s]\n",
      "Computing candidate edges: 100%|██████████| 41/41 [00:00<00:00, 1606.58it/s]\n"
     ]
    },
    {
     "name": "stdout",
     "output_type": "stream",
     "text": [
      "Building took 1.101438283920288 seconds\n"
     ]
    },
    {
     "name": "stderr",
     "output_type": "stream",
     "text": [
      "Loading TIFFs: 100%|██████████| 41/41 [00:00<00:00, 287.59it/s]\n",
      "Computing candidate edges: 100%|██████████| 64/64 [00:00<00:00, 1353.35it/s]\n"
     ]
    },
    {
     "name": "stdout",
     "output_type": "stream",
     "text": [
      "Building took 5.304576635360718 seconds\n"
     ]
    },
    {
     "name": "stderr",
     "output_type": "stream",
     "text": [
      "Loading TIFFs: 100%|██████████| 64/64 [00:00<00:00, 277.38it/s]\n",
      "Computing candidate edges: 100%|██████████| 41/41 [00:00<00:00, 1501.12it/s]\n"
     ]
    },
    {
     "name": "stdout",
     "output_type": "stream",
     "text": [
      "Building took 0.8025579452514648 seconds\n"
     ]
    },
    {
     "name": "stderr",
     "output_type": "stream",
     "text": [
      "Loading TIFFs: 100%|██████████| 41/41 [00:00<00:00, 271.12it/s]\n",
      "Computing candidate edges: 100%|██████████| 41/41 [00:00<00:00, 1475.84it/s]\n"
     ]
    },
    {
     "name": "stdout",
     "output_type": "stream",
     "text": [
      "Building took 1.7733006477355957 seconds\n"
     ]
    },
    {
     "name": "stderr",
     "output_type": "stream",
     "text": [
      "Loading TIFFs: 100%|██████████| 41/41 [00:00<00:00, 287.57it/s]\n",
      "Computing candidate edges: 100%|██████████| 44/44 [00:00<00:00, 1374.49it/s]\n"
     ]
    },
    {
     "name": "stdout",
     "output_type": "stream",
     "text": [
      "Building took 2.4892919063568115 seconds\n"
     ]
    },
    {
     "name": "stderr",
     "output_type": "stream",
     "text": [
      "Loading TIFFs: 100%|██████████| 44/44 [00:00<00:00, 280.31it/s]\n",
      "Computing candidate edges: 100%|██████████| 41/41 [00:00<00:00, 1508.25it/s]\n"
     ]
    },
    {
     "name": "stdout",
     "output_type": "stream",
     "text": [
      "Building took 1.229917049407959 seconds\n"
     ]
    },
    {
     "name": "stderr",
     "output_type": "stream",
     "text": [
      "Loading TIFFs: 100%|██████████| 41/41 [00:00<00:00, 281.95it/s]\n",
      "Computing candidate edges: 100%|██████████| 64/64 [00:00<00:00, 1426.82it/s]\n"
     ]
    },
    {
     "name": "stdout",
     "output_type": "stream",
     "text": [
      "Building took 4.513819932937622 seconds\n"
     ]
    },
    {
     "name": "stderr",
     "output_type": "stream",
     "text": [
      "Loading TIFFs: 100%|██████████| 64/64 [00:00<00:00, 283.74it/s]\n",
      "Computing candidate edges: 100%|██████████| 70/70 [00:00<00:00, 1147.28it/s]\n"
     ]
    },
    {
     "name": "stdout",
     "output_type": "stream",
     "text": [
      "Building took 5.799365282058716 seconds\n"
     ]
    },
    {
     "name": "stderr",
     "output_type": "stream",
     "text": [
      "Loading TIFFs: 100%|██████████| 70/70 [00:00<00:00, 277.17it/s]\n",
      "Computing candidate edges: 100%|██████████| 54/54 [00:00<00:00, 1120.50it/s]\n"
     ]
    },
    {
     "name": "stdout",
     "output_type": "stream",
     "text": [
      "Building took 7.928933143615723 seconds\n"
     ]
    },
    {
     "name": "stderr",
     "output_type": "stream",
     "text": [
      "Loading TIFFs: 100%|██████████| 54/54 [00:00<00:00, 279.72it/s]\n",
      "Computing candidate edges: 100%|██████████| 54/54 [00:00<00:00, 1172.62it/s]\n"
     ]
    },
    {
     "name": "stdout",
     "output_type": "stream",
     "text": [
      "Building took 7.691118001937866 seconds\n"
     ]
    },
    {
     "name": "stderr",
     "output_type": "stream",
     "text": [
      "Loading TIFFs: 100%|██████████| 54/54 [00:00<00:00, 286.70it/s]\n",
      "Computing candidate edges: 100%|██████████| 41/41 [00:00<00:00, 1570.77it/s]\n"
     ]
    },
    {
     "name": "stdout",
     "output_type": "stream",
     "text": [
      "Building took 0.7618546485900879 seconds\n"
     ]
    },
    {
     "name": "stderr",
     "output_type": "stream",
     "text": [
      "Loading TIFFs: 100%|██████████| 41/41 [00:00<00:00, 289.82it/s]\n",
      "Computing candidate edges: 100%|██████████| 41/41 [00:00<00:00, 730.54it/s]\n"
     ]
    },
    {
     "name": "stdout",
     "output_type": "stream",
     "text": [
      "Building took 0.9276716709136963 seconds\n"
     ]
    },
    {
     "name": "stderr",
     "output_type": "stream",
     "text": [
      "Loading TIFFs: 100%|██████████| 41/41 [00:00<00:00, 283.28it/s]\n",
      "Computing candidate edges: 100%|██████████| 41/41 [00:00<00:00, 1535.65it/s]\n"
     ]
    },
    {
     "name": "stdout",
     "output_type": "stream",
     "text": [
      "Building took 0.8892338275909424 seconds\n"
     ]
    },
    {
     "name": "stderr",
     "output_type": "stream",
     "text": [
      "Loading TIFFs: 100%|██████████| 41/41 [00:00<00:00, 289.49it/s]\n",
      "Computing candidate edges: 100%|██████████| 41/41 [00:00<00:00, 1622.14it/s]\n"
     ]
    },
    {
     "name": "stdout",
     "output_type": "stream",
     "text": [
      "Building took 0.6906082630157471 seconds\n"
     ]
    },
    {
     "name": "stderr",
     "output_type": "stream",
     "text": [
      "Loading TIFFs: 100%|██████████| 41/41 [00:00<00:00, 283.77it/s]\n",
      "Computing candidate edges: 100%|██████████| 70/70 [00:00<00:00, 1487.96it/s]\n"
     ]
    },
    {
     "name": "stdout",
     "output_type": "stream",
     "text": [
      "Building took 4.599991321563721 seconds\n"
     ]
    },
    {
     "name": "stderr",
     "output_type": "stream",
     "text": [
      "Loading TIFFs: 100%|██████████| 70/70 [00:00<00:00, 288.92it/s]\n",
      "Computing candidate edges: 100%|██████████| 44/44 [00:00<00:00, 1308.56it/s]\n"
     ]
    },
    {
     "name": "stdout",
     "output_type": "stream",
     "text": [
      "Building took 3.575653314590454 seconds\n"
     ]
    },
    {
     "name": "stderr",
     "output_type": "stream",
     "text": [
      "Loading TIFFs: 100%|██████████| 44/44 [00:00<00:00, 264.43it/s]\n",
      "Computing candidate edges: 100%|██████████| 41/41 [00:00<00:00, 789.36it/s]\n"
     ]
    },
    {
     "name": "stdout",
     "output_type": "stream",
     "text": [
      "Building took 1.603698968887329 seconds\n"
     ]
    },
    {
     "name": "stderr",
     "output_type": "stream",
     "text": [
      "Loading TIFFs: 100%|██████████| 41/41 [00:00<00:00, 285.21it/s]\n",
      "Computing candidate edges: 100%|██████████| 70/70 [00:00<00:00, 1441.87it/s]\n"
     ]
    },
    {
     "name": "stdout",
     "output_type": "stream",
     "text": [
      "Building took 3.4010720252990723 seconds\n"
     ]
    },
    {
     "name": "stderr",
     "output_type": "stream",
     "text": [
      "Loading TIFFs: 100%|██████████| 70/70 [00:00<00:00, 283.90it/s]\n",
      "Computing candidate edges: 100%|██████████| 70/70 [00:00<00:00, 1007.78it/s]\n"
     ]
    },
    {
     "name": "stdout",
     "output_type": "stream",
     "text": [
      "Building took 12.359518051147461 seconds\n"
     ]
    },
    {
     "name": "stderr",
     "output_type": "stream",
     "text": [
      "Loading TIFFs: 100%|██████████| 70/70 [00:00<00:00, 282.64it/s]\n",
      "Computing candidate edges: 100%|██████████| 70/70 [00:00<00:00, 1555.03it/s]\n"
     ]
    },
    {
     "name": "stdout",
     "output_type": "stream",
     "text": [
      "Building took 3.4252102375030518 seconds\n"
     ]
    },
    {
     "name": "stderr",
     "output_type": "stream",
     "text": [
      "Loading TIFFs: 100%|██████████| 70/70 [00:00<00:00, 283.96it/s]\n",
      "Computing candidate edges: 100%|██████████| 44/44 [00:00<00:00, 999.17it/s]\n"
     ]
    },
    {
     "name": "stdout",
     "output_type": "stream",
     "text": [
      "Building took 5.374978542327881 seconds\n"
     ]
    },
    {
     "name": "stderr",
     "output_type": "stream",
     "text": [
      "Loading TIFFs: 100%|██████████| 44/44 [00:00<00:00, 271.39it/s]\n",
      "Computing candidate edges: 100%|██████████| 70/70 [00:00<00:00, 1062.84it/s]\n"
     ]
    },
    {
     "name": "stdout",
     "output_type": "stream",
     "text": [
      "Building took 12.554091691970825 seconds\n"
     ]
    },
    {
     "name": "stderr",
     "output_type": "stream",
     "text": [
      "Loading TIFFs: 100%|██████████| 70/70 [00:00<00:00, 253.73it/s]\n",
      "Computing candidate edges: 100%|██████████| 41/41 [00:00<00:00, 1533.07it/s]\n"
     ]
    },
    {
     "name": "stdout",
     "output_type": "stream",
     "text": [
      "Building took 1.3162486553192139 seconds\n"
     ]
    },
    {
     "name": "stderr",
     "output_type": "stream",
     "text": [
      "Loading TIFFs: 100%|██████████| 41/41 [00:00<00:00, 279.13it/s]\n",
      "Computing candidate edges: 100%|██████████| 64/64 [00:00<00:00, 1347.85it/s]\n"
     ]
    },
    {
     "name": "stdout",
     "output_type": "stream",
     "text": [
      "Building took 5.610344648361206 seconds\n"
     ]
    },
    {
     "name": "stderr",
     "output_type": "stream",
     "text": [
      "Loading TIFFs: 100%|██████████| 64/64 [00:00<00:00, 286.16it/s]\n",
      "Computing candidate edges: 100%|██████████| 41/41 [00:00<00:00, 1452.38it/s]\n"
     ]
    },
    {
     "name": "stdout",
     "output_type": "stream",
     "text": [
      "Building took 0.8914742469787598 seconds\n"
     ]
    },
    {
     "name": "stderr",
     "output_type": "stream",
     "text": [
      "Loading TIFFs: 100%|██████████| 41/41 [00:00<00:00, 280.65it/s]\n",
      "Computing candidate edges: 100%|██████████| 64/64 [00:00<00:00, 1346.93it/s]\n"
     ]
    },
    {
     "name": "stdout",
     "output_type": "stream",
     "text": [
      "Building took 5.340966701507568 seconds\n"
     ]
    },
    {
     "name": "stderr",
     "output_type": "stream",
     "text": [
      "Loading TIFFs: 100%|██████████| 64/64 [00:00<00:00, 282.97it/s]\n",
      "Computing candidate edges: 100%|██████████| 70/70 [00:00<00:00, 1405.48it/s]\n"
     ]
    },
    {
     "name": "stdout",
     "output_type": "stream",
     "text": [
      "Building took 5.020999431610107 seconds\n"
     ]
    },
    {
     "name": "stderr",
     "output_type": "stream",
     "text": [
      "Loading TIFFs: 100%|██████████| 70/70 [00:00<00:00, 269.53it/s]\n",
      "Computing candidate edges: 100%|██████████| 54/54 [00:00<00:00, 1102.31it/s]\n"
     ]
    },
    {
     "name": "stdout",
     "output_type": "stream",
     "text": [
      "Building took 7.523025751113892 seconds\n"
     ]
    },
    {
     "name": "stderr",
     "output_type": "stream",
     "text": [
      "Loading TIFFs: 100%|██████████| 54/54 [00:00<00:00, 264.83it/s]\n",
      "Computing candidate edges: 100%|██████████| 64/64 [00:00<00:00, 1262.14it/s]\n"
     ]
    },
    {
     "name": "stdout",
     "output_type": "stream",
     "text": [
      "Building took 6.976387977600098 seconds\n"
     ]
    },
    {
     "name": "stderr",
     "output_type": "stream",
     "text": [
      "Loading TIFFs: 100%|██████████| 64/64 [00:00<00:00, 282.48it/s]\n",
      "Computing candidate edges: 100%|██████████| 49/49 [00:00<00:00, 1758.00it/s]\n"
     ]
    },
    {
     "name": "stdout",
     "output_type": "stream",
     "text": [
      "Building took 0.6735451221466064 seconds\n"
     ]
    },
    {
     "name": "stderr",
     "output_type": "stream",
     "text": [
      "Loading TIFFs: 100%|██████████| 49/49 [00:00<00:00, 289.39it/s]\n",
      "Computing candidate edges: 100%|██████████| 44/44 [00:00<00:00, 1174.27it/s]\n"
     ]
    },
    {
     "name": "stdout",
     "output_type": "stream",
     "text": [
      "Building took 3.8902699947357178 seconds\n"
     ]
    },
    {
     "name": "stderr",
     "output_type": "stream",
     "text": [
      "Loading TIFFs: 100%|██████████| 44/44 [00:00<00:00, 276.73it/s]\n",
      "Computing candidate edges: 100%|██████████| 41/41 [00:00<00:00, 1235.70it/s]\n"
     ]
    },
    {
     "name": "stdout",
     "output_type": "stream",
     "text": [
      "Building took 1.6876955032348633 seconds\n"
     ]
    },
    {
     "name": "stderr",
     "output_type": "stream",
     "text": [
      "Loading TIFFs: 100%|██████████| 41/41 [00:00<00:00, 282.34it/s]\n",
      "Computing candidate edges: 100%|██████████| 41/41 [00:00<00:00, 1435.43it/s]\n"
     ]
    },
    {
     "name": "stdout",
     "output_type": "stream",
     "text": [
      "Building took 1.2922430038452148 seconds\n"
     ]
    },
    {
     "name": "stderr",
     "output_type": "stream",
     "text": [
      "Loading TIFFs: 100%|██████████| 41/41 [00:00<00:00, 258.46it/s]\n",
      "Computing candidate edges: 100%|██████████| 41/41 [00:00<00:00, 1607.36it/s]\n"
     ]
    },
    {
     "name": "stdout",
     "output_type": "stream",
     "text": [
      "Building took 1.103773593902588 seconds\n"
     ]
    },
    {
     "name": "stderr",
     "output_type": "stream",
     "text": [
      "Loading TIFFs: 100%|██████████| 41/41 [00:00<00:00, 283.55it/s]\n",
      "Computing candidate edges: 100%|██████████| 41/41 [00:00<00:00, 1572.57it/s]\n"
     ]
    },
    {
     "name": "stdout",
     "output_type": "stream",
     "text": [
      "Building took 0.7415072917938232 seconds\n"
     ]
    },
    {
     "name": "stderr",
     "output_type": "stream",
     "text": [
      "Loading TIFFs: 100%|██████████| 41/41 [00:00<00:00, 279.42it/s]\n",
      "Computing candidate edges: 100%|██████████| 64/64 [00:00<00:00, 1158.87it/s]\n"
     ]
    },
    {
     "name": "stdout",
     "output_type": "stream",
     "text": [
      "Building took 5.823819637298584 seconds\n"
     ]
    },
    {
     "name": "stderr",
     "output_type": "stream",
     "text": [
      "Loading TIFFs: 100%|██████████| 64/64 [00:00<00:00, 286.53it/s]\n",
      "Computing candidate edges: 100%|██████████| 54/54 [00:00<00:00, 1072.14it/s]\n"
     ]
    },
    {
     "name": "stdout",
     "output_type": "stream",
     "text": [
      "Building took 7.955942630767822 seconds\n"
     ]
    },
    {
     "name": "stderr",
     "output_type": "stream",
     "text": [
      "Loading TIFFs: 100%|██████████| 54/54 [00:00<00:00, 247.33it/s]\n",
      "Computing candidate edges: 100%|██████████| 41/41 [00:00<00:00, 1464.54it/s]\n"
     ]
    },
    {
     "name": "stdout",
     "output_type": "stream",
     "text": [
      "Building took 1.0908474922180176 seconds\n"
     ]
    },
    {
     "name": "stderr",
     "output_type": "stream",
     "text": [
      "Loading TIFFs: 100%|██████████| 41/41 [00:00<00:00, 282.66it/s]\n",
      "Computing candidate edges: 100%|██████████| 41/41 [00:00<00:00, 1403.57it/s]\n"
     ]
    },
    {
     "name": "stdout",
     "output_type": "stream",
     "text": [
      "Building took 0.5450398921966553 seconds\n"
     ]
    },
    {
     "name": "stderr",
     "output_type": "stream",
     "text": [
      "Loading TIFFs: 100%|██████████| 41/41 [00:00<00:00, 276.30it/s]\n",
      "Computing candidate edges: 100%|██████████| 41/41 [00:00<00:00, 1666.37it/s]\n"
     ]
    },
    {
     "name": "stdout",
     "output_type": "stream",
     "text": [
      "Building took 0.4348151683807373 seconds\n"
     ]
    },
    {
     "name": "stderr",
     "output_type": "stream",
     "text": [
      "Loading TIFFs: 100%|██████████| 41/41 [00:00<00:00, 278.70it/s]\n",
      "Computing candidate edges: 100%|██████████| 41/41 [00:00<00:00, 1534.58it/s]\n"
     ]
    },
    {
     "name": "stdout",
     "output_type": "stream",
     "text": [
      "Building took 0.9412181377410889 seconds\n"
     ]
    },
    {
     "name": "stderr",
     "output_type": "stream",
     "text": [
      "Loading TIFFs: 100%|██████████| 41/41 [00:00<00:00, 276.20it/s]\n",
      "Computing candidate edges: 100%|██████████| 41/41 [00:00<00:00, 1631.31it/s]\n"
     ]
    },
    {
     "name": "stdout",
     "output_type": "stream",
     "text": [
      "Building took 0.781480073928833 seconds\n"
     ]
    },
    {
     "name": "stderr",
     "output_type": "stream",
     "text": [
      "Loading TIFFs: 100%|██████████| 41/41 [00:00<00:00, 256.30it/s]\n",
      "Computing candidate edges: 100%|██████████| 64/64 [00:00<00:00, 1231.65it/s]\n"
     ]
    },
    {
     "name": "stdout",
     "output_type": "stream",
     "text": [
      "Building took 6.965390205383301 seconds\n"
     ]
    },
    {
     "name": "stderr",
     "output_type": "stream",
     "text": [
      "Loading TIFFs: 100%|██████████| 64/64 [00:00<00:00, 267.30it/s]\n",
      "Computing candidate edges: 100%|██████████| 49/49 [00:00<00:00, 1775.08it/s]\n"
     ]
    },
    {
     "name": "stdout",
     "output_type": "stream",
     "text": [
      "Building took 0.15015721321105957 seconds\n"
     ]
    },
    {
     "name": "stderr",
     "output_type": "stream",
     "text": [
      "Loading TIFFs: 100%|██████████| 49/49 [00:00<00:00, 280.42it/s]\n",
      "Computing candidate edges: 100%|██████████| 70/70 [00:00<00:00, 944.12it/s]\n"
     ]
    },
    {
     "name": "stdout",
     "output_type": "stream",
     "text": [
      "Building took 11.39510703086853 seconds\n"
     ]
    },
    {
     "name": "stderr",
     "output_type": "stream",
     "text": [
      "Loading TIFFs: 100%|██████████| 70/70 [00:00<00:00, 234.44it/s]\n",
      "Computing candidate edges: 100%|██████████| 44/44 [00:00<00:00, 1292.69it/s]\n"
     ]
    },
    {
     "name": "stdout",
     "output_type": "stream",
     "text": [
      "Building took 2.960247039794922 seconds\n"
     ]
    },
    {
     "name": "stderr",
     "output_type": "stream",
     "text": [
      "Loading TIFFs: 100%|██████████| 44/44 [00:00<00:00, 270.45it/s]\n",
      "Computing candidate edges: 100%|██████████| 41/41 [00:00<00:00, 836.81it/s]\n"
     ]
    },
    {
     "name": "stdout",
     "output_type": "stream",
     "text": [
      "Building took 0.6475818157196045 seconds\n"
     ]
    },
    {
     "name": "stderr",
     "output_type": "stream",
     "text": [
      "Loading TIFFs: 100%|██████████| 41/41 [00:00<00:00, 269.11it/s]\n",
      "Computing candidate edges: 100%|██████████| 49/49 [00:00<00:00, 1636.03it/s]\n"
     ]
    },
    {
     "name": "stdout",
     "output_type": "stream",
     "text": [
      "Building took 0.30198144912719727 seconds\n"
     ]
    },
    {
     "name": "stderr",
     "output_type": "stream",
     "text": [
      "Loading TIFFs: 100%|██████████| 49/49 [00:00<00:00, 286.03it/s]\n",
      "Computing candidate edges: 100%|██████████| 70/70 [00:00<00:00, 1607.95it/s]\n"
     ]
    },
    {
     "name": "stdout",
     "output_type": "stream",
     "text": [
      "Building took 3.9232101440429688 seconds\n"
     ]
    },
    {
     "name": "stderr",
     "output_type": "stream",
     "text": [
      "Loading TIFFs: 100%|██████████| 70/70 [00:00<00:00, 264.03it/s]\n",
      "Computing candidate edges: 100%|██████████| 54/54 [00:00<00:00, 1151.31it/s]\n"
     ]
    },
    {
     "name": "stdout",
     "output_type": "stream",
     "text": [
      "Building took 7.373131275177002 seconds\n"
     ]
    },
    {
     "name": "stderr",
     "output_type": "stream",
     "text": [
      "Loading TIFFs: 100%|██████████| 54/54 [00:00<00:00, 259.01it/s]\n",
      "Computing candidate edges: 100%|██████████| 41/41 [00:00<00:00, 938.54it/s]\n"
     ]
    },
    {
     "name": "stdout",
     "output_type": "stream",
     "text": [
      "Building took 1.6258375644683838 seconds\n"
     ]
    },
    {
     "name": "stderr",
     "output_type": "stream",
     "text": [
      "Loading TIFFs: 100%|██████████| 41/41 [00:00<00:00, 273.04it/s]\n",
      "Computing candidate edges: 100%|██████████| 269/269 [00:00<00:00, 1006.33it/s]\n"
     ]
    },
    {
     "name": "stdout",
     "output_type": "stream",
     "text": [
      "Building took 39.65986680984497 seconds\n"
     ]
    },
    {
     "name": "stderr",
     "output_type": "stream",
     "text": [
      "Loading TIFFs: 100%|██████████| 269/269 [00:03<00:00, 72.88it/s]\n",
      "Computing candidate edges: 100%|██████████| 20/20 [00:00<00:00, 1218.92it/s]\n"
     ]
    },
    {
     "name": "stdout",
     "output_type": "stream",
     "text": [
      "Building took 1.9049017429351807 seconds\n"
     ]
    },
    {
     "name": "stderr",
     "output_type": "stream",
     "text": [
      "Loading TIFFs: 100%|██████████| 20/20 [00:00<00:00, 207.30it/s]\n",
      "Computing candidate edges: 100%|██████████| 25/25 [00:00<00:00, 950.95it/s]\n"
     ]
    },
    {
     "name": "stdout",
     "output_type": "stream",
     "text": [
      "Building took 1.6278183460235596 seconds\n"
     ]
    },
    {
     "name": "stderr",
     "output_type": "stream",
     "text": [
      "Loading TIFFs: 100%|██████████| 25/25 [00:00<00:00, 863.74it/s]\n",
      "Computing candidate edges: 100%|██████████| 212/212 [00:00<00:00, 1743.35it/s]\n"
     ]
    },
    {
     "name": "stdout",
     "output_type": "stream",
     "text": [
      "Building took 5.206654787063599 seconds\n"
     ]
    },
    {
     "name": "stderr",
     "output_type": "stream",
     "text": [
      "Loading TIFFs: 100%|██████████| 212/212 [00:01<00:00, 200.68it/s]\n",
      "Computing candidate edges: 100%|██████████| 212/212 [00:00<00:00, 1880.17it/s]\n"
     ]
    },
    {
     "name": "stdout",
     "output_type": "stream",
     "text": [
      "Building took 4.81370210647583 seconds\n"
     ]
    },
    {
     "name": "stderr",
     "output_type": "stream",
     "text": [
      "Loading TIFFs: 100%|██████████| 212/212 [00:01<00:00, 207.82it/s]\n",
      "Computing candidate edges: 100%|██████████| 212/212 [00:00<00:00, 1835.34it/s]\n"
     ]
    },
    {
     "name": "stdout",
     "output_type": "stream",
     "text": [
      "Building took 3.0170364379882812 seconds\n"
     ]
    },
    {
     "name": "stderr",
     "output_type": "stream",
     "text": [
      "Loading TIFFs: 100%|██████████| 212/212 [00:01<00:00, 204.23it/s]\n",
      "Computing candidate edges: 100%|██████████| 212/212 [00:00<00:00, 1804.14it/s]\n"
     ]
    },
    {
     "name": "stdout",
     "output_type": "stream",
     "text": [
      "Building took 3.3230783939361572 seconds\n"
     ]
    },
    {
     "name": "stderr",
     "output_type": "stream",
     "text": [
      "Loading TIFFs: 100%|██████████| 212/212 [00:01<00:00, 206.93it/s]\n",
      "Computing candidate edges: 100%|██████████| 212/212 [00:00<00:00, 1902.48it/s]\n"
     ]
    },
    {
     "name": "stdout",
     "output_type": "stream",
     "text": [
      "Building took 2.619795322418213 seconds\n"
     ]
    },
    {
     "name": "stderr",
     "output_type": "stream",
     "text": [
      "Loading TIFFs: 100%|██████████| 212/212 [00:01<00:00, 200.35it/s]\n",
      "Computing candidate edges: 100%|██████████| 202/202 [00:00<00:00, 1735.83it/s]\n"
     ]
    },
    {
     "name": "stdout",
     "output_type": "stream",
     "text": [
      "Building took 4.125168323516846 seconds\n"
     ]
    },
    {
     "name": "stderr",
     "output_type": "stream",
     "text": [
      "Loading TIFFs: 100%|██████████| 202/202 [00:00<00:00, 203.52it/s]\n",
      "Computing candidate edges: 100%|██████████| 202/202 [00:00<00:00, 1809.56it/s]\n"
     ]
    },
    {
     "name": "stdout",
     "output_type": "stream",
     "text": [
      "Building took 4.480944395065308 seconds\n"
     ]
    },
    {
     "name": "stderr",
     "output_type": "stream",
     "text": [
      "Loading TIFFs: 100%|██████████| 202/202 [00:00<00:00, 204.55it/s]\n",
      "Computing candidate edges: 100%|██████████| 202/202 [00:00<00:00, 1808.30it/s]\n"
     ]
    },
    {
     "name": "stdout",
     "output_type": "stream",
     "text": [
      "Building took 3.9901583194732666 seconds\n"
     ]
    },
    {
     "name": "stderr",
     "output_type": "stream",
     "text": [
      "Loading TIFFs: 100%|██████████| 202/202 [00:00<00:00, 208.31it/s]\n",
      "Computing candidate edges: 100%|██████████| 202/202 [00:00<00:00, 1812.24it/s]\n"
     ]
    },
    {
     "name": "stdout",
     "output_type": "stream",
     "text": [
      "Building took 3.0373711585998535 seconds\n"
     ]
    },
    {
     "name": "stderr",
     "output_type": "stream",
     "text": [
      "Loading TIFFs: 100%|██████████| 202/202 [00:00<00:00, 202.47it/s]\n",
      "Computing candidate edges: 100%|██████████| 202/202 [00:00<00:00, 1762.43it/s]\n"
     ]
    },
    {
     "name": "stdout",
     "output_type": "stream",
     "text": [
      "Building took 3.8401522636413574 seconds\n"
     ]
    },
    {
     "name": "stderr",
     "output_type": "stream",
     "text": [
      "Loading TIFFs: 100%|██████████| 202/202 [00:01<00:00, 198.41it/s]\n",
      "Computing candidate edges: 100%|██████████| 202/202 [00:00<00:00, 1845.36it/s]\n"
     ]
    },
    {
     "name": "stdout",
     "output_type": "stream",
     "text": [
      "Building took 3.794307231903076 seconds\n"
     ]
    },
    {
     "name": "stderr",
     "output_type": "stream",
     "text": [
      "Loading TIFFs: 100%|██████████| 202/202 [00:00<00:00, 207.43it/s]\n",
      "Computing candidate edges: 100%|██████████| 369/369 [00:00<00:00, 721.36it/s]\n"
     ]
    },
    {
     "name": "stdout",
     "output_type": "stream",
     "text": [
      "Building took 93.17027163505554 seconds\n"
     ]
    },
    {
     "name": "stderr",
     "output_type": "stream",
     "text": [
      "Loading TIFFs: 100%|██████████| 369/369 [00:04<00:00, 87.70it/s]\n",
      "Computing candidate edges: 100%|██████████| 399/399 [00:00<00:00, 670.93it/s]\n"
     ]
    },
    {
     "name": "stdout",
     "output_type": "stream",
     "text": [
      "Building took 107.1599509716034 seconds\n"
     ]
    },
    {
     "name": "stderr",
     "output_type": "stream",
     "text": [
      "Loading TIFFs: 100%|██████████| 399/399 [00:04<00:00, 88.13it/s]\n",
      "Computing candidate edges: 100%|██████████| 375/375 [00:00<00:00, 706.26it/s]\n"
     ]
    },
    {
     "name": "stdout",
     "output_type": "stream",
     "text": [
      "Building took 98.23712539672852 seconds\n"
     ]
    },
    {
     "name": "stderr",
     "output_type": "stream",
     "text": [
      "Loading TIFFs: 100%|██████████| 375/375 [00:04<00:00, 88.14it/s]\n",
      "Computing candidate edges: 100%|██████████| 159/159 [00:00<00:00, 1352.39it/s]\n"
     ]
    },
    {
     "name": "stdout",
     "output_type": "stream",
     "text": [
      "Building took 11.867555856704712 seconds\n"
     ]
    },
    {
     "name": "stderr",
     "output_type": "stream",
     "text": [
      "Loading TIFFs: 100%|██████████| 159/159 [00:00<00:00, 637.22it/s]\n",
      "Computing candidate edges: 100%|██████████| 159/159 [00:00<00:00, 889.34it/s]\n"
     ]
    },
    {
     "name": "stdout",
     "output_type": "stream",
     "text": [
      "Building took 34.221214294433594 seconds\n"
     ]
    },
    {
     "name": "stderr",
     "output_type": "stream",
     "text": [
      "Loading TIFFs: 100%|██████████| 159/159 [00:00<00:00, 583.26it/s]\n",
      "Computing candidate edges: 100%|██████████| 159/159 [00:00<00:00, 658.97it/s]\n"
     ]
    },
    {
     "name": "stdout",
     "output_type": "stream",
     "text": [
      "Building took 55.962387561798096 seconds\n"
     ]
    },
    {
     "name": "stderr",
     "output_type": "stream",
     "text": [
      "Loading TIFFs: 100%|██████████| 159/159 [00:00<00:00, 398.49it/s]\n",
      "Computing candidate edges: 100%|██████████| 76/76 [00:00<00:00, 1693.17it/s]\n"
     ]
    },
    {
     "name": "stdout",
     "output_type": "stream",
     "text": [
      "Building took 2.9189436435699463 seconds\n"
     ]
    },
    {
     "name": "stderr",
     "output_type": "stream",
     "text": [
      "Loading TIFFs: 100%|██████████| 76/76 [00:00<00:00, 241.87it/s]\n",
      "Computing candidate edges: 100%|██████████| 54/54 [00:00<00:00, 1463.02it/s]\n"
     ]
    },
    {
     "name": "stdout",
     "output_type": "stream",
     "text": [
      "Building took 1.1622004508972168 seconds\n"
     ]
    },
    {
     "name": "stderr",
     "output_type": "stream",
     "text": [
      "Loading TIFFs: 100%|██████████| 54/54 [00:00<00:00, 375.91it/s]\n",
      "Computing candidate edges: 100%|██████████| 69/69 [00:00<00:00, 1009.45it/s]\n"
     ]
    },
    {
     "name": "stdout",
     "output_type": "stream",
     "text": [
      "Building took 1.8223836421966553 seconds\n"
     ]
    },
    {
     "name": "stderr",
     "output_type": "stream",
     "text": [
      "Loading TIFFs: 100%|██████████| 69/69 [00:00<00:00, 273.99it/s]\n",
      "Computing candidate edges: 100%|██████████| 68/68 [00:00<00:00, 1441.12it/s]\n"
     ]
    },
    {
     "name": "stdout",
     "output_type": "stream",
     "text": [
      "Building took 3.7006633281707764 seconds\n"
     ]
    },
    {
     "name": "stderr",
     "output_type": "stream",
     "text": [
      "Loading TIFFs: 100%|██████████| 68/68 [00:00<00:00, 230.81it/s]\n",
      "Computing candidate edges: 100%|██████████| 57/57 [00:00<00:00, 1643.85it/s]\n"
     ]
    },
    {
     "name": "stdout",
     "output_type": "stream",
     "text": [
      "Building took 1.235159158706665 seconds\n"
     ]
    },
    {
     "name": "stderr",
     "output_type": "stream",
     "text": [
      "Loading TIFFs: 100%|██████████| 57/57 [00:00<00:00, 346.93it/s]\n",
      "Computing candidate edges: 100%|██████████| 92/92 [00:00<00:00, 1637.57it/s]\n"
     ]
    },
    {
     "name": "stdout",
     "output_type": "stream",
     "text": [
      "Building took 2.819835901260376 seconds\n"
     ]
    },
    {
     "name": "stderr",
     "output_type": "stream",
     "text": [
      "Loading TIFFs: 100%|██████████| 92/92 [00:00<00:00, 358.36it/s]\n",
      "Computing candidate edges: 100%|██████████| 106/106 [00:00<00:00, 1858.45it/s]\n"
     ]
    },
    {
     "name": "stdout",
     "output_type": "stream",
     "text": [
      "Building took 1.0906686782836914 seconds\n"
     ]
    },
    {
     "name": "stderr",
     "output_type": "stream",
     "text": [
      "Loading TIFFs: 100%|██████████| 106/106 [00:00<00:00, 476.72it/s]\n",
      "Computing candidate edges: 100%|██████████| 68/68 [00:00<00:00, 1744.21it/s]\n"
     ]
    },
    {
     "name": "stdout",
     "output_type": "stream",
     "text": [
      "Building took 1.4087436199188232 seconds\n"
     ]
    },
    {
     "name": "stderr",
     "output_type": "stream",
     "text": [
      "Loading TIFFs: 100%|██████████| 68/68 [00:00<00:00, 403.16it/s]\n",
      "Computing candidate edges: 100%|██████████| 83/83 [00:00<00:00, 1640.69it/s]\n"
     ]
    },
    {
     "name": "stdout",
     "output_type": "stream",
     "text": [
      "Building took 2.365873336791992 seconds\n"
     ]
    },
    {
     "name": "stderr",
     "output_type": "stream",
     "text": [
      "Loading TIFFs: 100%|██████████| 83/83 [00:00<00:00, 367.19it/s]\n",
      "Computing candidate edges: 100%|██████████| 78/78 [00:00<00:00, 1284.63it/s]\n"
     ]
    },
    {
     "name": "stdout",
     "output_type": "stream",
     "text": [
      "Building took 1.8998324871063232 seconds\n"
     ]
    },
    {
     "name": "stderr",
     "output_type": "stream",
     "text": [
      "Loading TIFFs: 100%|██████████| 78/78 [00:00<00:00, 462.02it/s]\n",
      "Computing candidate edges: 100%|██████████| 96/96 [00:00<00:00, 1730.71it/s]\n"
     ]
    },
    {
     "name": "stdout",
     "output_type": "stream",
     "text": [
      "Building took 2.467460870742798 seconds\n"
     ]
    },
    {
     "name": "stderr",
     "output_type": "stream",
     "text": [
      "Loading TIFFs: 100%|██████████| 96/96 [00:00<00:00, 387.97it/s]\n",
      "Computing candidate edges: 100%|██████████| 23/23 [00:00<00:00, 1457.59it/s]\n"
     ]
    },
    {
     "name": "stdout",
     "output_type": "stream",
     "text": [
      "Building took 1.062969446182251 seconds\n"
     ]
    },
    {
     "name": "stderr",
     "output_type": "stream",
     "text": [
      "Loading TIFFs: 100%|██████████| 23/23 [00:00<00:00, 213.58it/s]\n",
      "Computing candidate edges: 100%|██████████| 69/69 [00:00<00:00, 1498.62it/s]\n"
     ]
    },
    {
     "name": "stdout",
     "output_type": "stream",
     "text": [
      "Building took 2.9141173362731934 seconds\n"
     ]
    },
    {
     "name": "stderr",
     "output_type": "stream",
     "text": [
      "Loading TIFFs: 100%|██████████| 69/69 [00:00<00:00, 244.81it/s]\n",
      "Computing candidate edges: 100%|██████████| 49/49 [00:00<00:00, 1360.03it/s]\n"
     ]
    },
    {
     "name": "stdout",
     "output_type": "stream",
     "text": [
      "Building took 3.3576130867004395 seconds\n"
     ]
    },
    {
     "name": "stderr",
     "output_type": "stream",
     "text": [
      "Loading TIFFs: 100%|██████████| 49/49 [00:00<00:00, 290.25it/s]\n",
      "Computing candidate edges: 100%|██████████| 53/53 [00:00<00:00, 1395.05it/s]\n"
     ]
    },
    {
     "name": "stdout",
     "output_type": "stream",
     "text": [
      "Building took 2.9724233150482178 seconds\n"
     ]
    },
    {
     "name": "stderr",
     "output_type": "stream",
     "text": [
      "Loading TIFFs: 100%|██████████| 53/53 [00:00<00:00, 299.62it/s]\n",
      "Computing candidate edges: 100%|██████████| 33/33 [00:00<00:00, 1424.51it/s]\n"
     ]
    },
    {
     "name": "stdout",
     "output_type": "stream",
     "text": [
      "Building took 0.8664312362670898 seconds\n"
     ]
    },
    {
     "name": "stderr",
     "output_type": "stream",
     "text": [
      "Loading TIFFs: 100%|██████████| 33/33 [00:00<00:00, 278.75it/s]\n",
      "Computing candidate edges: 100%|██████████| 61/61 [00:00<00:00, 1679.99it/s]\n"
     ]
    },
    {
     "name": "stdout",
     "output_type": "stream",
     "text": [
      "Building took 1.8176124095916748 seconds\n"
     ]
    },
    {
     "name": "stderr",
     "output_type": "stream",
     "text": [
      "Loading TIFFs: 100%|██████████| 61/61 [00:00<00:00, 324.68it/s]\n",
      "Computing candidate edges: 100%|██████████| 55/55 [00:00<00:00, 1483.72it/s]\n"
     ]
    },
    {
     "name": "stdout",
     "output_type": "stream",
     "text": [
      "Building took 2.512831926345825 seconds\n"
     ]
    },
    {
     "name": "stderr",
     "output_type": "stream",
     "text": [
      "Loading TIFFs: 100%|██████████| 55/55 [00:00<00:00, 337.16it/s]\n",
      "Computing candidate edges: 100%|██████████| 75/75 [00:00<00:00, 1127.08it/s]\n"
     ]
    },
    {
     "name": "stdout",
     "output_type": "stream",
     "text": [
      "Building took 0.7406096458435059 seconds\n"
     ]
    },
    {
     "name": "stderr",
     "output_type": "stream",
     "text": [
      "Loading TIFFs: 100%|██████████| 75/75 [00:00<00:00, 295.55it/s]\n",
      "Computing candidate edges: 100%|██████████| 91/91 [00:00<00:00, 763.16it/s]\n"
     ]
    },
    {
     "name": "stdout",
     "output_type": "stream",
     "text": [
      "Building took 4.882411479949951 seconds\n"
     ]
    },
    {
     "name": "stderr",
     "output_type": "stream",
     "text": [
      "Loading TIFFs: 100%|██████████| 91/91 [00:00<00:00, 231.82it/s]\n",
      "Computing candidate edges: 100%|██████████| 28/28 [00:00<00:00, 1203.63it/s]\n"
     ]
    },
    {
     "name": "stdout",
     "output_type": "stream",
     "text": [
      "Building took 0.39786815643310547 seconds\n"
     ]
    },
    {
     "name": "stderr",
     "output_type": "stream",
     "text": [
      "Loading TIFFs: 100%|██████████| 28/28 [00:00<00:00, 285.19it/s]\n",
      "Computing candidate edges: 100%|██████████| 50/50 [00:00<00:00, 1474.26it/s]\n"
     ]
    },
    {
     "name": "stdout",
     "output_type": "stream",
     "text": [
      "Building took 1.6359882354736328 seconds\n"
     ]
    },
    {
     "name": "stderr",
     "output_type": "stream",
     "text": [
      "Loading TIFFs: 100%|██████████| 50/50 [00:00<00:00, 203.79it/s]\n",
      "Computing candidate edges: 100%|██████████| 54/54 [00:00<00:00, 1519.71it/s]\n"
     ]
    },
    {
     "name": "stdout",
     "output_type": "stream",
     "text": [
      "Building took 1.9263453483581543 seconds\n"
     ]
    },
    {
     "name": "stderr",
     "output_type": "stream",
     "text": [
      "Loading TIFFs: 100%|██████████| 54/54 [00:00<00:00, 192.61it/s]\n",
      "Computing candidate edges: 100%|██████████| 62/62 [00:00<00:00, 1589.47it/s]\n"
     ]
    },
    {
     "name": "stdout",
     "output_type": "stream",
     "text": [
      "Building took 1.8466856479644775 seconds\n"
     ]
    },
    {
     "name": "stderr",
     "output_type": "stream",
     "text": [
      "Loading TIFFs: 100%|██████████| 62/62 [00:00<00:00, 203.32it/s]\n",
      "Computing candidate edges: 100%|██████████| 54/54 [00:00<00:00, 1687.52it/s]\n"
     ]
    },
    {
     "name": "stdout",
     "output_type": "stream",
     "text": [
      "Building took 1.1976981163024902 seconds\n"
     ]
    },
    {
     "name": "stderr",
     "output_type": "stream",
     "text": [
      "Loading TIFFs: 100%|██████████| 54/54 [00:00<00:00, 271.53it/s]\n",
      "Computing candidate edges: 100%|██████████| 52/52 [00:00<00:00, 1408.16it/s]\n"
     ]
    },
    {
     "name": "stdout",
     "output_type": "stream",
     "text": [
      "Building took 1.9883038997650146 seconds\n"
     ]
    },
    {
     "name": "stderr",
     "output_type": "stream",
     "text": [
      "Loading TIFFs: 100%|██████████| 52/52 [00:00<00:00, 254.57it/s]\n",
      "Computing candidate edges: 100%|██████████| 52/52 [00:00<00:00, 1512.79it/s]\n"
     ]
    },
    {
     "name": "stdout",
     "output_type": "stream",
     "text": [
      "Building took 2.3012351989746094 seconds\n"
     ]
    },
    {
     "name": "stderr",
     "output_type": "stream",
     "text": [
      "Loading TIFFs: 100%|██████████| 52/52 [00:00<00:00, 214.59it/s]\n",
      "Computing candidate edges: 100%|██████████| 54/54 [00:00<00:00, 1553.54it/s]\n"
     ]
    },
    {
     "name": "stdout",
     "output_type": "stream",
     "text": [
      "Building took 1.2205877304077148 seconds\n"
     ]
    },
    {
     "name": "stderr",
     "output_type": "stream",
     "text": [
      "Loading TIFFs: 100%|██████████| 54/54 [00:00<00:00, 287.38it/s]\n",
      "Computing candidate edges: 100%|██████████| 59/59 [00:00<00:00, 1483.15it/s]\n"
     ]
    },
    {
     "name": "stdout",
     "output_type": "stream",
     "text": [
      "Building took 1.3633129596710205 seconds\n"
     ]
    },
    {
     "name": "stderr",
     "output_type": "stream",
     "text": [
      "Loading TIFFs: 100%|██████████| 59/59 [00:00<00:00, 236.37it/s]\n",
      "Computing candidate edges: 100%|██████████| 62/62 [00:00<00:00, 1601.64it/s]\n"
     ]
    },
    {
     "name": "stdout",
     "output_type": "stream",
     "text": [
      "Building took 1.6238226890563965 seconds\n"
     ]
    },
    {
     "name": "stderr",
     "output_type": "stream",
     "text": [
      "Loading TIFFs: 100%|██████████| 62/62 [00:00<00:00, 246.57it/s]\n",
      "Computing candidate edges: 100%|██████████| 54/54 [00:00<00:00, 1539.50it/s]\n"
     ]
    },
    {
     "name": "stdout",
     "output_type": "stream",
     "text": [
      "Building took 1.1224312782287598 seconds\n"
     ]
    },
    {
     "name": "stderr",
     "output_type": "stream",
     "text": [
      "Loading TIFFs: 100%|██████████| 54/54 [00:00<00:00, 217.15it/s]\n",
      "Computing candidate edges: 100%|██████████| 18/18 [00:00<00:00, 1702.66it/s]\n"
     ]
    },
    {
     "name": "stdout",
     "output_type": "stream",
     "text": [
      "Building took 0.36578989028930664 seconds\n"
     ]
    },
    {
     "name": "stderr",
     "output_type": "stream",
     "text": [
      "Loading TIFFs: 100%|██████████| 18/18 [00:00<00:00, 238.70it/s]\n",
      "Computing candidate edges: 100%|██████████| 19/19 [00:00<00:00, 1357.87it/s]\n"
     ]
    },
    {
     "name": "stdout",
     "output_type": "stream",
     "text": [
      "Building took 0.3909463882446289 seconds\n"
     ]
    },
    {
     "name": "stderr",
     "output_type": "stream",
     "text": [
      "Loading TIFFs: 100%|██████████| 19/19 [00:00<00:00, 279.48it/s]\n",
      "Computing candidate edges: 100%|██████████| 22/22 [00:00<00:00, 832.76it/s]\n"
     ]
    },
    {
     "name": "stdout",
     "output_type": "stream",
     "text": [
      "Building took 0.948875904083252 seconds\n"
     ]
    },
    {
     "name": "stderr",
     "output_type": "stream",
     "text": [
      "Loading TIFFs: 100%|██████████| 22/22 [00:00<00:00, 189.50it/s]\n",
      "Computing candidate edges: 100%|██████████| 22/22 [00:00<00:00, 1336.40it/s]\n"
     ]
    },
    {
     "name": "stdout",
     "output_type": "stream",
     "text": [
      "Building took 0.5081150531768799 seconds\n"
     ]
    },
    {
     "name": "stderr",
     "output_type": "stream",
     "text": [
      "Loading TIFFs: 100%|██████████| 22/22 [00:00<00:00, 271.27it/s]\n",
      "Computing candidate edges: 100%|██████████| 20/20 [00:00<00:00, 1342.48it/s]\n"
     ]
    },
    {
     "name": "stdout",
     "output_type": "stream",
     "text": [
      "Building took 0.5745279788970947 seconds\n"
     ]
    },
    {
     "name": "stderr",
     "output_type": "stream",
     "text": [
      "Loading TIFFs: 100%|██████████| 20/20 [00:00<00:00, 229.44it/s]\n",
      "Computing candidate edges: 100%|██████████| 22/22 [00:00<00:00, 1479.61it/s]\n"
     ]
    },
    {
     "name": "stdout",
     "output_type": "stream",
     "text": [
      "Building took 0.265425443649292 seconds\n"
     ]
    },
    {
     "name": "stderr",
     "output_type": "stream",
     "text": [
      "Loading TIFFs: 100%|██████████| 22/22 [00:00<00:00, 352.01it/s]\n",
      "Computing candidate edges: 100%|██████████| 23/23 [00:00<00:00, 1350.31it/s]\n"
     ]
    },
    {
     "name": "stdout",
     "output_type": "stream",
     "text": [
      "Building took 0.7454144954681396 seconds\n"
     ]
    },
    {
     "name": "stderr",
     "output_type": "stream",
     "text": [
      "Loading TIFFs: 100%|██████████| 23/23 [00:00<00:00, 258.56it/s]\n",
      "Computing candidate edges: 100%|██████████| 30/30 [00:00<00:00, 1667.23it/s]\n"
     ]
    },
    {
     "name": "stdout",
     "output_type": "stream",
     "text": [
      "Building took 0.12100100517272949 seconds\n"
     ]
    },
    {
     "name": "stderr",
     "output_type": "stream",
     "text": [
      "Loading TIFFs: 100%|██████████| 30/30 [00:00<00:00, 130.24it/s]\n",
      "Computing candidate edges: 100%|██████████| 38/38 [00:00<00:00, 1375.15it/s]\n"
     ]
    },
    {
     "name": "stdout",
     "output_type": "stream",
     "text": [
      "Building took 0.4732673168182373 seconds\n"
     ]
    },
    {
     "name": "stderr",
     "output_type": "stream",
     "text": [
      "Loading TIFFs: 100%|██████████| 38/38 [00:00<00:00, 144.97it/s]\n",
      "Computing candidate edges: 100%|██████████| 24/24 [00:00<00:00, 1896.16it/s]\n"
     ]
    },
    {
     "name": "stdout",
     "output_type": "stream",
     "text": [
      "Building took 0.09794497489929199 seconds\n"
     ]
    },
    {
     "name": "stderr",
     "output_type": "stream",
     "text": [
      "Loading TIFFs: 100%|██████████| 24/24 [00:00<00:00, 138.58it/s]\n",
      "Computing candidate edges: 100%|██████████| 30/30 [00:00<00:00, 1655.32it/s]\n"
     ]
    },
    {
     "name": "stdout",
     "output_type": "stream",
     "text": [
      "Building took 0.10919928550720215 seconds\n"
     ]
    },
    {
     "name": "stderr",
     "output_type": "stream",
     "text": [
      "Loading TIFFs: 100%|██████████| 30/30 [00:00<00:00, 145.34it/s]\n",
      "Computing candidate edges: 100%|██████████| 49/49 [00:00<00:00, 1681.87it/s]\n"
     ]
    },
    {
     "name": "stdout",
     "output_type": "stream",
     "text": [
      "Building took 0.7401769161224365 seconds\n"
     ]
    },
    {
     "name": "stderr",
     "output_type": "stream",
     "text": [
      "Loading TIFFs: 100%|██████████| 49/49 [00:00<00:00, 139.96it/s]\n",
      "Computing candidate edges: 100%|██████████| 26/26 [00:00<00:00, 1597.71it/s]\n"
     ]
    },
    {
     "name": "stdout",
     "output_type": "stream",
     "text": [
      "Building took 0.16201329231262207 seconds\n"
     ]
    },
    {
     "name": "stderr",
     "output_type": "stream",
     "text": [
      "Loading TIFFs: 100%|██████████| 26/26 [00:00<00:00, 140.15it/s]\n",
      "Computing candidate edges: 100%|██████████| 44/44 [00:00<00:00, 1722.65it/s]\n"
     ]
    },
    {
     "name": "stdout",
     "output_type": "stream",
     "text": [
      "Building took 0.44700026512145996 seconds\n"
     ]
    },
    {
     "name": "stderr",
     "output_type": "stream",
     "text": [
      "Loading TIFFs: 100%|██████████| 44/44 [00:00<00:00, 146.68it/s]\n",
      "Computing candidate edges: 100%|██████████| 39/39 [00:00<00:00, 1685.24it/s]\n"
     ]
    },
    {
     "name": "stdout",
     "output_type": "stream",
     "text": [
      "Building took 0.45204925537109375 seconds\n"
     ]
    },
    {
     "name": "stderr",
     "output_type": "stream",
     "text": [
      "Loading TIFFs: 100%|██████████| 39/39 [00:00<00:00, 145.37it/s]\n",
      "Computing candidate edges: 100%|██████████| 30/30 [00:00<00:00, 1758.67it/s]\n"
     ]
    },
    {
     "name": "stdout",
     "output_type": "stream",
     "text": [
      "Building took 0.1093747615814209 seconds\n"
     ]
    },
    {
     "name": "stderr",
     "output_type": "stream",
     "text": [
      "Loading TIFFs: 100%|██████████| 30/30 [00:00<00:00, 141.09it/s]\n",
      "Computing candidate edges: 100%|██████████| 30/30 [00:00<00:00, 1166.23it/s]\n"
     ]
    },
    {
     "name": "stdout",
     "output_type": "stream",
     "text": [
      "Building took 0.23332738876342773 seconds\n"
     ]
    },
    {
     "name": "stderr",
     "output_type": "stream",
     "text": [
      "Loading TIFFs: 100%|██████████| 30/30 [00:00<00:00, 135.66it/s]\n",
      "Computing candidate edges: 100%|██████████| 30/30 [00:00<00:00, 1588.97it/s]\n"
     ]
    },
    {
     "name": "stdout",
     "output_type": "stream",
     "text": [
      "Building took 0.17518377304077148 seconds\n"
     ]
    },
    {
     "name": "stderr",
     "output_type": "stream",
     "text": [
      "Loading TIFFs: 100%|██████████| 30/30 [00:00<00:00, 142.96it/s]\n",
      "Computing candidate edges: 100%|██████████| 40/40 [00:00<00:00, 1694.38it/s]\n"
     ]
    },
    {
     "name": "stdout",
     "output_type": "stream",
     "text": [
      "Building took 0.2741281986236572 seconds\n"
     ]
    },
    {
     "name": "stderr",
     "output_type": "stream",
     "text": [
      "Loading TIFFs: 100%|██████████| 40/40 [00:00<00:00, 141.95it/s]\n",
      "Computing candidate edges: 100%|██████████| 50/50 [00:00<00:00, 1634.81it/s]\n"
     ]
    },
    {
     "name": "stdout",
     "output_type": "stream",
     "text": [
      "Building took 1.6883113384246826 seconds\n"
     ]
    },
    {
     "name": "stderr",
     "output_type": "stream",
     "text": [
      "Loading TIFFs: 100%|██████████| 50/50 [00:00<00:00, 697.71it/s]\n",
      "Computing candidate edges: 100%|██████████| 50/50 [00:00<00:00, 711.69it/s]\n"
     ]
    },
    {
     "name": "stdout",
     "output_type": "stream",
     "text": [
      "Building took 6.337559700012207 seconds\n"
     ]
    },
    {
     "name": "stderr",
     "output_type": "stream",
     "text": [
      "Loading TIFFs: 100%|██████████| 50/50 [00:00<00:00, 691.99it/s]\n",
      "Computing candidate edges: 100%|██████████| 50/50 [00:00<00:00, 1463.21it/s]\n"
     ]
    },
    {
     "name": "stdout",
     "output_type": "stream",
     "text": [
      "Building took 2.0638763904571533 seconds\n"
     ]
    },
    {
     "name": "stderr",
     "output_type": "stream",
     "text": [
      "Loading TIFFs: 100%|██████████| 50/50 [00:00<00:00, 667.51it/s]\n",
      "Computing candidate edges: 100%|██████████| 50/50 [00:00<00:00, 1160.02it/s]\n"
     ]
    },
    {
     "name": "stdout",
     "output_type": "stream",
     "text": [
      "Building took 5.341864109039307 seconds\n"
     ]
    },
    {
     "name": "stderr",
     "output_type": "stream",
     "text": [
      "Loading TIFFs: 100%|██████████| 50/50 [00:00<00:00, 618.02it/s]\n",
      "Computing candidate edges: 100%|██████████| 50/50 [00:00<00:00, 1249.79it/s]\n"
     ]
    },
    {
     "name": "stdout",
     "output_type": "stream",
     "text": [
      "Building took 4.359294891357422 seconds\n"
     ]
    },
    {
     "name": "stderr",
     "output_type": "stream",
     "text": [
      "Loading TIFFs: 100%|██████████| 50/50 [00:00<00:00, 627.17it/s]\n",
      "Computing candidate edges: 100%|██████████| 50/50 [00:00<00:00, 959.50it/s]\n"
     ]
    },
    {
     "name": "stdout",
     "output_type": "stream",
     "text": [
      "Building took 4.2210469245910645 seconds\n"
     ]
    },
    {
     "name": "stderr",
     "output_type": "stream",
     "text": [
      "Loading TIFFs: 100%|██████████| 50/50 [00:00<00:00, 636.51it/s]\n",
      "Computing candidate edges: 100%|██████████| 50/50 [00:00<00:00, 1034.66it/s]\n"
     ]
    },
    {
     "name": "stdout",
     "output_type": "stream",
     "text": [
      "Building took 5.729814767837524 seconds\n"
     ]
    },
    {
     "name": "stderr",
     "output_type": "stream",
     "text": [
      "Loading TIFFs: 100%|██████████| 50/50 [00:00<00:00, 675.62it/s]\n",
      "Computing candidate edges: 100%|██████████| 50/50 [00:00<00:00, 1282.32it/s]\n"
     ]
    },
    {
     "name": "stdout",
     "output_type": "stream",
     "text": [
      "Building took 4.3013341426849365 seconds\n"
     ]
    },
    {
     "name": "stderr",
     "output_type": "stream",
     "text": [
      "Loading TIFFs: 100%|██████████| 50/50 [00:00<00:00, 706.74it/s]\n",
      "Computing candidate edges: 100%|██████████| 50/50 [00:00<00:00, 890.47it/s]\n"
     ]
    },
    {
     "name": "stdout",
     "output_type": "stream",
     "text": [
      "Building took 2.065079927444458 seconds\n"
     ]
    },
    {
     "name": "stderr",
     "output_type": "stream",
     "text": [
      "Loading TIFFs: 100%|██████████| 50/50 [00:00<00:00, 703.94it/s]\n",
      "Computing candidate edges: 100%|██████████| 50/50 [00:00<00:00, 1241.83it/s]\n"
     ]
    },
    {
     "name": "stdout",
     "output_type": "stream",
     "text": [
      "Building took 2.8687872886657715 seconds\n"
     ]
    },
    {
     "name": "stderr",
     "output_type": "stream",
     "text": [
      "Loading TIFFs: 100%|██████████| 50/50 [00:00<00:00, 731.75it/s]\n",
      "Computing candidate edges: 100%|██████████| 50/50 [00:00<00:00, 1347.64it/s]\n"
     ]
    },
    {
     "name": "stdout",
     "output_type": "stream",
     "text": [
      "Building took 3.482548713684082 seconds\n"
     ]
    },
    {
     "name": "stderr",
     "output_type": "stream",
     "text": [
      "Loading TIFFs: 100%|██████████| 50/50 [00:00<00:00, 666.20it/s]\n",
      "Computing candidate edges: 100%|██████████| 50/50 [00:00<00:00, 1367.12it/s]\n"
     ]
    },
    {
     "name": "stdout",
     "output_type": "stream",
     "text": [
      "Building took 3.348573684692383 seconds\n"
     ]
    },
    {
     "name": "stderr",
     "output_type": "stream",
     "text": [
      "Loading TIFFs: 100%|██████████| 50/50 [00:00<00:00, 681.17it/s]\n",
      "Computing candidate edges: 100%|██████████| 50/50 [00:00<00:00, 1232.98it/s]\n"
     ]
    },
    {
     "name": "stdout",
     "output_type": "stream",
     "text": [
      "Building took 4.815545082092285 seconds\n"
     ]
    },
    {
     "name": "stderr",
     "output_type": "stream",
     "text": [
      "Loading TIFFs: 100%|██████████| 50/50 [00:00<00:00, 772.69it/s]\n",
      "Computing candidate edges: 100%|██████████| 50/50 [00:00<00:00, 1204.03it/s]\n"
     ]
    },
    {
     "name": "stdout",
     "output_type": "stream",
     "text": [
      "Building took 5.314465045928955 seconds\n"
     ]
    },
    {
     "name": "stderr",
     "output_type": "stream",
     "text": [
      "Loading TIFFs: 100%|██████████| 50/50 [00:00<00:00, 632.15it/s]\n",
      "Computing candidate edges: 100%|██████████| 50/50 [00:00<00:00, 1173.76it/s]\n"
     ]
    },
    {
     "name": "stdout",
     "output_type": "stream",
     "text": [
      "Building took 3.8636162281036377 seconds\n"
     ]
    },
    {
     "name": "stderr",
     "output_type": "stream",
     "text": [
      "Loading TIFFs: 100%|██████████| 50/50 [00:00<00:00, 678.98it/s]\n",
      "Computing candidate edges: 100%|██████████| 50/50 [00:00<00:00, 1270.28it/s]\n"
     ]
    },
    {
     "name": "stdout",
     "output_type": "stream",
     "text": [
      "Building took 3.5789284706115723 seconds\n"
     ]
    },
    {
     "name": "stderr",
     "output_type": "stream",
     "text": [
      "Loading TIFFs: 100%|██████████| 50/50 [00:00<00:00, 688.73it/s]\n",
      "Computing candidate edges: 100%|██████████| 50/50 [00:00<00:00, 901.24it/s]\n"
     ]
    },
    {
     "name": "stdout",
     "output_type": "stream",
     "text": [
      "Building took 4.616121768951416 seconds\n"
     ]
    },
    {
     "name": "stderr",
     "output_type": "stream",
     "text": [
      "Loading TIFFs: 100%|██████████| 50/50 [00:00<00:00, 668.06it/s]\n",
      "Computing candidate edges: 100%|██████████| 50/50 [00:00<00:00, 1555.08it/s]\n"
     ]
    },
    {
     "name": "stdout",
     "output_type": "stream",
     "text": [
      "Building took 2.5032336711883545 seconds\n"
     ]
    },
    {
     "name": "stderr",
     "output_type": "stream",
     "text": [
      "Loading TIFFs: 100%|██████████| 50/50 [00:00<00:00, 223.01it/s]\n",
      "Computing candidate edges: 100%|██████████| 50/50 [00:00<00:00, 838.78it/s]\n"
     ]
    },
    {
     "name": "stdout",
     "output_type": "stream",
     "text": [
      "Building took 2.392500162124634 seconds\n"
     ]
    },
    {
     "name": "stderr",
     "output_type": "stream",
     "text": [
      "Loading TIFFs: 100%|██████████| 50/50 [00:00<00:00, 699.57it/s]\n",
      "Computing candidate edges: 100%|██████████| 50/50 [00:00<00:00, 1486.41it/s]\n"
     ]
    },
    {
     "name": "stdout",
     "output_type": "stream",
     "text": [
      "Building took 1.7890334129333496 seconds\n"
     ]
    },
    {
     "name": "stderr",
     "output_type": "stream",
     "text": [
      "Loading TIFFs: 100%|██████████| 50/50 [00:00<00:00, 612.90it/s]\n",
      "Computing candidate edges: 100%|██████████| 50/50 [00:00<00:00, 1201.47it/s]\n"
     ]
    },
    {
     "name": "stdout",
     "output_type": "stream",
     "text": [
      "Building took 3.1891376972198486 seconds\n"
     ]
    },
    {
     "name": "stderr",
     "output_type": "stream",
     "text": [
      "Loading TIFFs: 100%|██████████| 50/50 [00:00<00:00, 579.95it/s]\n",
      "Computing candidate edges: 100%|██████████| 50/50 [00:00<00:00, 647.09it/s]\n"
     ]
    },
    {
     "name": "stdout",
     "output_type": "stream",
     "text": [
      "Building took 4.343885898590088 seconds\n"
     ]
    },
    {
     "name": "stderr",
     "output_type": "stream",
     "text": [
      "Loading TIFFs: 100%|██████████| 50/50 [00:00<00:00, 702.87it/s]\n",
      "Computing candidate edges: 100%|██████████| 50/50 [00:00<00:00, 574.56it/s]\n"
     ]
    },
    {
     "name": "stdout",
     "output_type": "stream",
     "text": [
      "Building took 6.310761213302612 seconds\n"
     ]
    },
    {
     "name": "stderr",
     "output_type": "stream",
     "text": [
      "Loading TIFFs: 100%|██████████| 50/50 [00:00<00:00, 645.43it/s]\n",
      "100%|██████████| 196/196 [28:05<00:00,  8.60s/it]\n"
     ]
    }
   ],
   "source": [
    "from tqdm import tqdm\n",
    "\n",
    "for config in tqdm(configs):\n",
    "    config.run(as_ctc=True)"
   ]
  },
  {
   "cell_type": "code",
   "execution_count": 5,
   "metadata": {},
   "outputs": [
    {
     "name": "stderr",
     "output_type": "stream",
     "text": [
      "Loading TIFFs: 100%|██████████| 64/64 [00:00<00:00, 470.13it/s]\n",
      "Computing node attributes: 100%|██████████| 65/65 [00:00<00:00, 103.75it/s]\n",
      "Loading TIFFs: 100%|██████████| 64/64 [00:00<00:00, 232.19it/s]\n",
      "Computing node attributes: 100%|██████████| 65/65 [00:00<00:00, 105.11it/s]\n",
      "Matching frames: 100%|██████████| 65/65 [00:00<00:00, 217.39it/s]\n",
      "Evaluating nodes: 100%|██████████| 10048/10048 [00:00<00:00, 325703.21it/s]\n",
      "Evaluating FP edges: 100%|██████████| 9879/9879 [00:00<00:00, 267674.84it/s]\n",
      "Evaluating FN edges: 100%|██████████| 9895/9895 [00:00<00:00, 346800.35it/s]\n",
      "Loading TIFFs: 100%|██████████| 41/41 [00:00<00:00, 545.64it/s]\n",
      "Computing node attributes: 100%|██████████| 42/42 [00:00<00:00, 330.57it/s]\n",
      "Loading TIFFs: 100%|██████████| 41/41 [00:00<00:00, 277.81it/s]\n",
      "Computing node attributes: 100%|██████████| 42/42 [00:00<00:00, 310.00it/s]\n",
      "Matching frames: 100%|██████████| 42/42 [00:00<00:00, 1175.23it/s]\n",
      "Evaluating nodes: 100%|██████████| 950/950 [00:00<00:00, 347271.12it/s]\n",
      "Evaluating FP edges: 100%|██████████| 926/926 [00:00<00:00, 256601.84it/s]\n",
      "Evaluating FN edges: 100%|██████████| 926/926 [00:00<00:00, 284807.91it/s]\n",
      "Loading TIFFs: 100%|██████████| 54/54 [00:00<00:00, 568.70it/s]\n",
      "Computing node attributes: 100%|██████████| 55/55 [00:00<00:00, 128.08it/s]\n",
      "Loading TIFFs: 100%|██████████| 54/54 [00:00<00:00, 236.33it/s]\n",
      "Computing node attributes: 100%|██████████| 55/55 [00:00<00:00, 127.85it/s]\n",
      "Matching frames: 100%|██████████| 55/55 [00:00<00:00, 290.71it/s]\n",
      "Evaluating nodes: 100%|██████████| 6686/6686 [00:00<00:00, 304234.47it/s]\n",
      "Evaluating FP edges: 100%|██████████| 6561/6561 [00:00<00:00, 272558.10it/s]\n",
      "Evaluating FN edges: 100%|██████████| 6563/6563 [00:00<00:00, 347105.70it/s]\n",
      "Loading TIFFs: 100%|██████████| 44/44 [00:00<00:00, 555.67it/s]\n",
      "Computing node attributes: 100%|██████████| 45/45 [00:00<00:00, 171.04it/s]\n",
      "Loading TIFFs: 100%|██████████| 44/44 [00:00<00:00, 229.34it/s]\n",
      "Computing node attributes: 100%|██████████| 45/45 [00:00<00:00, 173.84it/s]\n",
      "Matching frames: 100%|██████████| 45/45 [00:00<00:00, 454.74it/s]\n",
      "Evaluating nodes: 100%|██████████| 3624/3624 [00:00<00:00, 395651.98it/s]\n",
      "Evaluating FP edges: 100%|██████████| 3540/3540 [00:00<00:00, 255869.24it/s]\n",
      "Evaluating FN edges: 100%|██████████| 3539/3539 [00:00<00:00, 252533.08it/s]\n",
      "Loading TIFFs: 100%|██████████| 41/41 [00:00<00:00, 538.74it/s]\n",
      "Computing node attributes: 100%|██████████| 42/42 [00:00<00:00, 296.53it/s]\n",
      "Loading TIFFs: 100%|██████████| 41/41 [00:00<00:00, 281.74it/s]\n",
      "Computing node attributes: 100%|██████████| 42/42 [00:00<00:00, 278.71it/s]\n",
      "Matching frames: 100%|██████████| 42/42 [00:00<00:00, 855.76it/s]\n",
      "Evaluating nodes: 100%|██████████| 1401/1401 [00:00<00:00, 395785.00it/s]\n",
      "Evaluating FP edges: 100%|██████████| 1367/1367 [00:00<00:00, 242026.74it/s]\n",
      "Evaluating FN edges: 100%|██████████| 1369/1369 [00:00<00:00, 368147.86it/s]\n",
      "Loading TIFFs: 100%|██████████| 70/70 [00:00<00:00, 539.19it/s]\n",
      "Computing node attributes: 100%|██████████| 71/71 [00:01<00:00, 59.79it/s]\n",
      "1 non-connected masks at t=14.\n",
      "1 non-connected masks at t=16.\n",
      "1 non-connected masks at t=26.\n",
      "1 non-connected masks at t=27.\n",
      "1 non-connected masks at t=29.\n",
      "1 non-connected masks at t=30.\n",
      "1 non-connected masks at t=37.\n",
      "1 non-connected masks at t=47.\n",
      "1 non-connected masks at t=50.\n",
      "1 non-connected masks at t=51.\n",
      "1 non-connected masks at t=53.\n",
      "2 non-connected masks at t=58.\n",
      "1 non-connected masks at t=62.\n",
      "3 non-connected masks at t=66.\n",
      "1 non-connected masks at t=67.\n",
      "Loading TIFFs: 100%|██████████| 70/70 [00:00<00:00, 236.05it/s]\n",
      "Computing node attributes: 100%|██████████| 71/71 [00:01<00:00, 59.10it/s]\n",
      "1 non-connected masks at t=14.\n",
      "1 non-connected masks at t=16.\n",
      "1 non-connected masks at t=26.\n",
      "1 non-connected masks at t=27.\n",
      "1 non-connected masks at t=29.\n",
      "1 non-connected masks at t=30.\n",
      "1 non-connected masks at t=37.\n",
      "1 non-connected masks at t=47.\n",
      "1 non-connected masks at t=50.\n",
      "1 non-connected masks at t=51.\n",
      "1 non-connected masks at t=53.\n",
      "2 non-connected masks at t=58.\n",
      "1 non-connected masks at t=62.\n",
      "3 non-connected masks at t=66.\n",
      "1 non-connected masks at t=67.\n",
      "Matching frames: 100%|██████████| 71/71 [00:01<00:00, 63.48it/s]\n",
      "Evaluating nodes: 100%|██████████| 19018/19018 [00:00<00:00, 295554.76it/s]\n",
      "Evaluating FP edges: 100%|██████████| 18724/18724 [00:00<00:00, 276490.72it/s]\n",
      "Evaluating FN edges: 100%|██████████| 18737/18737 [00:00<00:00, 407435.86it/s]\n",
      "Loading TIFFs: 100%|██████████| 54/54 [00:00<00:00, 545.74it/s]\n",
      "Computing node attributes: 100%|██████████| 55/55 [00:00<00:00, 67.03it/s]\n",
      "Loading TIFFs: 100%|██████████| 54/54 [00:00<00:00, 233.48it/s]\n",
      "Computing node attributes: 100%|██████████| 55/55 [00:00<00:00, 65.90it/s]\n",
      "Matching frames: 100%|██████████| 55/55 [00:00<00:00, 108.87it/s]\n",
      "Evaluating nodes: 100%|██████████| 14465/14465 [00:00<00:00, 303313.61it/s]\n",
      "Evaluating FP edges: 100%|██████████| 14177/14177 [00:00<00:00, 237905.79it/s]\n",
      "Evaluating FN edges: 100%|██████████| 14205/14205 [00:00<00:00, 368599.71it/s]\n",
      "Loading TIFFs: 100%|██████████| 41/41 [00:00<00:00, 549.40it/s]\n",
      "Computing node attributes: 100%|██████████| 42/42 [00:00<00:00, 400.63it/s]\n",
      "Loading TIFFs: 100%|██████████| 41/41 [00:00<00:00, 275.33it/s]\n",
      "Computing node attributes: 100%|██████████| 42/42 [00:00<00:00, 362.20it/s]\n",
      "Matching frames: 100%|██████████| 42/42 [00:00<00:00, 1439.15it/s]\n",
      "Evaluating nodes: 100%|██████████| 763/763 [00:00<00:00, 316888.20it/s]\n",
      "Evaluating FP edges: 100%|██████████| 744/744 [00:00<00:00, 208886.95it/s]\n",
      "Evaluating FN edges: 100%|██████████| 744/744 [00:00<00:00, 387406.85it/s]\n",
      "Loading TIFFs: 100%|██████████| 41/41 [00:00<00:00, 526.49it/s]\n",
      "Computing node attributes: 100%|██████████| 42/42 [00:00<00:00, 231.37it/s]\n",
      "Loading TIFFs: 100%|██████████| 41/41 [00:00<00:00, 276.09it/s]\n",
      "Computing node attributes: 100%|██████████| 42/42 [00:00<00:00, 219.71it/s]\n",
      "Matching frames: 100%|██████████| 42/42 [00:00<00:00, 632.42it/s]\n",
      "Evaluating nodes: 100%|██████████| 1947/1947 [00:00<00:00, 412877.79it/s]\n",
      "Evaluating FP edges: 100%|██████████| 1900/1900 [00:00<00:00, 247420.83it/s]\n",
      "Evaluating FN edges: 100%|██████████| 1898/1898 [00:00<00:00, 311528.10it/s]\n",
      "Loading TIFFs: 100%|██████████| 70/70 [00:00<00:00, 549.16it/s]\n",
      "Computing node attributes: 100%|██████████| 71/71 [00:00<00:00, 148.20it/s]\n",
      "Loading TIFFs: 100%|██████████| 70/70 [00:00<00:00, 243.30it/s]\n",
      "Computing node attributes: 100%|██████████| 71/71 [00:00<00:00, 158.12it/s]\n",
      "Matching frames: 100%|██████████| 71/71 [00:00<00:00, 346.24it/s]\n",
      "Evaluating nodes: 100%|██████████| 5925/5925 [00:00<00:00, 298373.75it/s]\n",
      "Evaluating FP edges: 100%|██████████| 5829/5829 [00:00<00:00, 281179.97it/s]\n",
      "Evaluating FN edges: 100%|██████████| 5841/5841 [00:00<00:00, 372788.73it/s]\n",
      "Loading TIFFs: 100%|██████████| 64/64 [00:00<00:00, 550.81it/s]\n",
      "Computing node attributes: 100%|██████████| 65/65 [00:00<00:00, 159.12it/s]\n",
      "Loading TIFFs: 100%|██████████| 64/64 [00:00<00:00, 238.14it/s]\n",
      "Computing node attributes: 100%|██████████| 65/65 [00:00<00:00, 144.83it/s]\n",
      "Matching frames: 100%|██████████| 65/65 [00:00<00:00, 385.46it/s]\n",
      "Evaluating nodes: 100%|██████████| 6232/6232 [00:00<00:00, 328820.18it/s]\n",
      "Evaluating FP edges: 100%|██████████| 6126/6126 [00:00<00:00, 221992.56it/s]\n",
      "Evaluating FN edges: 100%|██████████| 6125/6125 [00:00<00:00, 345771.25it/s]\n",
      "Loading TIFFs: 100%|██████████| 49/49 [00:00<00:00, 541.10it/s]\n",
      "Computing node attributes: 100%|██████████| 50/50 [00:00<00:00, 471.70it/s]\n",
      "Loading TIFFs: 100%|██████████| 49/49 [00:00<00:00, 241.67it/s]\n",
      "Computing node attributes: 100%|██████████| 50/50 [00:00<00:00, 416.41it/s]\n",
      "Matching frames: 100%|██████████| 50/50 [00:00<00:00, 2831.65it/s]\n",
      "Evaluating nodes: 100%|██████████| 445/445 [00:00<00:00, 292962.69it/s]\n",
      "Evaluating FP edges: 100%|██████████| 433/433 [00:00<00:00, 180243.51it/s]\n",
      "Evaluating FN edges: 100%|██████████| 433/433 [00:00<00:00, 370790.86it/s]\n",
      "Loading TIFFs: 100%|██████████| 41/41 [00:00<00:00, 551.80it/s]\n",
      "Computing node attributes: 100%|██████████| 42/42 [00:00<00:00, 322.19it/s]\n",
      "Loading TIFFs: 100%|██████████| 41/41 [00:00<00:00, 266.11it/s]\n",
      "Computing node attributes: 100%|██████████| 42/42 [00:00<00:00, 293.26it/s]\n",
      "Matching frames: 100%|██████████| 42/42 [00:00<00:00, 974.76it/s]\n",
      "Evaluating nodes: 100%|██████████| 1160/1160 [00:00<00:00, 191784.96it/s]\n",
      "Evaluating FP edges: 100%|██████████| 1132/1132 [00:00<00:00, 160095.50it/s]\n",
      "Evaluating FN edges: 100%|██████████| 1133/1133 [00:00<00:00, 305800.93it/s]\n",
      "Loading TIFFs: 100%|██████████| 41/41 [00:00<00:00, 548.55it/s]\n",
      "Computing node attributes: 100%|██████████| 42/42 [00:00<00:00, 264.85it/s]\n",
      "Loading TIFFs: 100%|██████████| 41/41 [00:00<00:00, 289.53it/s]\n",
      "Computing node attributes: 100%|██████████| 42/42 [00:00<00:00, 234.27it/s]\n",
      "Matching frames: 100%|██████████| 42/42 [00:00<00:00, 791.34it/s]\n",
      "Evaluating nodes: 100%|██████████| 1752/1752 [00:00<00:00, 302678.17it/s]\n",
      "Evaluating FP edges: 100%|██████████| 1708/1708 [00:00<00:00, 204442.55it/s]\n",
      "Evaluating FN edges: 100%|██████████| 1708/1708 [00:00<00:00, 298420.03it/s]\n",
      "Loading TIFFs: 100%|██████████| 41/41 [00:00<00:00, 549.89it/s]\n",
      "Computing node attributes: 100%|██████████| 42/42 [00:00<00:00, 307.21it/s]\n",
      "Loading TIFFs: 100%|██████████| 41/41 [00:00<00:00, 259.81it/s]\n",
      "Computing node attributes: 100%|██████████| 42/42 [00:00<00:00, 240.32it/s]\n",
      "Matching frames: 100%|██████████| 42/42 [00:00<00:00, 1038.65it/s]\n",
      "Evaluating nodes: 100%|██████████| 1239/1239 [00:00<00:00, 406790.03it/s]\n",
      "Evaluating FP edges: 100%|██████████| 1208/1208 [00:00<00:00, 145307.27it/s]\n",
      "Evaluating FN edges: 100%|██████████| 1209/1209 [00:00<00:00, 290563.46it/s]\n",
      "Loading TIFFs: 100%|██████████| 44/44 [00:00<00:00, 536.87it/s]\n",
      "Computing node attributes: 100%|██████████| 45/45 [00:00<00:00, 85.03it/s]\n",
      "Loading TIFFs: 100%|██████████| 44/44 [00:00<00:00, 226.81it/s]\n",
      "Computing node attributes: 100%|██████████| 45/45 [00:00<00:00, 89.23it/s]\n",
      "Matching frames: 100%|██████████| 45/45 [00:00<00:00, 222.93it/s]\n",
      "Evaluating nodes: 100%|██████████| 7273/7273 [00:00<00:00, 330571.88it/s]\n",
      "Evaluating FP edges: 100%|██████████| 7094/7094 [00:00<00:00, 252908.16it/s]\n",
      "Evaluating FN edges: 100%|██████████| 7097/7097 [00:00<00:00, 368403.16it/s]\n",
      "Loading TIFFs: 100%|██████████| 41/41 [00:00<00:00, 534.84it/s]\n",
      "Computing node attributes: 100%|██████████| 42/42 [00:00<00:00, 251.81it/s]\n",
      "Loading TIFFs: 100%|██████████| 41/41 [00:00<00:00, 280.20it/s]\n",
      "Computing node attributes: 100%|██████████| 42/42 [00:00<00:00, 272.03it/s]\n",
      "Matching frames: 100%|██████████| 42/42 [00:00<00:00, 900.32it/s]\n",
      "Evaluating nodes: 100%|██████████| 1520/1520 [00:00<00:00, 372282.75it/s]\n",
      "Evaluating FP edges: 100%|██████████| 1486/1486 [00:00<00:00, 260740.28it/s]\n",
      "Evaluating FN edges: 100%|██████████| 1485/1485 [00:00<00:00, 364626.01it/s]\n",
      "Loading TIFFs: 100%|██████████| 54/54 [00:00<00:00, 569.10it/s]\n",
      "Computing node attributes: 100%|██████████| 55/55 [00:00<00:00, 110.05it/s]\n",
      "Loading TIFFs: 100%|██████████| 54/54 [00:00<00:00, 227.47it/s]\n",
      "Computing node attributes: 100%|██████████| 55/55 [00:00<00:00, 112.73it/s]\n",
      "Matching frames: 100%|██████████| 55/55 [00:00<00:00, 270.37it/s]\n",
      "Evaluating nodes: 100%|██████████| 7592/7592 [00:00<00:00, 328679.80it/s]\n",
      "Evaluating FP edges: 100%|██████████| 7444/7444 [00:00<00:00, 238898.79it/s]\n",
      "Evaluating FN edges: 100%|██████████| 7444/7444 [00:00<00:00, 204491.65it/s]\n",
      "Loading TIFFs: 100%|██████████| 41/41 [00:00<00:00, 151.96it/s]\n",
      "Computing node attributes: 100%|██████████| 42/42 [00:00<00:00, 326.79it/s]\n",
      "Loading TIFFs: 100%|██████████| 41/41 [00:00<00:00, 283.47it/s]\n",
      "Computing node attributes: 100%|██████████| 42/42 [00:00<00:00, 325.03it/s]\n",
      "Matching frames: 100%|██████████| 42/42 [00:00<00:00, 1009.84it/s]\n",
      "Evaluating nodes: 100%|██████████| 1123/1123 [00:00<00:00, 428706.96it/s]\n",
      "Evaluating FP edges: 100%|██████████| 1097/1097 [00:00<00:00, 221028.56it/s]\n",
      "Evaluating FN edges: 100%|██████████| 1097/1097 [00:00<00:00, 420158.11it/s]\n",
      "Loading TIFFs: 100%|██████████| 41/41 [00:00<00:00, 544.75it/s]\n",
      "Computing node attributes: 100%|██████████| 42/42 [00:00<00:00, 276.33it/s]\n",
      "Loading TIFFs: 100%|██████████| 41/41 [00:00<00:00, 292.70it/s]\n",
      "Computing node attributes: 100%|██████████| 42/42 [00:00<00:00, 262.51it/s]\n",
      "Matching frames: 100%|██████████| 42/42 [00:00<00:00, 780.75it/s]\n",
      "Evaluating nodes: 100%|██████████| 1678/1678 [00:00<00:00, 362673.51it/s]\n",
      "Evaluating FP edges: 100%|██████████| 1638/1638 [00:00<00:00, 245077.94it/s]\n",
      "Evaluating FN edges: 100%|██████████| 1638/1638 [00:00<00:00, 316208.86it/s]\n",
      "Loading TIFFs: 100%|██████████| 54/54 [00:00<00:00, 558.43it/s]\n",
      "Computing node attributes: 100%|██████████| 55/55 [00:00<00:00, 89.84it/s]\n",
      "Loading TIFFs: 100%|██████████| 54/54 [00:00<00:00, 235.08it/s]\n",
      "Computing node attributes: 100%|██████████| 55/55 [00:00<00:00, 82.98it/s]\n",
      "Matching frames: 100%|██████████| 55/55 [00:00<00:00, 159.81it/s]\n",
      "Evaluating nodes: 100%|██████████| 10958/10958 [00:00<00:00, 262173.91it/s]\n",
      "Evaluating FP edges: 100%|██████████| 10748/10748 [00:00<00:00, 245171.28it/s]\n",
      "Evaluating FN edges: 100%|██████████| 10747/10747 [00:00<00:00, 396194.05it/s]\n",
      "Loading TIFFs: 100%|██████████| 41/41 [00:00<00:00, 523.33it/s]\n",
      "Computing node attributes: 100%|██████████| 42/42 [00:00<00:00, 224.42it/s]\n",
      "Loading TIFFs: 100%|██████████| 41/41 [00:00<00:00, 274.28it/s]\n",
      "Computing node attributes: 100%|██████████| 42/42 [00:00<00:00, 233.66it/s]\n",
      "Matching frames: 100%|██████████| 42/42 [00:00<00:00, 768.24it/s]\n",
      "Evaluating nodes: 100%|██████████| 1609/1609 [00:00<00:00, 291542.90it/s]\n",
      "Evaluating FP edges: 100%|██████████| 1572/1572 [00:00<00:00, 264924.70it/s]\n",
      "Evaluating FN edges: 100%|██████████| 1573/1573 [00:00<00:00, 293763.76it/s]\n",
      "Loading TIFFs: 100%|██████████| 70/70 [00:00<00:00, 539.92it/s]\n",
      "Computing node attributes: 100%|██████████| 71/71 [00:01<00:00, 67.63it/s]\n",
      "Loading TIFFs: 100%|██████████| 70/70 [00:00<00:00, 229.89it/s]\n",
      "Computing node attributes: 100%|██████████| 71/71 [00:01<00:00, 69.78it/s]\n",
      "Matching frames: 100%|██████████| 71/71 [00:00<00:00, 84.32it/s]\n",
      "Evaluating nodes: 100%|██████████| 16253/16253 [00:00<00:00, 299516.80it/s]\n",
      "Evaluating FP edges: 100%|██████████| 16008/16008 [00:00<00:00, 294470.08it/s]\n",
      "Evaluating FN edges: 100%|██████████| 16028/16028 [00:00<00:00, 375100.74it/s]\n",
      "Loading TIFFs: 100%|██████████| 44/44 [00:00<00:00, 540.76it/s]\n",
      "Computing node attributes: 100%|██████████| 45/45 [00:00<00:00, 137.96it/s]\n",
      "Loading TIFFs: 100%|██████████| 44/44 [00:00<00:00, 236.52it/s]\n",
      "Computing node attributes: 100%|██████████| 45/45 [00:00<00:00, 148.56it/s]\n",
      "Matching frames: 100%|██████████| 45/45 [00:00<00:00, 334.23it/s]\n",
      "Evaluating nodes: 100%|██████████| 4721/4721 [00:00<00:00, 398504.88it/s]\n",
      "Evaluating FP edges: 100%|██████████| 4617/4617 [00:00<00:00, 238049.66it/s]\n",
      "Evaluating FN edges: 100%|██████████| 4616/4616 [00:00<00:00, 389657.40it/s]\n",
      "Loading TIFFs: 100%|██████████| 44/44 [00:00<00:00, 558.99it/s]\n",
      "Computing node attributes: 100%|██████████| 45/45 [00:00<00:00, 115.94it/s]\n",
      "Loading TIFFs: 100%|██████████| 44/44 [00:00<00:00, 240.54it/s]\n",
      "Computing node attributes: 100%|██████████| 45/45 [00:00<00:00, 119.01it/s]\n",
      "Matching frames: 100%|██████████| 45/45 [00:00<00:00, 284.25it/s]\n",
      "Evaluating nodes: 100%|██████████| 6231/6231 [00:00<00:00, 333695.63it/s]\n",
      "Evaluating FP edges: 100%|██████████| 6093/6093 [00:00<00:00, 226748.30it/s]\n",
      "Evaluating FN edges: 100%|██████████| 6095/6095 [00:00<00:00, 320812.73it/s]\n",
      "Loading TIFFs: 100%|██████████| 41/41 [00:00<00:00, 549.90it/s]\n",
      "Computing node attributes: 100%|██████████| 42/42 [00:00<00:00, 295.97it/s]\n",
      "Loading TIFFs: 100%|██████████| 41/41 [00:00<00:00, 280.61it/s]\n",
      "Computing node attributes: 100%|██████████| 42/42 [00:00<00:00, 298.74it/s]\n",
      "Matching frames: 100%|██████████| 42/42 [00:00<00:00, 1008.07it/s]\n",
      "Evaluating nodes: 100%|██████████| 1140/1140 [00:00<00:00, 325449.67it/s]\n",
      "Evaluating FP edges: 100%|██████████| 1113/1113 [00:00<00:00, 266956.04it/s]\n",
      "Evaluating FN edges: 100%|██████████| 1113/1113 [00:00<00:00, 365364.35it/s]\n",
      "Loading TIFFs: 100%|██████████| 70/70 [00:00<00:00, 554.41it/s]\n",
      "Computing node attributes: 100%|██████████| 71/71 [00:00<00:00, 217.06it/s]\n",
      "Loading TIFFs: 100%|██████████| 70/70 [00:00<00:00, 243.29it/s]\n",
      "Computing node attributes: 100%|██████████| 71/71 [00:00<00:00, 237.16it/s]\n",
      "Matching frames: 100%|██████████| 71/71 [00:00<00:00, 734.16it/s]\n",
      "Evaluating nodes: 100%|██████████| 3365/3365 [00:00<00:00, 380601.16it/s]\n",
      "Evaluating FP edges: 100%|██████████| 3308/3308 [00:00<00:00, 245297.41it/s]\n",
      "Evaluating FN edges: 100%|██████████| 3314/3314 [00:00<00:00, 392841.86it/s]\n",
      "Loading TIFFs: 100%|██████████| 41/41 [00:00<00:00, 538.09it/s]\n",
      "Computing node attributes: 100%|██████████| 42/42 [00:00<00:00, 360.98it/s]\n",
      "Loading TIFFs: 100%|██████████| 41/41 [00:00<00:00, 277.61it/s]\n",
      "Computing node attributes: 100%|██████████| 42/42 [00:00<00:00, 343.21it/s]\n",
      "Matching frames: 100%|██████████| 42/42 [00:00<00:00, 1513.71it/s]\n",
      "Evaluating nodes: 100%|██████████| 927/927 [00:00<00:00, 344538.75it/s]\n",
      "Evaluating FP edges: 100%|██████████| 904/904 [00:00<00:00, 359057.84it/s]\n",
      "Evaluating FN edges: 100%|██████████| 904/904 [00:00<00:00, 353072.99it/s]\n",
      "Loading TIFFs: 100%|██████████| 41/41 [00:00<00:00, 558.87it/s]\n",
      "Computing node attributes: 100%|██████████| 42/42 [00:00<00:00, 298.75it/s]\n",
      "Loading TIFFs: 100%|██████████| 41/41 [00:00<00:00, 282.95it/s]\n",
      "Computing node attributes: 100%|██████████| 42/42 [00:00<00:00, 294.78it/s]\n",
      "Matching frames: 100%|██████████| 42/42 [00:00<00:00, 1059.28it/s]\n",
      "Evaluating nodes: 100%|██████████| 1326/1326 [00:00<00:00, 223368.29it/s]\n",
      "Evaluating FP edges: 100%|██████████| 1294/1294 [00:00<00:00, 260458.27it/s]\n",
      "Evaluating FN edges: 100%|██████████| 1294/1294 [00:00<00:00, 385744.80it/s]\n",
      "Loading TIFFs: 100%|██████████| 41/41 [00:00<00:00, 543.89it/s]\n",
      "Computing node attributes: 100%|██████████| 42/42 [00:00<00:00, 321.63it/s]\n",
      "Loading TIFFs: 100%|██████████| 41/41 [00:00<00:00, 283.67it/s]\n",
      "Computing node attributes: 100%|██████████| 42/42 [00:00<00:00, 207.00it/s]\n",
      "Matching frames: 100%|██████████| 42/42 [00:00<00:00, 1011.42it/s]\n",
      "Evaluating nodes: 100%|██████████| 1113/1113 [00:00<00:00, 299381.80it/s]\n",
      "Evaluating FP edges: 100%|██████████| 1083/1083 [00:00<00:00, 286932.68it/s]\n",
      "Evaluating FN edges: 100%|██████████| 1085/1085 [00:00<00:00, 295411.87it/s]\n",
      "Loading TIFFs: 100%|██████████| 64/64 [00:00<00:00, 558.74it/s]\n",
      "Computing node attributes: 100%|██████████| 65/65 [00:00<00:00, 156.24it/s]\n",
      "Loading TIFFs: 100%|██████████| 64/64 [00:00<00:00, 234.44it/s]\n",
      "Computing node attributes: 100%|██████████| 65/65 [00:00<00:00, 161.99it/s]\n",
      "Matching frames: 100%|██████████| 65/65 [00:00<00:00, 381.88it/s]\n",
      "Evaluating nodes: 100%|██████████| 6141/6141 [00:00<00:00, 369506.95it/s]\n",
      "Evaluating FP edges: 100%|██████████| 6042/6042 [00:00<00:00, 223371.86it/s]\n",
      "Evaluating FN edges: 100%|██████████| 6048/6048 [00:00<00:00, 349380.91it/s]\n",
      "Loading TIFFs: 100%|██████████| 54/54 [00:00<00:00, 548.71it/s]\n",
      "Computing node attributes: 100%|██████████| 55/55 [00:00<00:00, 130.90it/s]\n",
      "Loading TIFFs: 100%|██████████| 54/54 [00:00<00:00, 237.10it/s]\n",
      "Computing node attributes: 100%|██████████| 55/55 [00:00<00:00, 129.76it/s]\n",
      "Matching frames: 100%|██████████| 55/55 [00:00<00:00, 298.22it/s]\n",
      "Evaluating nodes: 100%|██████████| 6601/6601 [00:00<00:00, 329069.61it/s]\n",
      "Evaluating FP edges: 100%|██████████| 6472/6472 [00:00<00:00, 180970.24it/s]\n",
      "Evaluating FN edges: 100%|██████████| 6476/6476 [00:00<00:00, 233662.34it/s]\n",
      "Loading TIFFs: 100%|██████████| 41/41 [00:00<00:00, 555.83it/s]\n",
      "Computing node attributes: 100%|██████████| 42/42 [00:00<00:00, 251.22it/s]\n",
      "Loading TIFFs: 100%|██████████| 41/41 [00:00<00:00, 276.07it/s]\n",
      "Computing node attributes: 100%|██████████| 42/42 [00:00<00:00, 202.95it/s]\n",
      "Matching frames: 100%|██████████| 42/42 [00:00<00:00, 794.71it/s]\n",
      "Evaluating nodes: 100%|██████████| 1713/1713 [00:00<00:00, 365139.13it/s]\n",
      "Evaluating FP edges: 100%|██████████| 1671/1671 [00:00<00:00, 228556.40it/s]\n",
      "Evaluating FN edges: 100%|██████████| 1671/1671 [00:00<00:00, 332023.40it/s]\n",
      "Loading TIFFs: 100%|██████████| 70/70 [00:00<00:00, 544.73it/s]\n",
      "Computing node attributes: 100%|██████████| 71/71 [00:00<00:00, 192.87it/s]\n",
      "Loading TIFFs: 100%|██████████| 70/70 [00:00<00:00, 237.99it/s]\n",
      "Computing node attributes: 100%|██████████| 71/71 [00:00<00:00, 196.40it/s]\n",
      "Matching frames: 100%|██████████| 71/71 [00:00<00:00, 524.91it/s]\n",
      "Evaluating nodes: 100%|██████████| 4455/4455 [00:00<00:00, 400944.65it/s]\n",
      "Evaluating FP edges: 100%|██████████| 4379/4379 [00:00<00:00, 231169.22it/s]\n",
      "Evaluating FN edges: 100%|██████████| 4388/4388 [00:00<00:00, 328782.84it/s]\n",
      "Loading TIFFs: 100%|██████████| 49/49 [00:00<00:00, 532.10it/s]\n",
      "Computing node attributes: 100%|██████████| 50/50 [00:00<00:00, 537.00it/s]\n",
      "Loading TIFFs: 100%|██████████| 49/49 [00:00<00:00, 239.22it/s]\n",
      "Computing node attributes: 100%|██████████| 50/50 [00:00<00:00, 500.29it/s]\n",
      "Matching frames: 100%|██████████| 50/50 [00:00<00:00, 5125.88it/s]\n",
      "Evaluating nodes: 100%|██████████| 250/250 [00:00<00:00, 390822.21it/s]\n",
      "Evaluating FP edges: 100%|██████████| 245/245 [00:00<00:00, 251432.46it/s]\n",
      "Evaluating FN edges: 100%|██████████| 245/245 [00:00<00:00, 276609.55it/s]\n",
      "Loading TIFFs: 100%|██████████| 70/70 [00:00<00:00, 570.42it/s]\n",
      "Computing node attributes: 100%|██████████| 71/71 [00:00<00:00, 73.87it/s]\n",
      "1 non-connected masks at t=15.\n",
      "1 non-connected masks at t=50.\n",
      "1 non-connected masks at t=57.\n",
      "1 non-connected masks at t=69.\n",
      "Loading TIFFs: 100%|██████████| 70/70 [00:00<00:00, 236.32it/s]\n",
      "Computing node attributes: 100%|██████████| 71/71 [00:00<00:00, 73.81it/s]\n",
      "1 non-connected masks at t=15.\n",
      "1 non-connected masks at t=50.\n",
      "1 non-connected masks at t=57.\n",
      "1 non-connected masks at t=69.\n",
      "Matching frames: 100%|██████████| 71/71 [00:00<00:00, 88.60it/s] \n",
      "Evaluating nodes: 100%|██████████| 14759/14759 [00:00<00:00, 315595.45it/s]\n",
      "Evaluating FP edges: 100%|██████████| 14528/14528 [00:00<00:00, 273179.39it/s]\n",
      "Evaluating FN edges: 100%|██████████| 14537/14537 [00:00<00:00, 361911.02it/s]\n",
      "Loading TIFFs: 100%|██████████| 70/70 [00:00<00:00, 550.15it/s]\n",
      "Computing node attributes: 100%|██████████| 71/71 [00:00<00:00, 211.00it/s]\n",
      "Loading TIFFs: 100%|██████████| 70/70 [00:00<00:00, 239.48it/s]\n",
      "Computing node attributes: 100%|██████████| 71/71 [00:00<00:00, 192.56it/s]\n",
      "Matching frames: 100%|██████████| 71/71 [00:00<00:00, 638.20it/s]\n",
      "Evaluating nodes: 100%|██████████| 3793/3793 [00:00<00:00, 289438.64it/s]\n",
      "Evaluating FP edges: 100%|██████████| 3734/3734 [00:00<00:00, 223019.31it/s]\n",
      "Evaluating FN edges: 100%|██████████| 3739/3739 [00:00<00:00, 331043.06it/s]\n",
      "Loading TIFFs: 100%|██████████| 49/49 [00:00<00:00, 538.08it/s]\n",
      "Computing node attributes: 100%|██████████| 50/50 [00:00<00:00, 427.13it/s]\n",
      "Loading TIFFs: 100%|██████████| 49/49 [00:00<00:00, 236.97it/s]\n",
      "Computing node attributes: 100%|██████████| 50/50 [00:00<00:00, 420.76it/s]\n",
      "Matching frames: 100%|██████████| 50/50 [00:00<00:00, 2195.19it/s]\n",
      "Evaluating nodes: 100%|██████████| 700/700 [00:00<00:00, 404520.91it/s]\n",
      "Evaluating FP edges: 100%|██████████| 684/684 [00:00<00:00, 250078.79it/s]\n",
      "Evaluating FN edges: 100%|██████████| 679/679 [00:00<00:00, 353473.06it/s]\n",
      "Loading TIFFs: 100%|██████████| 64/64 [00:00<00:00, 554.26it/s]\n",
      "Computing node attributes: 100%|██████████| 65/65 [00:00<00:00, 176.39it/s]\n",
      "Loading TIFFs: 100%|██████████| 64/64 [00:00<00:00, 239.40it/s]\n",
      "Computing node attributes: 100%|██████████| 65/65 [00:00<00:00, 152.99it/s]\n",
      "Matching frames: 100%|██████████| 65/65 [00:00<00:00, 461.52it/s]\n",
      "Evaluating nodes: 100%|██████████| 5496/5496 [00:00<00:00, 364808.67it/s]\n",
      "Evaluating FP edges: 100%|██████████| 5405/5405 [00:00<00:00, 278777.83it/s]\n",
      "Evaluating FN edges: 100%|██████████| 5405/5405 [00:00<00:00, 369113.50it/s]\n",
      "Loading TIFFs: 100%|██████████| 41/41 [00:00<00:00, 538.66it/s]\n",
      "Computing node attributes: 100%|██████████| 42/42 [00:00<00:00, 444.77it/s]\n",
      "Loading TIFFs: 100%|██████████| 41/41 [00:00<00:00, 278.83it/s]\n",
      "Computing node attributes: 100%|██████████| 42/42 [00:00<00:00, 429.27it/s]\n",
      "Matching frames: 100%|██████████| 42/42 [00:00<00:00, 2138.68it/s]\n",
      "Evaluating nodes: 100%|██████████| 554/554 [00:00<00:00, 277383.84it/s]\n",
      "Evaluating FP edges: 100%|██████████| 541/541 [00:00<00:00, 234413.06it/s]\n",
      "Evaluating FN edges: 100%|██████████| 541/541 [00:00<00:00, 473028.66it/s]\n",
      "Loading TIFFs: 100%|██████████| 70/70 [00:00<00:00, 555.34it/s]\n",
      "Computing node attributes: 100%|██████████| 71/71 [00:00<00:00, 78.07it/s]\n",
      "1 non-connected masks at t=12.\n",
      "1 non-connected masks at t=17.\n",
      "1 non-connected masks at t=19.\n",
      "1 non-connected masks at t=20.\n",
      "1 non-connected masks at t=37.\n",
      "1 non-connected masks at t=46.\n",
      "1 non-connected masks at t=47.\n",
      "1 non-connected masks at t=48.\n",
      "1 non-connected masks at t=49.\n",
      "1 non-connected masks at t=51.\n",
      "1 non-connected masks at t=56.\n",
      "1 non-connected masks at t=61.\n",
      "Loading TIFFs: 100%|██████████| 70/70 [00:00<00:00, 235.63it/s]\n",
      "Computing node attributes: 100%|██████████| 71/71 [00:00<00:00, 76.14it/s]\n",
      "1 non-connected masks at t=12.\n",
      "1 non-connected masks at t=17.\n",
      "1 non-connected masks at t=19.\n",
      "1 non-connected masks at t=20.\n",
      "1 non-connected masks at t=37.\n",
      "1 non-connected masks at t=46.\n",
      "1 non-connected masks at t=47.\n",
      "1 non-connected masks at t=48.\n",
      "1 non-connected masks at t=49.\n",
      "1 non-connected masks at t=51.\n",
      "1 non-connected masks at t=56.\n",
      "1 non-connected masks at t=61.\n",
      "Matching frames: 100%|██████████| 71/71 [00:00<00:00, 94.22it/s] \n",
      "Evaluating nodes: 100%|██████████| 14047/14047 [00:00<00:00, 285974.81it/s]\n",
      "Evaluating FP edges: 100%|██████████| 13836/13836 [00:00<00:00, 253886.63it/s]\n",
      "Evaluating FN edges: 100%|██████████| 13837/13837 [00:00<00:00, 363014.53it/s]\n",
      "Loading TIFFs: 100%|██████████| 41/41 [00:00<00:00, 544.78it/s]\n",
      "Computing node attributes: 100%|██████████| 42/42 [00:00<00:00, 280.56it/s]\n",
      "Loading TIFFs: 100%|██████████| 41/41 [00:00<00:00, 279.86it/s]\n",
      "Computing node attributes: 100%|██████████| 42/42 [00:00<00:00, 237.82it/s]\n",
      "Matching frames: 100%|██████████| 42/42 [00:00<00:00, 921.52it/s]\n",
      "Evaluating nodes: 100%|██████████| 1397/1397 [00:00<00:00, 361136.68it/s]\n",
      "Evaluating FP edges: 100%|██████████| 1364/1364 [00:00<00:00, 270255.12it/s]\n",
      "Evaluating FN edges: 100%|██████████| 1365/1365 [00:00<00:00, 448615.03it/s]\n",
      "Loading TIFFs: 100%|██████████| 64/64 [00:00<00:00, 565.41it/s]\n",
      "Computing node attributes: 100%|██████████| 65/65 [00:00<00:00, 85.86it/s]\n",
      "Loading TIFFs: 100%|██████████| 64/64 [00:00<00:00, 239.50it/s]\n",
      "Computing node attributes: 100%|██████████| 65/65 [00:00<00:00, 86.34it/s]\n",
      "Matching frames: 100%|██████████| 65/65 [00:00<00:00, 166.43it/s]\n",
      "Evaluating nodes: 100%|██████████| 13145/13145 [00:00<00:00, 311372.61it/s]\n",
      "Evaluating FP edges: 100%|██████████| 12941/12941 [00:00<00:00, 232082.33it/s]\n",
      "Evaluating FN edges: 100%|██████████| 12952/12952 [00:00<00:00, 413269.02it/s]\n",
      "Loading TIFFs: 100%|██████████| 41/41 [00:00<00:00, 557.81it/s]\n",
      "Computing node attributes: 100%|██████████| 42/42 [00:00<00:00, 260.58it/s]\n",
      "Loading TIFFs: 100%|██████████| 41/41 [00:00<00:00, 282.41it/s]\n",
      "Computing node attributes: 100%|██████████| 42/42 [00:00<00:00, 247.77it/s]\n",
      "Matching frames: 100%|██████████| 42/42 [00:00<00:00, 745.39it/s]\n",
      "Evaluating nodes: 100%|██████████| 1665/1665 [00:00<00:00, 392200.17it/s]\n",
      "Evaluating FP edges: 100%|██████████| 1626/1626 [00:00<00:00, 274786.99it/s]\n",
      "Evaluating FN edges: 100%|██████████| 1626/1626 [00:00<00:00, 347088.32it/s]\n",
      "Loading TIFFs: 100%|██████████| 41/41 [00:00<00:00, 556.73it/s]\n",
      "Computing node attributes: 100%|██████████| 42/42 [00:00<00:00, 252.15it/s]\n",
      "Loading TIFFs: 100%|██████████| 41/41 [00:00<00:00, 278.23it/s]\n",
      "Computing node attributes: 100%|██████████| 42/42 [00:00<00:00, 235.56it/s]\n",
      "Matching frames: 100%|██████████| 42/42 [00:00<00:00, 861.40it/s]\n",
      "Evaluating nodes: 100%|██████████| 1626/1626 [00:00<00:00, 403164.95it/s]\n",
      "Evaluating FP edges: 100%|██████████| 1585/1585 [00:00<00:00, 261628.17it/s]\n",
      "Evaluating FN edges: 100%|██████████| 1587/1587 [00:00<00:00, 379085.39it/s]\n",
      "Loading TIFFs: 100%|██████████| 41/41 [00:00<00:00, 558.29it/s]\n",
      "Computing node attributes: 100%|██████████| 42/42 [00:00<00:00, 306.13it/s]\n",
      "Loading TIFFs: 100%|██████████| 41/41 [00:00<00:00, 282.63it/s]\n",
      "Computing node attributes: 100%|██████████| 42/42 [00:00<00:00, 297.60it/s]\n",
      "Matching frames: 100%|██████████| 42/42 [00:00<00:00, 1252.85it/s]\n",
      "Evaluating nodes: 100%|██████████| 1240/1240 [00:00<00:00, 332710.91it/s]\n",
      "Evaluating FP edges: 100%|██████████| 1210/1210 [00:00<00:00, 215238.47it/s]\n",
      "Evaluating FN edges: 100%|██████████| 1209/1209 [00:00<00:00, 454301.52it/s]\n",
      "Loading TIFFs: 100%|██████████| 49/49 [00:00<00:00, 560.26it/s]\n",
      "Computing node attributes: 100%|██████████| 50/50 [00:00<00:00, 349.78it/s]\n",
      "Loading TIFFs: 100%|██████████| 49/49 [00:00<00:00, 241.43it/s]\n",
      "Computing node attributes: 100%|██████████| 50/50 [00:00<00:00, 319.17it/s]\n",
      "Matching frames: 100%|██████████| 50/50 [00:00<00:00, 1378.50it/s]\n",
      "Evaluating nodes: 100%|██████████| 1021/1021 [00:00<00:00, 303844.50it/s]\n",
      "Evaluating FP edges: 100%|██████████| 993/993 [00:00<00:00, 277459.45it/s]\n",
      "Evaluating FN edges: 100%|██████████| 993/993 [00:00<00:00, 280128.05it/s]\n",
      "Loading TIFFs: 100%|██████████| 64/64 [00:00<00:00, 561.51it/s]\n",
      "Computing node attributes: 100%|██████████| 65/65 [00:00<00:00, 103.86it/s]\n",
      "Loading TIFFs: 100%|██████████| 64/64 [00:00<00:00, 231.69it/s]\n",
      "Computing node attributes: 100%|██████████| 65/65 [00:00<00:00, 105.12it/s]\n",
      "Matching frames: 100%|██████████| 65/65 [00:00<00:00, 213.88it/s]\n",
      "Evaluating nodes: 100%|██████████| 10474/10474 [00:00<00:00, 328282.86it/s]\n",
      "Evaluating FP edges: 100%|██████████| 10311/10311 [00:00<00:00, 235862.26it/s]\n",
      "Evaluating FN edges: 100%|██████████| 10306/10306 [00:00<00:00, 326062.99it/s]\n",
      "Loading TIFFs: 100%|██████████| 64/64 [00:00<00:00, 544.12it/s]\n",
      "Computing node attributes: 100%|██████████| 65/65 [00:00<00:00, 124.47it/s]\n",
      "Loading TIFFs: 100%|██████████| 64/64 [00:00<00:00, 227.94it/s]\n",
      "Computing node attributes: 100%|██████████| 65/65 [00:00<00:00, 122.91it/s]\n",
      "Matching frames: 100%|██████████| 65/65 [00:00<00:00, 231.44it/s]\n",
      "Evaluating nodes: 100%|██████████| 8469/8469 [00:00<00:00, 299277.62it/s]\n",
      "Evaluating FP edges: 100%|██████████| 8339/8339 [00:00<00:00, 215799.19it/s]\n",
      "Evaluating FN edges: 100%|██████████| 8342/8342 [00:00<00:00, 355823.98it/s]\n",
      "Loading TIFFs: 100%|██████████| 41/41 [00:00<00:00, 540.85it/s]\n",
      "Computing node attributes: 100%|██████████| 42/42 [00:00<00:00, 354.39it/s]\n",
      "Loading TIFFs: 100%|██████████| 41/41 [00:00<00:00, 280.88it/s]\n",
      "Computing node attributes: 100%|██████████| 42/42 [00:00<00:00, 330.99it/s]\n",
      "Matching frames: 100%|██████████| 42/42 [00:00<00:00, 1391.19it/s]\n",
      "Evaluating nodes: 100%|██████████| 964/964 [00:00<00:00, 327075.64it/s]\n",
      "Evaluating FP edges: 100%|██████████| 941/941 [00:00<00:00, 256354.90it/s]\n",
      "Evaluating FN edges: 100%|██████████| 940/940 [00:00<00:00, 353157.09it/s]\n",
      "Loading TIFFs: 100%|██████████| 41/41 [00:00<00:00, 551.93it/s]\n",
      "Computing node attributes: 100%|██████████| 42/42 [00:00<00:00, 341.37it/s]\n",
      "Loading TIFFs: 100%|██████████| 41/41 [00:00<00:00, 263.61it/s]\n",
      "Computing node attributes: 100%|██████████| 42/42 [00:00<00:00, 227.42it/s]\n",
      "Matching frames: 100%|██████████| 42/42 [00:00<00:00, 1258.04it/s]\n",
      "Evaluating nodes: 100%|██████████| 968/968 [00:00<00:00, 343725.56it/s]\n",
      "Evaluating FP edges: 100%|██████████| 946/946 [00:00<00:00, 233771.97it/s]\n",
      "Evaluating FN edges: 100%|██████████| 944/944 [00:00<00:00, 383108.17it/s]\n",
      "Loading TIFFs: 100%|██████████| 54/54 [00:00<00:00, 545.50it/s]\n",
      "Computing node attributes: 100%|██████████| 55/55 [00:00<00:00, 112.98it/s]\n",
      "Loading TIFFs: 100%|██████████| 54/54 [00:00<00:00, 237.76it/s]\n",
      "Computing node attributes: 100%|██████████| 55/55 [00:00<00:00, 115.84it/s]\n",
      "Matching frames: 100%|██████████| 55/55 [00:00<00:00, 248.10it/s]\n",
      "Evaluating nodes: 100%|██████████| 7674/7674 [00:00<00:00, 308417.71it/s]\n",
      "Evaluating FP edges: 100%|██████████| 7531/7531 [00:00<00:00, 258723.58it/s]\n",
      "Evaluating FN edges: 100%|██████████| 7538/7538 [00:00<00:00, 280869.74it/s]\n",
      "Loading TIFFs: 100%|██████████| 41/41 [00:00<00:00, 559.40it/s]\n",
      "Computing node attributes: 100%|██████████| 42/42 [00:00<00:00, 269.81it/s]\n",
      "Loading TIFFs: 100%|██████████| 41/41 [00:00<00:00, 279.76it/s]\n",
      "Computing node attributes: 100%|██████████| 42/42 [00:00<00:00, 278.90it/s]\n",
      "Matching frames: 100%|██████████| 42/42 [00:00<00:00, 871.17it/s]\n",
      "Evaluating nodes: 100%|██████████| 1487/1487 [00:00<00:00, 380092.03it/s]\n",
      "Evaluating FP edges: 100%|██████████| 1450/1450 [00:00<00:00, 234057.14it/s]\n",
      "Evaluating FN edges: 100%|██████████| 1450/1450 [00:00<00:00, 358023.24it/s]\n",
      "Loading TIFFs: 100%|██████████| 64/64 [00:00<00:00, 565.57it/s]\n",
      "Computing node attributes: 100%|██████████| 65/65 [00:00<00:00, 141.21it/s]\n",
      "Loading TIFFs: 100%|██████████| 64/64 [00:00<00:00, 239.21it/s]\n",
      "Computing node attributes: 100%|██████████| 65/65 [00:00<00:00, 136.24it/s]\n",
      "Matching frames: 100%|██████████| 65/65 [00:00<00:00, 326.76it/s]\n",
      "Evaluating nodes: 100%|██████████| 7225/7225 [00:00<00:00, 340183.05it/s]\n",
      "Evaluating FP edges: 100%|██████████| 7110/7110 [00:00<00:00, 253093.50it/s]\n",
      "Evaluating FN edges: 100%|██████████| 7109/7109 [00:00<00:00, 360142.85it/s]\n",
      "Loading TIFFs: 100%|██████████| 41/41 [00:00<00:00, 546.23it/s]\n",
      "Computing node attributes: 100%|██████████| 42/42 [00:00<00:00, 327.70it/s]\n",
      "Loading TIFFs: 100%|██████████| 41/41 [00:00<00:00, 276.72it/s]\n",
      "Computing node attributes: 100%|██████████| 42/42 [00:00<00:00, 324.49it/s]\n",
      "Matching frames: 100%|██████████| 42/42 [00:00<00:00, 1082.81it/s]\n",
      "Evaluating nodes: 100%|██████████| 1073/1073 [00:00<00:00, 279881.11it/s]\n",
      "Evaluating FP edges: 100%|██████████| 1048/1048 [00:00<00:00, 231702.63it/s]\n",
      "Evaluating FN edges: 100%|██████████| 1045/1045 [00:00<00:00, 300538.10it/s]\n",
      "Loading TIFFs: 100%|██████████| 41/41 [00:00<00:00, 539.48it/s]\n",
      "Computing node attributes: 100%|██████████| 42/42 [00:00<00:00, 208.84it/s]\n",
      "Loading TIFFs: 100%|██████████| 41/41 [00:00<00:00, 262.83it/s]\n",
      "Computing node attributes: 100%|██████████| 42/42 [00:00<00:00, 202.97it/s]\n",
      "Matching frames: 100%|██████████| 42/42 [00:00<00:00, 467.71it/s]\n",
      "Evaluating nodes: 100%|██████████| 2393/2393 [00:00<00:00, 387094.35it/s]\n",
      "Evaluating FP edges: 100%|██████████| 2337/2337 [00:00<00:00, 236081.13it/s]\n",
      "Evaluating FN edges: 100%|██████████| 2338/2338 [00:00<00:00, 356851.63it/s]\n",
      "Loading TIFFs: 100%|██████████| 44/44 [00:00<00:00, 563.49it/s]\n",
      "Computing node attributes: 100%|██████████| 45/45 [00:00<00:00, 165.65it/s]\n",
      "Loading TIFFs: 100%|██████████| 44/44 [00:00<00:00, 244.57it/s]\n",
      "Computing node attributes: 100%|██████████| 45/45 [00:00<00:00, 188.95it/s]\n",
      "Matching frames: 100%|██████████| 45/45 [00:00<00:00, 512.82it/s]\n",
      "Evaluating nodes: 100%|██████████| 3403/3403 [00:00<00:00, 415946.86it/s]\n",
      "Evaluating FP edges: 100%|██████████| 3325/3325 [00:00<00:00, 268291.51it/s]\n",
      "Evaluating FN edges: 100%|██████████| 3325/3325 [00:00<00:00, 368884.85it/s]\n",
      "Loading TIFFs: 100%|██████████| 41/41 [00:00<00:00, 528.72it/s]\n",
      "Computing node attributes: 100%|██████████| 42/42 [00:00<00:00, 268.21it/s]\n",
      "Loading TIFFs: 100%|██████████| 41/41 [00:00<00:00, 281.55it/s]\n",
      "Computing node attributes: 100%|██████████| 42/42 [00:00<00:00, 255.48it/s]\n",
      "Matching frames: 100%|██████████| 42/42 [00:00<00:00, 810.62it/s]\n",
      "Evaluating nodes: 100%|██████████| 1458/1458 [00:00<00:00, 405389.14it/s]\n",
      "Evaluating FP edges: 100%|██████████| 1423/1423 [00:00<00:00, 157334.77it/s]\n",
      "Evaluating FN edges: 100%|██████████| 1424/1424 [00:00<00:00, 359952.32it/s]\n",
      "Loading TIFFs: 100%|██████████| 64/64 [00:00<00:00, 558.39it/s]\n",
      "Computing node attributes: 100%|██████████| 65/65 [00:00<00:00, 154.34it/s]\n",
      "Loading TIFFs: 100%|██████████| 64/64 [00:00<00:00, 242.17it/s]\n",
      "Computing node attributes: 100%|██████████| 65/65 [00:00<00:00, 157.62it/s]\n",
      "Matching frames: 100%|██████████| 65/65 [00:00<00:00, 398.96it/s]\n",
      "Evaluating nodes: 100%|██████████| 6077/6077 [00:00<00:00, 357401.26it/s]\n",
      "Evaluating FP edges: 100%|██████████| 5958/5958 [00:00<00:00, 256638.53it/s]\n",
      "Evaluating FN edges: 100%|██████████| 5977/5977 [00:00<00:00, 359139.23it/s]\n",
      "Loading TIFFs: 100%|██████████| 70/70 [00:00<00:00, 540.85it/s]\n",
      "Computing node attributes: 100%|██████████| 71/71 [00:00<00:00, 132.51it/s]\n",
      "Loading TIFFs: 100%|██████████| 70/70 [00:00<00:00, 239.02it/s]\n",
      "Computing node attributes: 100%|██████████| 71/71 [00:00<00:00, 128.21it/s]\n",
      "Matching frames: 100%|██████████| 71/71 [00:00<00:00, 256.73it/s]\n",
      "Evaluating nodes: 100%|██████████| 7527/7527 [00:00<00:00, 323094.43it/s]\n",
      "Evaluating FP edges: 100%|██████████| 7410/7410 [00:00<00:00, 255174.90it/s]\n",
      "Evaluating FN edges: 100%|██████████| 7411/7411 [00:00<00:00, 295911.15it/s]\n",
      "Loading TIFFs: 100%|██████████| 54/54 [00:00<00:00, 549.08it/s]\n",
      "Computing node attributes: 100%|██████████| 55/55 [00:00<00:00, 88.47it/s]\n",
      "Loading TIFFs: 100%|██████████| 54/54 [00:00<00:00, 238.67it/s]\n",
      "Computing node attributes: 100%|██████████| 55/55 [00:00<00:00, 91.29it/s]\n",
      "Matching frames: 100%|██████████| 55/55 [00:00<00:00, 154.61it/s]\n",
      "Evaluating nodes: 100%|██████████| 10554/10554 [00:00<00:00, 293170.44it/s]\n",
      "Evaluating FP edges: 100%|██████████| 10356/10356 [00:00<00:00, 252212.05it/s]\n",
      "Evaluating FN edges: 100%|██████████| 10358/10358 [00:00<00:00, 336628.50it/s]\n",
      "Loading TIFFs: 100%|██████████| 54/54 [00:00<00:00, 570.53it/s]\n",
      "Computing node attributes: 100%|██████████| 55/55 [00:00<00:00, 91.31it/s]\n",
      "Loading TIFFs: 100%|██████████| 54/54 [00:00<00:00, 239.88it/s]\n",
      "Computing node attributes: 100%|██████████| 55/55 [00:00<00:00, 89.72it/s]\n",
      "Matching frames: 100%|██████████| 55/55 [00:00<00:00, 165.65it/s]\n",
      "Evaluating nodes: 100%|██████████| 10343/10343 [00:00<00:00, 316522.95it/s]\n",
      "Evaluating FP edges: 100%|██████████| 10159/10159 [00:00<00:00, 107566.62it/s]\n",
      "Evaluating FN edges: 100%|██████████| 10160/10160 [00:00<00:00, 348496.31it/s]\n",
      "Loading TIFFs: 100%|██████████| 41/41 [00:00<00:00, 552.41it/s]\n",
      "Computing node attributes: 100%|██████████| 42/42 [00:00<00:00, 333.70it/s]\n",
      "Loading TIFFs: 100%|██████████| 41/41 [00:00<00:00, 284.17it/s]\n",
      "Computing node attributes: 100%|██████████| 42/42 [00:00<00:00, 319.59it/s]\n",
      "Matching frames: 100%|██████████| 42/42 [00:00<00:00, 1233.93it/s]\n",
      "Evaluating nodes: 100%|██████████| 1016/1016 [00:00<00:00, 344245.32it/s]\n",
      "Evaluating FP edges: 100%|██████████| 992/992 [00:00<00:00, 266817.34it/s]\n",
      "Evaluating FN edges: 100%|██████████| 992/992 [00:00<00:00, 386363.60it/s]\n",
      "Loading TIFFs: 100%|██████████| 41/41 [00:00<00:00, 544.53it/s]\n",
      "Computing node attributes: 100%|██████████| 42/42 [00:00<00:00, 312.22it/s]\n",
      "Loading TIFFs: 100%|██████████| 41/41 [00:00<00:00, 282.98it/s]\n",
      "Computing node attributes: 100%|██████████| 42/42 [00:00<00:00, 269.75it/s]\n",
      "Matching frames: 100%|██████████| 42/42 [00:00<00:00, 1093.11it/s]\n",
      "Evaluating nodes: 100%|██████████| 1177/1177 [00:00<00:00, 359241.44it/s]\n",
      "Evaluating FP edges: 100%|██████████| 1150/1150 [00:00<00:00, 208988.28it/s]\n",
      "Evaluating FN edges: 100%|██████████| 1150/1150 [00:00<00:00, 304222.62it/s]\n",
      "Loading TIFFs: 100%|██████████| 41/41 [00:00<00:00, 517.60it/s]\n",
      "Computing node attributes: 100%|██████████| 42/42 [00:00<00:00, 320.05it/s]\n",
      "Loading TIFFs: 100%|██████████| 41/41 [00:00<00:00, 282.99it/s]\n",
      "Computing node attributes: 100%|██████████| 42/42 [00:00<00:00, 298.87it/s]\n",
      "Matching frames: 100%|██████████| 42/42 [00:00<00:00, 1216.01it/s]\n",
      "Evaluating nodes: 100%|██████████| 1191/1191 [00:00<00:00, 330493.95it/s]\n",
      "Evaluating FP edges: 100%|██████████| 1160/1160 [00:00<00:00, 274230.22it/s]\n",
      "Evaluating FN edges: 100%|██████████| 1160/1160 [00:00<00:00, 339264.53it/s]\n",
      "Loading TIFFs: 100%|██████████| 41/41 [00:00<00:00, 553.38it/s]\n",
      "Computing node attributes: 100%|██████████| 42/42 [00:00<00:00, 373.38it/s]\n",
      "Loading TIFFs: 100%|██████████| 41/41 [00:00<00:00, 278.44it/s]\n",
      "Computing node attributes: 100%|██████████| 42/42 [00:00<00:00, 344.10it/s]\n",
      "Matching frames: 100%|██████████| 42/42 [00:00<00:00, 1485.20it/s]\n",
      "Evaluating nodes: 100%|██████████| 928/928 [00:00<00:00, 363699.69it/s]\n",
      "Evaluating FP edges: 100%|██████████| 903/903 [00:00<00:00, 235333.45it/s]\n",
      "Evaluating FN edges: 100%|██████████| 904/904 [00:00<00:00, 413033.86it/s]\n",
      "Loading TIFFs: 100%|██████████| 70/70 [00:00<00:00, 549.77it/s]\n",
      "Computing node attributes: 100%|██████████| 71/71 [00:00<00:00, 142.99it/s]\n",
      "Loading TIFFs: 100%|██████████| 70/70 [00:00<00:00, 148.08it/s]\n",
      "Computing node attributes: 100%|██████████| 71/71 [00:00<00:00, 148.16it/s]\n",
      "Matching frames: 100%|██████████| 71/71 [00:00<00:00, 303.02it/s]\n",
      "Evaluating nodes: 100%|██████████| 6358/6358 [00:00<00:00, 288808.10it/s]\n",
      "Evaluating FP edges: 100%|██████████| 6273/6273 [00:00<00:00, 117664.10it/s]\n",
      "Evaluating FN edges: 100%|██████████| 6274/6274 [00:00<00:00, 159460.11it/s]\n",
      "Loading TIFFs: 100%|██████████| 44/44 [00:00<00:00, 555.40it/s]\n",
      "Computing node attributes: 100%|██████████| 45/45 [00:00<00:00, 143.15it/s]\n",
      "Loading TIFFs: 100%|██████████| 44/44 [00:00<00:00, 228.18it/s]\n",
      "Computing node attributes: 100%|██████████| 45/45 [00:00<00:00, 146.68it/s]\n",
      "Matching frames: 100%|██████████| 45/45 [00:00<00:00, 368.75it/s]\n",
      "Evaluating nodes: 100%|██████████| 4660/4660 [00:00<00:00, 362678.26it/s]\n",
      "Evaluating FP edges: 100%|██████████| 4551/4551 [00:00<00:00, 216629.15it/s]\n",
      "Evaluating FN edges: 100%|██████████| 4551/4551 [00:00<00:00, 322846.13it/s]\n",
      "Loading TIFFs: 100%|██████████| 41/41 [00:00<00:00, 529.14it/s]\n",
      "Computing node attributes: 100%|██████████| 42/42 [00:00<00:00, 197.61it/s]\n",
      "Loading TIFFs: 100%|██████████| 41/41 [00:00<00:00, 271.25it/s]\n",
      "Computing node attributes: 100%|██████████| 42/42 [00:00<00:00, 226.28it/s]\n",
      "Matching frames: 100%|██████████| 42/42 [00:00<00:00, 535.21it/s]\n",
      "Evaluating nodes: 100%|██████████| 2141/2141 [00:00<00:00, 355671.93it/s]\n",
      "Evaluating FP edges: 100%|██████████| 2088/2088 [00:00<00:00, 220076.06it/s]\n",
      "Evaluating FN edges: 100%|██████████| 2089/2089 [00:00<00:00, 226610.66it/s]\n",
      "Loading TIFFs: 100%|██████████| 70/70 [00:00<00:00, 559.78it/s]\n",
      "Computing node attributes: 100%|██████████| 71/71 [00:00<00:00, 196.68it/s]\n",
      "Loading TIFFs: 100%|██████████| 70/70 [00:00<00:00, 238.90it/s]\n",
      "Computing node attributes: 100%|██████████| 71/71 [00:00<00:00, 197.37it/s]\n",
      "Matching frames: 100%|██████████| 71/71 [00:00<00:00, 470.06it/s]\n",
      "Evaluating nodes: 100%|██████████| 4426/4426 [00:00<00:00, 347705.37it/s]\n",
      "Evaluating FP edges: 100%|██████████| 4345/4345 [00:00<00:00, 266803.08it/s]\n",
      "Evaluating FN edges: 100%|██████████| 4357/4357 [00:00<00:00, 383331.92it/s]\n",
      "Loading TIFFs: 100%|██████████| 70/70 [00:00<00:00, 549.46it/s]\n",
      "Computing node attributes: 100%|██████████| 71/71 [00:01<00:00, 65.04it/s]\n",
      "11 non-connected masks at t=0.\n",
      "1 non-connected masks at t=43.\n",
      "1 non-connected masks at t=46.\n",
      "1 non-connected masks at t=69.\n",
      "Loading TIFFs: 100%|██████████| 70/70 [00:00<00:00, 237.45it/s]\n",
      "Computing node attributes: 100%|██████████| 71/71 [00:01<00:00, 66.47it/s]\n",
      "11 non-connected masks at t=0.\n",
      "1 non-connected masks at t=43.\n",
      "1 non-connected masks at t=46.\n",
      "1 non-connected masks at t=69.\n",
      "Matching frames: 100%|██████████| 71/71 [00:00<00:00, 76.47it/s]\n",
      "Evaluating nodes: 100%|██████████| 16388/16388 [00:00<00:00, 313363.36it/s]\n",
      "Evaluating FP edges: 100%|██████████| 16143/16143 [00:00<00:00, 224104.36it/s]\n",
      "Evaluating FN edges: 100%|██████████| 16145/16145 [00:00<00:00, 378785.72it/s]\n",
      "Loading TIFFs: 100%|██████████| 70/70 [00:00<00:00, 543.39it/s]\n",
      "Computing node attributes: 100%|██████████| 71/71 [00:00<00:00, 187.54it/s]\n",
      "Loading TIFFs: 100%|██████████| 70/70 [00:00<00:00, 231.68it/s]\n",
      "Computing node attributes: 100%|██████████| 71/71 [00:00<00:00, 191.66it/s]\n",
      "Matching frames: 100%|██████████| 71/71 [00:00<00:00, 554.85it/s]\n",
      "Evaluating nodes: 100%|██████████| 4414/4414 [00:00<00:00, 367392.80it/s]\n",
      "Evaluating FP edges: 100%|██████████| 4346/4346 [00:00<00:00, 277049.09it/s]\n",
      "Evaluating FN edges: 100%|██████████| 4351/4351 [00:00<00:00, 373443.09it/s]\n",
      "Loading TIFFs: 100%|██████████| 44/44 [00:00<00:00, 517.09it/s]\n",
      "Computing node attributes: 100%|██████████| 45/45 [00:00<00:00, 104.45it/s]\n",
      "1 non-connected masks at t=31.\n",
      "1 non-connected masks at t=37.\n",
      "Loading TIFFs: 100%|██████████| 44/44 [00:00<00:00, 240.08it/s]\n",
      "Computing node attributes: 100%|██████████| 45/45 [00:00<00:00, 107.19it/s]\n",
      "1 non-connected masks at t=31.\n",
      "1 non-connected masks at t=37.\n",
      "Matching frames: 100%|██████████| 45/45 [00:00<00:00, 197.69it/s]\n",
      "Evaluating nodes: 100%|██████████| 7242/7242 [00:00<00:00, 293894.28it/s]\n",
      "Evaluating FP edges: 100%|██████████| 7077/7077 [00:00<00:00, 232127.64it/s]\n",
      "Evaluating FN edges: 100%|██████████| 7093/7093 [00:00<00:00, 339528.87it/s]\n",
      "Loading TIFFs: 100%|██████████| 70/70 [00:00<00:00, 554.12it/s]\n",
      "Computing node attributes: 100%|██████████| 71/71 [00:01<00:00, 67.49it/s]\n",
      "1 non-connected masks at t=46.\n",
      "1 non-connected masks at t=61.\n",
      "2 non-connected masks at t=63.\n",
      "1 non-connected masks at t=64.\n",
      "Loading TIFFs: 100%|██████████| 70/70 [00:00<00:00, 236.74it/s]\n",
      "Computing node attributes: 100%|██████████| 71/71 [00:01<00:00, 66.44it/s]\n",
      "1 non-connected masks at t=46.\n",
      "1 non-connected masks at t=61.\n",
      "2 non-connected masks at t=63.\n",
      "1 non-connected masks at t=64.\n",
      "Matching frames: 100%|██████████| 71/71 [00:00<00:00, 72.27it/s]\n",
      "Evaluating nodes: 100%|██████████| 16729/16729 [00:00<00:00, 299808.20it/s]\n",
      "Evaluating FP edges: 100%|██████████| 16486/16486 [00:00<00:00, 251714.73it/s]\n",
      "Evaluating FN edges: 100%|██████████| 16500/16500 [00:00<00:00, 389855.71it/s]\n",
      "Loading TIFFs: 100%|██████████| 41/41 [00:00<00:00, 530.77it/s]\n",
      "Computing node attributes: 100%|██████████| 42/42 [00:00<00:00, 243.13it/s]\n",
      "Loading TIFFs: 100%|██████████| 41/41 [00:00<00:00, 283.73it/s]\n",
      "Computing node attributes: 100%|██████████| 42/42 [00:00<00:00, 232.65it/s]\n",
      "Matching frames: 100%|██████████| 42/42 [00:00<00:00, 801.09it/s]\n",
      "Evaluating nodes: 100%|██████████| 1784/1784 [00:00<00:00, 393947.47it/s]\n",
      "Evaluating FP edges: 100%|██████████| 1734/1734 [00:00<00:00, 248349.77it/s]\n",
      "Evaluating FN edges: 100%|██████████| 1737/1737 [00:00<00:00, 392432.32it/s]\n",
      "Loading TIFFs: 100%|██████████| 64/64 [00:00<00:00, 529.86it/s]\n",
      "Computing node attributes: 100%|██████████| 65/65 [00:00<00:00, 137.56it/s]\n",
      "Loading TIFFs: 100%|██████████| 64/64 [00:00<00:00, 236.65it/s]\n",
      "Computing node attributes: 100%|██████████| 65/65 [00:00<00:00, 144.61it/s]\n",
      "Matching frames: 100%|██████████| 65/65 [00:00<00:00, 336.31it/s]\n",
      "Evaluating nodes: 100%|██████████| 7331/7331 [00:00<00:00, 244017.83it/s]\n",
      "Evaluating FP edges: 100%|██████████| 7214/7214 [00:00<00:00, 225655.61it/s]\n",
      "Evaluating FN edges: 100%|██████████| 7219/7219 [00:00<00:00, 322796.99it/s]\n",
      "Loading TIFFs: 100%|██████████| 41/41 [00:00<00:00, 544.00it/s]\n",
      "Computing node attributes: 100%|██████████| 42/42 [00:00<00:00, 295.28it/s]\n",
      "Loading TIFFs: 100%|██████████| 41/41 [00:00<00:00, 270.68it/s]\n",
      "Computing node attributes: 100%|██████████| 42/42 [00:00<00:00, 299.82it/s]\n",
      "Matching frames: 100%|██████████| 42/42 [00:00<00:00, 988.14it/s]\n",
      "Evaluating nodes: 100%|██████████| 1180/1180 [00:00<00:00, 458224.12it/s]\n",
      "Evaluating FP edges: 100%|██████████| 1152/1152 [00:00<00:00, 222747.47it/s]\n",
      "Evaluating FN edges: 100%|██████████| 1154/1154 [00:00<00:00, 351428.65it/s]\n",
      "Loading TIFFs: 100%|██████████| 64/64 [00:00<00:00, 438.98it/s]\n",
      "Computing node attributes: 100%|██████████| 65/65 [00:00<00:00, 116.95it/s]\n",
      "Loading TIFFs: 100%|██████████| 64/64 [00:00<00:00, 220.90it/s]\n",
      "Computing node attributes: 100%|██████████| 65/65 [00:00<00:00, 122.64it/s]\n",
      "Matching frames: 100%|██████████| 65/65 [00:00<00:00, 296.22it/s]\n",
      "Evaluating nodes: 100%|██████████| 7025/7025 [00:00<00:00, 258269.95it/s]\n",
      "Evaluating FP edges: 100%|██████████| 6909/6909 [00:00<00:00, 219482.14it/s]\n",
      "Evaluating FN edges: 100%|██████████| 6918/6918 [00:00<00:00, 298551.24it/s]\n",
      "Loading TIFFs: 100%|██████████| 70/70 [00:00<00:00, 484.40it/s]\n",
      "Computing node attributes: 100%|██████████| 71/71 [00:00<00:00, 102.24it/s]\n",
      "Loading TIFFs: 100%|██████████| 70/70 [00:00<00:00, 236.62it/s]\n",
      "Computing node attributes: 100%|██████████| 71/71 [00:00<00:00, 117.36it/s]\n",
      "Matching frames: 100%|██████████| 71/71 [00:00<00:00, 271.84it/s]\n",
      "Evaluating nodes: 100%|██████████| 6893/6893 [00:00<00:00, 349153.88it/s]\n",
      "Evaluating FP edges: 100%|██████████| 6792/6792 [00:00<00:00, 240680.89it/s]\n",
      "Evaluating FN edges: 100%|██████████| 6785/6785 [00:00<00:00, 366457.45it/s]\n",
      "Loading TIFFs: 100%|██████████| 54/54 [00:00<00:00, 547.14it/s]\n",
      "Computing node attributes: 100%|██████████| 55/55 [00:00<00:00, 78.48it/s]\n",
      "Loading TIFFs: 100%|██████████| 54/54 [00:00<00:00, 237.17it/s]\n",
      "Computing node attributes: 100%|██████████| 55/55 [00:00<00:00, 85.10it/s]\n",
      "Matching frames: 100%|██████████| 55/55 [00:00<00:00, 147.01it/s]\n",
      "Evaluating nodes: 100%|██████████| 9984/9984 [00:00<00:00, 308081.16it/s]\n",
      "Evaluating FP edges: 100%|██████████| 9815/9815 [00:00<00:00, 257019.65it/s]\n",
      "Evaluating FN edges: 100%|██████████| 9812/9812 [00:00<00:00, 392508.45it/s]\n",
      "Loading TIFFs: 100%|██████████| 64/64 [00:00<00:00, 489.54it/s]\n",
      "Computing node attributes: 100%|██████████| 65/65 [00:00<00:00, 87.92it/s] \n",
      "Loading TIFFs: 100%|██████████| 64/64 [00:00<00:00, 217.53it/s]\n",
      "Computing node attributes: 100%|██████████| 65/65 [00:00<00:00, 99.64it/s] \n",
      "Matching frames: 100%|██████████| 65/65 [00:00<00:00, 237.20it/s]\n",
      "Evaluating nodes: 100%|██████████| 9230/9230 [00:00<00:00, 281394.61it/s]\n",
      "Evaluating FP edges: 100%|██████████| 9086/9086 [00:00<00:00, 234209.79it/s]\n",
      "Evaluating FN edges: 100%|██████████| 9088/9088 [00:00<00:00, 298121.65it/s]\n",
      "Loading TIFFs: 100%|██████████| 49/49 [00:00<00:00, 537.11it/s]\n",
      "Computing node attributes: 100%|██████████| 50/50 [00:00<00:00, 344.30it/s]\n",
      "Loading TIFFs: 100%|██████████| 49/49 [00:00<00:00, 215.15it/s]\n",
      "Computing node attributes: 100%|██████████| 50/50 [00:00<00:00, 363.30it/s]\n",
      "Matching frames: 100%|██████████| 50/50 [00:00<00:00, 1779.51it/s]\n",
      "Evaluating nodes: 100%|██████████| 838/838 [00:00<00:00, 437113.14it/s]\n",
      "Evaluating FP edges: 100%|██████████| 815/815 [00:00<00:00, 196683.42it/s]\n",
      "Evaluating FN edges: 100%|██████████| 816/816 [00:00<00:00, 329725.63it/s]\n",
      "Loading TIFFs: 100%|██████████| 44/44 [00:00<00:00, 543.08it/s]\n",
      "Computing node attributes: 100%|██████████| 45/45 [00:00<00:00, 123.93it/s]\n",
      "Loading TIFFs: 100%|██████████| 44/44 [00:00<00:00, 238.80it/s]\n",
      "Computing node attributes: 100%|██████████| 45/45 [00:00<00:00, 125.44it/s]\n",
      "Matching frames: 100%|██████████| 45/45 [00:00<00:00, 255.81it/s]\n",
      "Evaluating nodes: 100%|██████████| 5230/5230 [00:00<00:00, 317906.87it/s]\n",
      "Evaluating FP edges: 100%|██████████| 5094/5094 [00:00<00:00, 211743.68it/s]\n",
      "Evaluating FN edges: 100%|██████████| 5113/5113 [00:00<00:00, 326345.62it/s]\n",
      "Loading TIFFs: 100%|██████████| 41/41 [00:00<00:00, 522.30it/s]\n",
      "Computing node attributes: 100%|██████████| 42/42 [00:00<00:00, 179.60it/s]\n",
      "Loading TIFFs: 100%|██████████| 41/41 [00:00<00:00, 251.07it/s]\n",
      "Computing node attributes: 100%|██████████| 42/42 [00:00<00:00, 181.45it/s]\n",
      "Matching frames: 100%|██████████| 42/42 [00:00<00:00, 459.66it/s]\n",
      "Evaluating nodes: 100%|██████████| 2299/2299 [00:00<00:00, 225597.29it/s]\n",
      "Evaluating FP edges: 100%|██████████| 2243/2243 [00:00<00:00, 146605.54it/s]\n",
      "Evaluating FN edges: 100%|██████████| 2244/2244 [00:00<00:00, 239601.30it/s]\n",
      "Loading TIFFs: 100%|██████████| 41/41 [00:00<00:00, 491.81it/s]\n",
      "Computing node attributes: 100%|██████████| 42/42 [00:00<00:00, 239.57it/s]\n",
      "Loading TIFFs: 100%|██████████| 41/41 [00:00<00:00, 270.93it/s]\n",
      "Computing node attributes: 100%|██████████| 42/42 [00:00<00:00, 251.92it/s]\n",
      "Matching frames: 100%|██████████| 42/42 [00:00<00:00, 776.31it/s]\n",
      "Evaluating nodes: 100%|██████████| 1570/1570 [00:00<00:00, 332813.97it/s]\n",
      "Evaluating FP edges: 100%|██████████| 1534/1534 [00:00<00:00, 242009.42it/s]\n",
      "Evaluating FN edges: 100%|██████████| 1533/1533 [00:00<00:00, 329264.03it/s]\n",
      "Loading TIFFs: 100%|██████████| 41/41 [00:00<00:00, 522.66it/s]\n",
      "Computing node attributes: 100%|██████████| 42/42 [00:00<00:00, 253.20it/s]\n",
      "Loading TIFFs: 100%|██████████| 41/41 [00:00<00:00, 281.17it/s]\n",
      "Computing node attributes: 100%|██████████| 42/42 [00:00<00:00, 237.47it/s]\n",
      "Matching frames: 100%|██████████| 42/42 [00:00<00:00, 702.89it/s]\n",
      "Evaluating nodes: 100%|██████████| 1497/1497 [00:00<00:00, 271765.63it/s]\n",
      "Evaluating FP edges: 100%|██████████| 1459/1459 [00:00<00:00, 209363.63it/s]\n",
      "Evaluating FN edges: 100%|██████████| 1462/1462 [00:00<00:00, 274132.61it/s]\n",
      "Loading TIFFs: 100%|██████████| 41/41 [00:00<00:00, 535.20it/s]\n",
      "Computing node attributes: 100%|██████████| 42/42 [00:00<00:00, 326.23it/s]\n",
      "Loading TIFFs: 100%|██████████| 41/41 [00:00<00:00, 245.92it/s]\n",
      "Computing node attributes: 100%|██████████| 42/42 [00:00<00:00, 296.02it/s]\n",
      "Matching frames: 100%|██████████| 42/42 [00:00<00:00, 1109.31it/s]\n",
      "Evaluating nodes: 100%|██████████| 972/972 [00:00<00:00, 252766.04it/s]\n",
      "Evaluating FP edges: 100%|██████████| 949/949 [00:00<00:00, 210280.23it/s]\n",
      "Evaluating FN edges: 100%|██████████| 950/950 [00:00<00:00, 327518.40it/s]\n",
      "Loading TIFFs: 100%|██████████| 64/64 [00:00<00:00, 544.23it/s]\n",
      "Computing node attributes: 100%|██████████| 65/65 [00:00<00:00, 115.95it/s]\n",
      "Loading TIFFs: 100%|██████████| 64/64 [00:00<00:00, 237.00it/s]\n",
      "Computing node attributes: 100%|██████████| 65/65 [00:00<00:00, 132.15it/s]\n",
      "Matching frames: 100%|██████████| 65/65 [00:00<00:00, 291.72it/s]\n",
      "Evaluating nodes: 100%|██████████| 7726/7726 [00:00<00:00, 297677.68it/s]\n",
      "Evaluating FP edges: 100%|██████████| 7600/7600 [00:00<00:00, 234108.71it/s]\n",
      "Evaluating FN edges: 100%|██████████| 7605/7605 [00:00<00:00, 342587.98it/s]\n",
      "Loading TIFFs: 100%|██████████| 54/54 [00:00<00:00, 546.22it/s]\n",
      "Computing node attributes: 100%|██████████| 55/55 [00:00<00:00, 78.78it/s]\n",
      "Loading TIFFs: 100%|██████████| 54/54 [00:00<00:00, 226.41it/s]\n",
      "Computing node attributes: 100%|██████████| 55/55 [00:00<00:00, 88.04it/s]\n",
      "Matching frames: 100%|██████████| 55/55 [00:00<00:00, 158.37it/s]\n",
      "Evaluating nodes: 100%|██████████| 10872/10872 [00:00<00:00, 220803.08it/s]\n",
      "Evaluating FP edges: 100%|██████████| 10674/10674 [00:00<00:00, 230168.12it/s]\n",
      "Evaluating FN edges: 100%|██████████| 10673/10673 [00:00<00:00, 275139.87it/s]\n",
      "Loading TIFFs: 100%|██████████| 41/41 [00:00<00:00, 529.41it/s]\n",
      "Computing node attributes: 100%|██████████| 42/42 [00:00<00:00, 237.11it/s]\n",
      "Loading TIFFs: 100%|██████████| 41/41 [00:00<00:00, 261.50it/s]\n",
      "Computing node attributes: 100%|██████████| 42/42 [00:00<00:00, 223.87it/s]\n",
      "Matching frames: 100%|██████████| 42/42 [00:00<00:00, 749.47it/s]\n",
      "Evaluating nodes: 100%|██████████| 1447/1447 [00:00<00:00, 334646.99it/s]\n",
      "Evaluating FP edges: 100%|██████████| 1412/1412 [00:00<00:00, 179242.68it/s]\n",
      "Evaluating FN edges: 100%|██████████| 1411/1411 [00:00<00:00, 305233.02it/s]\n",
      "Loading TIFFs: 100%|██████████| 41/41 [00:00<00:00, 490.52it/s]\n",
      "Computing node attributes: 100%|██████████| 42/42 [00:00<00:00, 391.42it/s]\n",
      "Loading TIFFs: 100%|██████████| 41/41 [00:00<00:00, 266.12it/s]\n",
      "Computing node attributes: 100%|██████████| 42/42 [00:00<00:00, 324.26it/s]\n",
      "Matching frames: 100%|██████████| 42/42 [00:00<00:00, 2032.08it/s]\n",
      "Evaluating nodes: 100%|██████████| 675/675 [00:00<00:00, 177668.98it/s]\n",
      "Evaluating FP edges: 100%|██████████| 653/653 [00:00<00:00, 207790.04it/s]\n",
      "Evaluating FN edges: 100%|██████████| 658/658 [00:00<00:00, 357123.71it/s]\n",
      "Loading TIFFs: 100%|██████████| 41/41 [00:00<00:00, 527.49it/s]\n",
      "Computing node attributes: 100%|██████████| 42/42 [00:00<00:00, 389.53it/s]\n",
      "Loading TIFFs: 100%|██████████| 41/41 [00:00<00:00, 258.06it/s]\n",
      "Computing node attributes: 100%|██████████| 42/42 [00:00<00:00, 385.06it/s]\n",
      "Matching frames: 100%|██████████| 42/42 [00:00<00:00, 2147.20it/s]\n",
      "Evaluating nodes: 100%|██████████| 539/539 [00:00<00:00, 295481.62it/s]\n",
      "Evaluating FP edges: 100%|██████████| 524/524 [00:00<00:00, 237858.80it/s]\n",
      "Evaluating FN edges: 100%|██████████| 523/523 [00:00<00:00, 307747.05it/s]\n",
      "Loading TIFFs: 100%|██████████| 41/41 [00:00<00:00, 436.00it/s]\n",
      "Computing node attributes: 100%|██████████| 42/42 [00:00<00:00, 282.71it/s]\n",
      "Loading TIFFs: 100%|██████████| 41/41 [00:00<00:00, 270.05it/s]\n",
      "Computing node attributes: 100%|██████████| 42/42 [00:00<00:00, 304.54it/s]\n",
      "Matching frames: 100%|██████████| 42/42 [00:00<00:00, 1208.65it/s]\n",
      "Evaluating nodes: 100%|██████████| 1097/1097 [00:00<00:00, 347256.72it/s]\n",
      "Evaluating FP edges: 100%|██████████| 1070/1070 [00:00<00:00, 303113.96it/s]\n",
      "Evaluating FN edges: 100%|██████████| 1070/1070 [00:00<00:00, 339042.48it/s]\n",
      "Loading TIFFs: 100%|██████████| 41/41 [00:00<00:00, 518.42it/s]\n",
      "Computing node attributes: 100%|██████████| 42/42 [00:00<00:00, 320.67it/s]\n",
      "Loading TIFFs: 100%|██████████| 41/41 [00:00<00:00, 278.95it/s]\n",
      "Computing node attributes: 100%|██████████| 42/42 [00:00<00:00, 264.00it/s]\n",
      "Matching frames: 100%|██████████| 42/42 [00:00<00:00, 1236.77it/s]\n",
      "Evaluating nodes: 100%|██████████| 1030/1030 [00:00<00:00, 327555.78it/s]\n",
      "Evaluating FP edges: 100%|██████████| 1000/1000 [00:00<00:00, 177687.10it/s]\n",
      "Evaluating FN edges: 100%|██████████| 1002/1002 [00:00<00:00, 392188.56it/s]\n",
      "Loading TIFFs: 100%|██████████| 64/64 [00:00<00:00, 537.15it/s]\n",
      "Computing node attributes: 100%|██████████| 65/65 [00:00<00:00, 105.75it/s]\n",
      "Loading TIFFs: 100%|██████████| 64/64 [00:00<00:00, 228.17it/s]\n",
      "Computing node attributes: 100%|██████████| 65/65 [00:00<00:00, 101.06it/s]\n",
      "Matching frames: 100%|██████████| 65/65 [00:00<00:00, 226.13it/s]\n",
      "Evaluating nodes: 100%|██████████| 9280/9280 [00:00<00:00, 278968.94it/s]\n",
      "Evaluating FP edges: 100%|██████████| 9144/9144 [00:00<00:00, 244971.36it/s]\n",
      "Evaluating FN edges: 100%|██████████| 9153/9153 [00:00<00:00, 322254.20it/s]\n",
      "Loading TIFFs: 100%|██████████| 49/49 [00:00<00:00, 534.39it/s]\n",
      "Computing node attributes: 100%|██████████| 50/50 [00:00<00:00, 516.54it/s]\n",
      "Loading TIFFs: 100%|██████████| 49/49 [00:00<00:00, 238.09it/s]\n",
      "Computing node attributes: 100%|██████████| 50/50 [00:00<00:00, 564.16it/s]\n",
      "Matching frames: 100%|██████████| 50/50 [00:00<00:00, 7661.11it/s]\n",
      "Evaluating nodes: 100%|██████████| 206/206 [00:00<00:00, 555644.13it/s]\n",
      "Evaluating FP edges: 100%|██████████| 201/201 [00:00<00:00, 205222.76it/s]\n",
      "Evaluating FN edges: 100%|██████████| 201/201 [00:00<00:00, 354522.75it/s]\n",
      "Loading TIFFs: 100%|██████████| 70/70 [00:00<00:00, 534.70it/s]\n",
      "Computing node attributes: 100%|██████████| 71/71 [00:00<00:00, 71.63it/s]\n",
      "1 non-connected masks at t=35.\n",
      "1 non-connected masks at t=38.\n",
      "1 non-connected masks at t=40.\n",
      "3 non-connected masks at t=56.\n",
      "1 non-connected masks at t=70.\n",
      "Loading TIFFs: 100%|██████████| 70/70 [00:00<00:00, 234.99it/s]\n",
      "Computing node attributes: 100%|██████████| 71/71 [00:00<00:00, 71.75it/s]\n",
      "1 non-connected masks at t=35.\n",
      "1 non-connected masks at t=38.\n",
      "1 non-connected masks at t=40.\n",
      "3 non-connected masks at t=56.\n",
      "1 non-connected masks at t=70.\n",
      "Matching frames: 100%|██████████| 71/71 [00:00<00:00, 80.29it/s]\n",
      "Evaluating nodes: 100%|██████████| 14985/14985 [00:00<00:00, 304445.93it/s]\n",
      "Evaluating FP edges: 100%|██████████| 14751/14751 [00:00<00:00, 227899.58it/s]\n",
      "Evaluating FN edges: 100%|██████████| 14768/14768 [00:00<00:00, 360861.30it/s]\n",
      "Loading TIFFs: 100%|██████████| 44/44 [00:00<00:00, 541.82it/s]\n",
      "Computing node attributes: 100%|██████████| 45/45 [00:00<00:00, 111.54it/s]\n",
      "Loading TIFFs: 100%|██████████| 44/44 [00:00<00:00, 221.24it/s]\n",
      "Computing node attributes: 100%|██████████| 45/45 [00:00<00:00, 135.65it/s]\n",
      "Matching frames: 100%|██████████| 45/45 [00:00<00:00, 363.54it/s]\n",
      "Evaluating nodes: 100%|██████████| 3868/3868 [00:00<00:00, 352066.32it/s]\n",
      "Evaluating FP edges: 100%|██████████| 3780/3780 [00:00<00:00, 211901.49it/s]\n",
      "Evaluating FN edges: 100%|██████████| 3778/3778 [00:00<00:00, 299236.72it/s]\n",
      "Loading TIFFs: 100%|██████████| 41/41 [00:00<00:00, 514.69it/s]\n",
      "Computing node attributes: 100%|██████████| 42/42 [00:00<00:00, 359.31it/s]\n",
      "Loading TIFFs: 100%|██████████| 41/41 [00:00<00:00, 264.62it/s]\n",
      "Computing node attributes: 100%|██████████| 42/42 [00:00<00:00, 334.18it/s]\n",
      "Matching frames: 100%|██████████| 42/42 [00:00<00:00, 1491.93it/s]\n",
      "Evaluating nodes: 100%|██████████| 712/712 [00:00<00:00, 275874.78it/s]\n",
      "Evaluating FP edges: 100%|██████████| 694/694 [00:00<00:00, 227019.73it/s]\n",
      "Evaluating FN edges: 100%|██████████| 694/694 [00:00<00:00, 383611.88it/s]\n",
      "Loading TIFFs: 100%|██████████| 49/49 [00:00<00:00, 443.54it/s]\n",
      "Computing node attributes: 100%|██████████| 50/50 [00:00<00:00, 466.53it/s]\n",
      "Loading TIFFs: 100%|██████████| 49/49 [00:00<00:00, 226.89it/s]\n",
      "Computing node attributes: 100%|██████████| 50/50 [00:00<00:00, 439.33it/s]\n",
      "Matching frames: 100%|██████████| 50/50 [00:00<00:00, 3324.64it/s]\n",
      "Evaluating nodes: 100%|██████████| 397/397 [00:00<00:00, 353307.59it/s]\n",
      "Evaluating FP edges: 100%|██████████| 383/383 [00:00<00:00, 206639.88it/s]\n",
      "Evaluating FN edges: 100%|██████████| 383/383 [00:00<00:00, 375068.51it/s]\n",
      "Loading TIFFs: 100%|██████████| 70/70 [00:00<00:00, 511.20it/s]\n",
      "Computing node attributes: 100%|██████████| 71/71 [00:00<00:00, 138.31it/s]\n",
      "Loading TIFFs: 100%|██████████| 70/70 [00:00<00:00, 217.23it/s]\n",
      "Computing node attributes: 100%|██████████| 71/71 [00:00<00:00, 155.16it/s]\n",
      "Matching frames: 100%|██████████| 71/71 [00:00<00:00, 417.56it/s]\n",
      "Evaluating nodes: 100%|██████████| 5031/5031 [00:00<00:00, 319400.95it/s]\n",
      "Evaluating FP edges: 100%|██████████| 4963/4963 [00:00<00:00, 150957.84it/s]\n",
      "Evaluating FN edges: 100%|██████████| 4962/4962 [00:00<00:00, 154752.03it/s]\n",
      "Loading TIFFs: 100%|██████████| 54/54 [00:00<00:00, 531.89it/s]\n",
      "Computing node attributes: 100%|██████████| 55/55 [00:00<00:00, 89.75it/s]\n",
      "1 non-connected masks at t=40.\n",
      "Loading TIFFs: 100%|██████████| 54/54 [00:00<00:00, 236.98it/s]\n",
      "Computing node attributes: 100%|██████████| 55/55 [00:00<00:00, 90.89it/s]\n",
      "1 non-connected masks at t=40.\n",
      "Matching frames: 100%|██████████| 55/55 [00:00<00:00, 167.85it/s]\n",
      "Evaluating nodes: 100%|██████████| 9814/9814 [00:00<00:00, 271998.54it/s]\n",
      "Evaluating FP edges: 100%|██████████| 9611/9611 [00:00<00:00, 239980.57it/s]\n",
      "Evaluating FN edges: 100%|██████████| 9614/9614 [00:00<00:00, 328350.26it/s]\n",
      "Loading TIFFs: 100%|██████████| 41/41 [00:00<00:00, 546.64it/s]\n",
      "Computing node attributes: 100%|██████████| 42/42 [00:00<00:00, 177.78it/s]\n",
      "Loading TIFFs: 100%|██████████| 41/41 [00:00<00:00, 279.60it/s]\n",
      "Computing node attributes: 100%|██████████| 42/42 [00:00<00:00, 200.94it/s]\n",
      "Matching frames: 100%|██████████| 42/42 [00:00<00:00, 523.56it/s]\n",
      "Evaluating nodes: 100%|██████████| 2119/2119 [00:00<00:00, 325057.79it/s]\n",
      "Evaluating FP edges: 100%|██████████| 2070/2070 [00:00<00:00, 159376.78it/s]\n",
      "Evaluating FN edges: 100%|██████████| 2069/2069 [00:00<00:00, 346123.76it/s]\n",
      "Loading TIFFs: 100%|██████████| 269/269 [00:04<00:00, 62.09it/s]\n",
      "Computing node attributes: 100%|██████████| 270/270 [00:03<00:00, 86.25it/s] \n",
      "Loading TIFFs: 100%|██████████| 269/269 [00:04<00:00, 60.22it/s]\n",
      "Computing node attributes: 100%|██████████| 270/270 [00:02<00:00, 91.52it/s] \n",
      "Matching frames: 100%|██████████| 270/270 [00:01<00:00, 146.56it/s] \n",
      "Evaluating nodes: 100%|██████████| 47219/47219 [00:00<00:00, 279762.46it/s]\n",
      "Evaluating FP edges: 100%|██████████| 47209/47209 [00:00<00:00, 269841.89it/s]\n",
      "Evaluating FN edges: 100%|██████████| 47217/47217 [00:00<00:00, 360278.94it/s]\n",
      "Loading TIFFs: 100%|██████████| 20/20 [00:00<00:00, 358.97it/s]\n",
      "Computing node attributes: 100%|██████████| 21/21 [00:00<00:00, 83.49it/s]\n",
      "Loading TIFFs: 100%|██████████| 20/20 [00:00<00:00, 542.05it/s]\n",
      "Computing node attributes: 100%|██████████| 21/21 [00:00<00:00, 98.32it/s] \n",
      "Matching frames: 100%|██████████| 21/21 [00:00<00:00, 321.85it/s]\n",
      "Evaluating nodes: 100%|██████████| 2730/2730 [00:00<00:00, 381135.37it/s]\n",
      "Evaluating FP edges: 100%|██████████| 2589/2589 [00:00<00:00, 269783.44it/s]\n",
      "Evaluating FN edges: 100%|██████████| 2589/2589 [00:00<00:00, 346039.10it/s]\n",
      "Loading TIFFs: 100%|██████████| 25/25 [00:00<00:00, 2468.52it/s]\n",
      "Computing node attributes: 100%|██████████| 26/26 [00:00<00:00, 183.80it/s]\n",
      "Loading TIFFs: 100%|██████████| 25/25 [00:00<00:00, 3039.17it/s]\n",
      "Computing node attributes: 100%|██████████| 26/26 [00:00<00:00, 162.28it/s]\n",
      "Matching frames: 100%|██████████| 26/26 [00:00<00:00, 317.57it/s]\n",
      "Evaluating nodes: 100%|██████████| 2426/2426 [00:00<00:00, 457258.86it/s]\n",
      "Evaluating FP edges: 100%|██████████| 2421/2421 [00:00<00:00, 248620.57it/s]\n",
      "Evaluating FN edges: 100%|██████████| 2413/2413 [00:00<00:00, 330175.04it/s]\n",
      "Loading TIFFs: 100%|██████████| 212/212 [00:00<00:00, 227.24it/s]\n",
      "Computing node attributes: 100%|██████████| 213/213 [00:01<00:00, 159.44it/s]\n",
      "Loading TIFFs: 100%|██████████| 212/212 [00:01<00:00, 156.61it/s]\n",
      "Computing node attributes: 100%|██████████| 213/213 [00:01<00:00, 171.03it/s]\n",
      "Matching frames: 100%|██████████| 213/213 [00:00<00:00, 1533.47it/s]\n",
      "Evaluating nodes: 100%|██████████| 6812/6812 [00:00<00:00, 358129.84it/s]\n",
      "Evaluating FP edges: 100%|██████████| 6809/6809 [00:00<00:00, 282295.77it/s]\n",
      "Evaluating FN edges: 100%|██████████| 6809/6809 [00:00<00:00, 352306.43it/s]\n",
      "Loading TIFFs: 100%|██████████| 212/212 [00:00<00:00, 247.09it/s]\n",
      "Computing node attributes: 100%|██████████| 213/213 [00:01<00:00, 180.00it/s]\n",
      "Loading TIFFs: 100%|██████████| 212/212 [00:01<00:00, 159.52it/s]\n",
      "Computing node attributes: 100%|██████████| 213/213 [00:01<00:00, 165.89it/s]\n",
      "Matching frames: 100%|██████████| 213/213 [00:00<00:00, 1590.30it/s]\n",
      "Evaluating nodes: 100%|██████████| 6259/6259 [00:00<00:00, 352009.29it/s]\n",
      "Evaluating FP edges: 100%|██████████| 6236/6236 [00:00<00:00, 257963.37it/s]\n",
      "Evaluating FN edges: 100%|██████████| 6256/6256 [00:00<00:00, 251173.24it/s]\n",
      "Loading TIFFs: 100%|██████████| 212/212 [00:00<00:00, 236.61it/s]\n",
      "Computing node attributes: 100%|██████████| 213/213 [00:01<00:00, 177.54it/s]\n",
      "Loading TIFFs: 100%|██████████| 212/212 [00:01<00:00, 153.45it/s]\n",
      "Computing node attributes: 100%|██████████| 213/213 [00:01<00:00, 180.45it/s]\n",
      "Matching frames: 100%|██████████| 213/213 [00:00<00:00, 2352.22it/s]\n",
      "Evaluating nodes: 100%|██████████| 3969/3969 [00:00<00:00, 333317.17it/s]\n",
      "Evaluating FP edges: 100%|██████████| 3965/3965 [00:00<00:00, 251728.08it/s]\n",
      "Evaluating FN edges: 100%|██████████| 3965/3965 [00:00<00:00, 329321.68it/s]\n",
      "Loading TIFFs: 100%|██████████| 212/212 [00:00<00:00, 228.53it/s]\n",
      "Computing node attributes: 100%|██████████| 213/213 [00:01<00:00, 170.84it/s]\n",
      "Loading TIFFs: 100%|██████████| 212/212 [00:01<00:00, 143.03it/s]\n",
      "Computing node attributes: 100%|██████████| 213/213 [00:01<00:00, 170.72it/s]\n",
      "Matching frames: 100%|██████████| 213/213 [00:00<00:00, 2428.59it/s]\n",
      "Evaluating nodes: 100%|██████████| 4248/4248 [00:00<00:00, 356740.48it/s]\n",
      "Evaluating FP edges: 100%|██████████| 4241/4241 [00:00<00:00, 243321.84it/s]\n",
      "Evaluating FN edges: 100%|██████████| 4245/4245 [00:00<00:00, 372899.25it/s]\n",
      "Loading TIFFs: 100%|██████████| 212/212 [00:00<00:00, 246.14it/s]\n",
      "Computing node attributes: 100%|██████████| 213/213 [00:01<00:00, 178.18it/s]\n",
      "Loading TIFFs: 100%|██████████| 212/212 [00:01<00:00, 156.21it/s]\n",
      "Computing node attributes: 100%|██████████| 213/213 [00:01<00:00, 194.01it/s]\n",
      "Matching frames: 100%|██████████| 213/213 [00:00<00:00, 2831.73it/s]\n",
      "Evaluating nodes: 100%|██████████| 3358/3358 [00:00<00:00, 389192.10it/s]\n",
      "Evaluating FP edges: 100%|██████████| 3355/3355 [00:00<00:00, 260262.82it/s]\n",
      "Evaluating FN edges: 100%|██████████| 3355/3355 [00:00<00:00, 292305.73it/s]\n",
      "Loading TIFFs: 100%|██████████| 202/202 [00:00<00:00, 244.49it/s]\n",
      "Computing node attributes: 100%|██████████| 203/203 [00:01<00:00, 189.51it/s]\n",
      "Loading TIFFs: 100%|██████████| 202/202 [00:01<00:00, 154.96it/s]\n",
      "Computing node attributes: 100%|██████████| 203/203 [00:01<00:00, 184.39it/s]\n",
      "Matching frames: 100%|██████████| 203/203 [00:00<00:00, 1695.50it/s]\n",
      "Evaluating nodes: 100%|██████████| 5171/5171 [00:00<00:00, 339278.95it/s]\n",
      "Evaluating FP edges: 100%|██████████| 5167/5167 [00:00<00:00, 204506.56it/s]\n",
      "Evaluating FN edges: 100%|██████████| 5167/5167 [00:00<00:00, 269136.76it/s]\n",
      "Loading TIFFs: 100%|██████████| 202/202 [00:00<00:00, 243.54it/s]\n",
      "Computing node attributes: 100%|██████████| 203/203 [00:01<00:00, 176.71it/s]\n",
      "1 non-connected masks at t=137.\n",
      "Loading TIFFs: 100%|██████████| 202/202 [00:01<00:00, 152.79it/s]\n",
      "Computing node attributes: 100%|██████████| 203/203 [00:01<00:00, 164.01it/s]\n",
      "1 non-connected masks at t=137.\n",
      "Matching frames: 100%|██████████| 203/203 [00:00<00:00, 1397.12it/s]\n",
      "Evaluating nodes: 100%|██████████| 5742/5742 [00:00<00:00, 346612.75it/s]\n",
      "Evaluating FP edges: 100%|██████████| 5739/5739 [00:00<00:00, 210518.54it/s]\n",
      "Evaluating FN edges: 100%|██████████| 5739/5739 [00:00<00:00, 226803.52it/s]\n",
      "Loading TIFFs: 100%|██████████| 202/202 [00:00<00:00, 229.55it/s]\n",
      "Computing node attributes: 100%|██████████| 203/203 [00:01<00:00, 177.40it/s]\n",
      "Loading TIFFs: 100%|██████████| 202/202 [00:01<00:00, 146.67it/s]\n",
      "Computing node attributes: 100%|██████████| 203/203 [00:01<00:00, 168.32it/s]\n",
      "Matching frames: 100%|██████████| 203/203 [00:00<00:00, 1748.09it/s]\n",
      "Evaluating nodes: 100%|██████████| 5006/5006 [00:00<00:00, 223692.64it/s]\n",
      "Evaluating FP edges: 100%|██████████| 5003/5003 [00:00<00:00, 219134.52it/s]\n",
      "Evaluating FN edges: 100%|██████████| 5003/5003 [00:00<00:00, 370554.01it/s]\n",
      "Loading TIFFs: 100%|██████████| 202/202 [00:00<00:00, 231.07it/s]\n",
      "Computing node attributes: 100%|██████████| 203/203 [00:01<00:00, 180.08it/s]\n",
      "Loading TIFFs: 100%|██████████| 202/202 [00:01<00:00, 148.80it/s]\n",
      "Computing node attributes: 100%|██████████| 203/203 [00:01<00:00, 180.89it/s]\n",
      "Matching frames: 100%|██████████| 203/203 [00:00<00:00, 2112.88it/s]\n",
      "Evaluating nodes: 100%|██████████| 3827/3827 [00:00<00:00, 367456.48it/s]\n",
      "Evaluating FP edges: 100%|██████████| 3824/3824 [00:00<00:00, 231841.38it/s]\n",
      "Evaluating FN edges: 100%|██████████| 3824/3824 [00:00<00:00, 301627.05it/s]\n",
      "Loading TIFFs: 100%|██████████| 202/202 [00:00<00:00, 234.52it/s]\n",
      "Computing node attributes: 100%|██████████| 203/203 [00:01<00:00, 173.09it/s]\n",
      "Loading TIFFs: 100%|██████████| 202/202 [00:01<00:00, 149.77it/s]\n",
      "Computing node attributes: 100%|██████████| 203/203 [00:01<00:00, 149.38it/s]\n",
      "Matching frames: 100%|██████████| 203/203 [00:00<00:00, 1956.69it/s]\n",
      "Evaluating nodes: 100%|██████████| 4846/4846 [00:00<00:00, 310736.68it/s]\n",
      "Evaluating FP edges: 100%|██████████| 4834/4834 [00:00<00:00, 225153.14it/s]\n",
      "Evaluating FN edges: 100%|██████████| 4843/4843 [00:00<00:00, 301022.74it/s]\n",
      "Loading TIFFs: 100%|██████████| 202/202 [00:00<00:00, 219.31it/s]\n",
      "Computing node attributes: 100%|██████████| 203/203 [00:01<00:00, 175.60it/s]\n",
      "Loading TIFFs: 100%|██████████| 202/202 [00:01<00:00, 154.00it/s]\n",
      "Computing node attributes: 100%|██████████| 203/203 [00:01<00:00, 167.31it/s]\n",
      "Matching frames: 100%|██████████| 203/203 [00:00<00:00, 1902.64it/s]\n",
      "Evaluating nodes: 100%|██████████| 4783/4783 [00:00<00:00, 331428.32it/s]\n",
      "Evaluating FP edges: 100%|██████████| 4768/4768 [00:00<00:00, 256950.30it/s]\n",
      "Evaluating FN edges: 100%|██████████| 4779/4779 [00:00<00:00, 341783.53it/s]\n",
      "Loading TIFFs: 100%|██████████| 369/369 [00:05<00:00, 62.67it/s]\n",
      "Computing node attributes: 100%|██████████| 370/370 [00:07<00:00, 49.42it/s] \n",
      "Loading TIFFs: 100%|██████████| 369/369 [00:06<00:00, 60.95it/s]\n",
      "Computing node attributes: 100%|██████████| 370/370 [00:06<00:00, 53.85it/s] \n",
      "Matching frames: 100%|██████████| 370/370 [00:03<00:00, 102.82it/s]\n",
      "Evaluating nodes: 100%|██████████| 111175/111175 [00:00<00:00, 310512.19it/s]\n",
      "Evaluating FP edges: 100%|██████████| 111088/111088 [00:00<00:00, 286903.92it/s]\n",
      "Evaluating FN edges: 100%|██████████| 111173/111173 [00:00<00:00, 406530.88it/s]\n",
      "Loading TIFFs: 100%|██████████| 399/399 [00:06<00:00, 65.18it/s]\n",
      "Computing node attributes: 100%|██████████| 400/400 [00:08<00:00, 47.19it/s] \n",
      "Loading TIFFs: 100%|██████████| 399/399 [00:06<00:00, 63.95it/s]\n",
      "Computing node attributes: 100%|██████████| 400/400 [00:08<00:00, 46.58it/s] \n",
      "Matching frames: 100%|██████████| 400/400 [00:05<00:00, 72.70it/s] \n",
      "Evaluating nodes: 100%|██████████| 129879/129879 [00:00<00:00, 274841.61it/s]\n",
      "Evaluating FP edges: 100%|██████████| 129820/129820 [00:00<00:00, 260749.57it/s]\n",
      "Evaluating FN edges: 100%|██████████| 129877/129877 [00:00<00:00, 410457.83it/s]\n",
      "Loading TIFFs: 100%|██████████| 375/375 [00:05<00:00, 66.89it/s]\n",
      "Computing node attributes: 100%|██████████| 376/376 [00:07<00:00, 53.64it/s] \n",
      "Loading TIFFs: 100%|██████████| 375/375 [00:06<00:00, 61.83it/s]\n",
      "Computing node attributes: 100%|██████████| 376/376 [00:07<00:00, 51.26it/s] \n",
      "Matching frames: 100%|██████████| 376/376 [00:03<00:00, 98.05it/s] \n",
      "Evaluating nodes: 100%|██████████| 114937/114937 [00:00<00:00, 300000.88it/s]\n",
      "Evaluating FP edges: 100%|██████████| 114810/114810 [00:00<00:00, 292696.29it/s]\n",
      "Evaluating FN edges: 100%|██████████| 114935/114935 [00:00<00:00, 388722.55it/s]\n",
      "Loading TIFFs: 100%|██████████| 159/159 [00:00<00:00, 488.52it/s]\n",
      "Computing node attributes: 100%|██████████| 160/160 [00:01<00:00, 99.87it/s] \n",
      "Loading TIFFs: 100%|██████████| 159/159 [00:00<00:00, 525.28it/s]\n",
      "Computing node attributes: 100%|██████████| 160/160 [00:01<00:00, 97.14it/s]\n",
      "Matching frames: 100%|██████████| 160/160 [00:03<00:00, 44.62it/s]\n",
      "Evaluating nodes: 100%|██████████| 15764/15764 [00:00<00:00, 322964.99it/s]\n",
      "Evaluating FP edges: 100%|██████████| 15670/15670 [00:00<00:00, 255605.03it/s]\n",
      "Evaluating FN edges: 100%|██████████| 15669/15669 [00:00<00:00, 380889.33it/s]\n",
      "Loading TIFFs: 100%|██████████| 159/159 [00:00<00:00, 521.80it/s]\n",
      "Computing node attributes: 100%|██████████| 160/160 [00:03<00:00, 46.11it/s]\n",
      "Loading TIFFs: 100%|██████████| 159/159 [00:00<00:00, 468.85it/s]\n",
      "Computing node attributes: 100%|██████████| 160/160 [00:03<00:00, 46.05it/s]\n",
      "Matching frames: 100%|██████████| 160/160 [00:09<00:00, 16.10it/s]\n",
      "Evaluating nodes: 100%|██████████| 46147/46147 [00:00<00:00, 330669.72it/s]\n",
      "Evaluating FP edges: 100%|██████████| 45858/45858 [00:00<00:00, 291386.37it/s]\n",
      "Evaluating FN edges: 100%|██████████| 45858/45858 [00:00<00:00, 400258.86it/s]\n",
      "Loading TIFFs: 100%|██████████| 159/159 [00:00<00:00, 240.33it/s]\n",
      "Computing node attributes: 100%|██████████| 160/160 [00:05<00:00, 31.65it/s]\n",
      "Loading TIFFs: 100%|██████████| 159/159 [00:00<00:00, 244.02it/s]\n",
      "Computing node attributes: 100%|██████████| 160/160 [00:05<00:00, 29.48it/s]\n",
      "Matching frames: 100%|██████████| 160/160 [00:18<00:00,  8.54it/s]\n",
      "Evaluating nodes: 100%|██████████| 74691/74691 [00:00<00:00, 287916.23it/s]\n",
      "Evaluating FP edges: 100%|██████████| 74216/74216 [00:00<00:00, 263760.16it/s]\n",
      "Evaluating FN edges: 100%|██████████| 74192/74192 [00:00<00:00, 377088.73it/s]\n",
      "Loading TIFFs: 100%|██████████| 76/76 [00:00<00:00, 304.05it/s]\n",
      "Computing node attributes: 100%|██████████| 77/77 [00:00<00:00, 157.30it/s]\n",
      "Loading TIFFs: 100%|██████████| 76/76 [00:00<00:00, 193.98it/s]\n",
      "Computing node attributes: 100%|██████████| 77/77 [00:00<00:00, 146.79it/s]\n",
      "Matching frames: 100%|██████████| 77/77 [00:00<00:00, 144.13it/s]\n",
      "Evaluating nodes: 100%|██████████| 4114/4114 [00:00<00:00, 311772.61it/s]\n",
      "Evaluating FP edges: 100%|██████████| 4112/4112 [00:00<00:00, 216257.62it/s]\n",
      "Evaluating FN edges: 100%|██████████| 4112/4112 [00:00<00:00, 315953.95it/s]\n",
      "Loading TIFFs: 100%|██████████| 54/54 [00:00<00:00, 646.79it/s]\n",
      "Computing node attributes: 100%|██████████| 55/55 [00:00<00:00, 258.20it/s]\n",
      "Loading TIFFs: 100%|██████████| 54/54 [00:00<00:00, 306.92it/s]\n",
      "Computing node attributes: 100%|██████████| 55/55 [00:00<00:00, 242.61it/s]\n",
      "Matching frames: 100%|██████████| 55/55 [00:00<00:00, 270.32it/s]\n",
      "Evaluating nodes: 100%|██████████| 1633/1633 [00:00<00:00, 320554.99it/s]\n",
      "Evaluating FP edges: 100%|██████████| 1632/1632 [00:00<00:00, 207603.55it/s]\n",
      "Evaluating FN edges: 100%|██████████| 1632/1632 [00:00<00:00, 301519.87it/s]\n",
      "Loading TIFFs: 100%|██████████| 69/69 [00:00<00:00, 304.67it/s]\n",
      "Computing node attributes: 100%|██████████| 70/70 [00:00<00:00, 169.66it/s]\n",
      "Loading TIFFs: 100%|██████████| 69/69 [00:00<00:00, 191.27it/s]\n",
      "Computing node attributes: 100%|██████████| 70/70 [00:00<00:00, 188.83it/s]\n",
      "Matching frames: 100%|██████████| 70/70 [00:00<00:00, 218.85it/s]\n",
      "Evaluating nodes: 100%|██████████| 2480/2480 [00:00<00:00, 392879.36it/s]\n",
      "Evaluating FP edges: 100%|██████████| 2479/2479 [00:00<00:00, 176282.65it/s]\n",
      "Evaluating FN edges: 100%|██████████| 2479/2479 [00:00<00:00, 324137.40it/s]\n",
      "Loading TIFFs: 100%|██████████| 68/68 [00:00<00:00, 286.19it/s]\n",
      "Computing node attributes: 100%|██████████| 69/69 [00:00<00:00, 122.31it/s]\n",
      "Loading TIFFs: 100%|██████████| 68/68 [00:00<00:00, 164.67it/s]\n",
      "Computing node attributes: 100%|██████████| 69/69 [00:00<00:00, 127.68it/s]\n",
      "Matching frames: 100%|██████████| 69/69 [00:00<00:00, 128.05it/s]\n",
      "Evaluating nodes: 100%|██████████| 4760/4760 [00:00<00:00, 363447.30it/s]\n",
      "Evaluating FP edges: 100%|██████████| 4759/4759 [00:00<00:00, 170474.53it/s]\n",
      "Evaluating FN edges: 100%|██████████| 4759/4759 [00:00<00:00, 225140.06it/s]\n",
      "Loading TIFFs: 100%|██████████| 57/57 [00:00<00:00, 669.07it/s]\n",
      "Computing node attributes: 100%|██████████| 58/58 [00:00<00:00, 255.33it/s]\n",
      "Loading TIFFs: 100%|██████████| 57/57 [00:00<00:00, 294.57it/s]\n",
      "Computing node attributes: 100%|██████████| 58/58 [00:00<00:00, 250.32it/s]\n",
      "Matching frames: 100%|██████████| 58/58 [00:00<00:00, 257.08it/s]\n",
      "Evaluating nodes: 100%|██████████| 1816/1816 [00:00<00:00, 310372.69it/s]\n",
      "Evaluating FP edges: 100%|██████████| 1815/1815 [00:00<00:00, 212763.05it/s]\n",
      "Evaluating FN edges: 100%|██████████| 1815/1815 [00:00<00:00, 321439.93it/s]\n",
      "Loading TIFFs: 100%|██████████| 92/92 [00:00<00:00, 706.99it/s]\n",
      "Computing node attributes: 100%|██████████| 93/93 [00:00<00:00, 203.29it/s]\n",
      "Loading TIFFs: 100%|██████████| 92/92 [00:00<00:00, 307.50it/s]\n",
      "Computing node attributes: 100%|██████████| 93/93 [00:00<00:00, 243.65it/s]\n",
      "Matching frames: 100%|██████████| 93/93 [00:00<00:00, 157.20it/s]\n",
      "Evaluating nodes: 100%|██████████| 3786/3786 [00:00<00:00, 412972.93it/s]\n",
      "Evaluating FP edges: 100%|██████████| 3782/3782 [00:00<00:00, 254061.82it/s]\n",
      "Evaluating FN edges: 100%|██████████| 3785/3785 [00:00<00:00, 289396.81it/s]\n",
      "Loading TIFFs: 100%|██████████| 106/106 [00:00<00:00, 1728.41it/s]\n",
      "Computing node attributes: 100%|██████████| 107/107 [00:00<00:00, 425.18it/s]\n",
      "Loading TIFFs: 100%|██████████| 106/106 [00:00<00:00, 454.52it/s]\n",
      "Computing node attributes: 100%|██████████| 107/107 [00:00<00:00, 457.66it/s]\n",
      "Matching frames: 100%|██████████| 107/107 [00:00<00:00, 402.74it/s]\n",
      "Evaluating nodes: 100%|██████████| 1600/1600 [00:00<00:00, 470576.14it/s]\n",
      "Evaluating FP edges: 100%|██████████| 1580/1580 [00:00<00:00, 247729.07it/s]\n",
      "Evaluating FN edges: 100%|██████████| 1599/1599 [00:00<00:00, 259808.32it/s]\n",
      "Loading TIFFs: 100%|██████████| 68/68 [00:00<00:00, 979.92it/s]\n",
      "Computing node attributes: 100%|██████████| 69/69 [00:00<00:00, 268.25it/s]\n",
      "Loading TIFFs: 100%|██████████| 68/68 [00:00<00:00, 352.64it/s]\n",
      "Computing node attributes: 100%|██████████| 69/69 [00:00<00:00, 306.64it/s]\n",
      "Matching frames: 100%|██████████| 69/69 [00:00<00:00, 236.60it/s]\n",
      "Evaluating nodes: 100%|██████████| 1798/1798 [00:00<00:00, 454682.18it/s]\n",
      "Evaluating FP edges: 100%|██████████| 1797/1797 [00:00<00:00, 182878.74it/s]\n",
      "Evaluating FN edges: 100%|██████████| 1797/1797 [00:00<00:00, 352368.60it/s]\n",
      "Loading TIFFs: 100%|██████████| 83/83 [00:00<00:00, 650.30it/s]\n",
      "Computing node attributes: 100%|██████████| 84/84 [00:00<00:00, 205.53it/s]\n",
      "Loading TIFFs: 100%|██████████| 83/83 [00:00<00:00, 317.44it/s]\n",
      "Computing node attributes: 100%|██████████| 84/84 [00:00<00:00, 223.28it/s]\n",
      "Matching frames: 100%|██████████| 84/84 [00:00<00:00, 159.58it/s]\n",
      "Evaluating nodes: 100%|██████████| 3434/3434 [00:00<00:00, 312773.94it/s]\n",
      "Evaluating FP edges: 100%|██████████| 3433/3433 [00:00<00:00, 202145.77it/s]\n",
      "Evaluating FN edges: 100%|██████████| 3433/3433 [00:00<00:00, 264096.06it/s]\n",
      "Loading TIFFs: 100%|██████████| 78/78 [00:00<00:00, 1410.40it/s]\n",
      "Computing node attributes: 100%|██████████| 79/79 [00:00<00:00, 265.98it/s]\n",
      "Loading TIFFs: 100%|██████████| 78/78 [00:00<00:00, 393.11it/s]\n",
      "Computing node attributes: 100%|██████████| 79/79 [00:00<00:00, 257.74it/s]\n",
      "Matching frames: 100%|██████████| 79/79 [00:00<00:00, 226.00it/s]\n",
      "Evaluating nodes: 100%|██████████| 2616/2616 [00:00<00:00, 414565.28it/s]\n",
      "Evaluating FP edges: 100%|██████████| 2614/2614 [00:00<00:00, 264254.29it/s]\n",
      "Evaluating FN edges: 100%|██████████| 2615/2615 [00:00<00:00, 332246.00it/s]\n",
      "Loading TIFFs: 100%|██████████| 96/96 [00:00<00:00, 702.70it/s]\n",
      "Computing node attributes: 100%|██████████| 97/97 [00:00<00:00, 229.99it/s]\n",
      "Loading TIFFs: 100%|██████████| 96/96 [00:00<00:00, 328.45it/s]\n",
      "Computing node attributes: 100%|██████████| 97/97 [00:00<00:00, 265.60it/s]\n",
      "Matching frames: 100%|██████████| 97/97 [00:00<00:00, 168.50it/s]\n",
      "Evaluating nodes: 100%|██████████| 3307/3307 [00:00<00:00, 324267.99it/s]\n",
      "Evaluating FP edges: 100%|██████████| 3300/3300 [00:00<00:00, 213648.27it/s]\n",
      "Evaluating FN edges: 100%|██████████| 3306/3306 [00:00<00:00, 204337.89it/s]\n",
      "Loading TIFFs: 100%|██████████| 23/23 [00:00<00:00, 291.23it/s]\n",
      "Computing node attributes: 100%|██████████| 24/24 [00:00<00:00, 93.09it/s] \n",
      "Loading TIFFs: 100%|██████████| 23/23 [00:00<00:00, 159.16it/s]\n",
      "Computing node attributes: 100%|██████████| 24/24 [00:00<00:00, 109.98it/s]\n",
      "Matching frames: 100%|██████████| 24/24 [00:00<00:00, 59.08it/s] \n",
      "Evaluating nodes: 100%|██████████| 1709/1709 [00:00<00:00, 372444.43it/s]\n",
      "Evaluating FP edges: 100%|██████████| 1706/1706 [00:00<00:00, 211132.24it/s]\n",
      "Evaluating FN edges: 100%|██████████| 1707/1707 [00:00<00:00, 211330.82it/s]\n",
      "Loading TIFFs: 100%|██████████| 69/69 [00:00<00:00, 283.49it/s]\n",
      "Computing node attributes: 100%|██████████| 70/70 [00:00<00:00, 135.92it/s]\n",
      "Loading TIFFs: 100%|██████████| 69/69 [00:00<00:00, 190.71it/s]\n",
      "Computing node attributes: 100%|██████████| 70/70 [00:00<00:00, 129.83it/s]\n",
      "Matching frames: 100%|██████████| 70/70 [00:00<00:00, 138.00it/s]\n",
      "Evaluating nodes: 100%|██████████| 3945/3945 [00:00<00:00, 446792.93it/s]\n",
      "Evaluating FP edges: 100%|██████████| 3944/3944 [00:00<00:00, 213215.63it/s]\n",
      "Evaluating FN edges: 100%|██████████| 3944/3944 [00:00<00:00, 254869.96it/s]\n",
      "Loading TIFFs: 100%|██████████| 49/49 [00:00<00:00, 552.88it/s]\n",
      "Computing node attributes: 100%|██████████| 50/50 [00:00<00:00, 122.04it/s]\n",
      "Loading TIFFs: 100%|██████████| 49/49 [00:00<00:00, 236.67it/s]\n",
      "Computing node attributes: 100%|██████████| 50/50 [00:00<00:00, 102.13it/s]\n",
      "Matching frames: 100%|██████████| 50/50 [00:00<00:00, 103.71it/s]\n",
      "Evaluating nodes: 100%|██████████| 4758/4758 [00:00<00:00, 364695.43it/s]\n",
      "Evaluating FP edges: 100%|██████████| 4755/4755 [00:00<00:00, 225944.73it/s]\n",
      "Evaluating FN edges: 100%|██████████| 4756/4756 [00:00<00:00, 295882.61it/s]\n",
      "Loading TIFFs: 100%|██████████| 53/53 [00:00<00:00, 536.15it/s]\n",
      "Computing node attributes: 100%|██████████| 54/54 [00:00<00:00, 152.57it/s]\n",
      "Loading TIFFs: 100%|██████████| 53/53 [00:00<00:00, 213.71it/s]\n",
      "Computing node attributes: 100%|██████████| 54/54 [00:00<00:00, 109.67it/s]\n",
      "Matching frames: 100%|██████████| 54/54 [00:00<00:00, 99.04it/s] \n",
      "Evaluating nodes: 100%|██████████| 4131/4131 [00:00<00:00, 260105.53it/s]\n",
      "Evaluating FP edges: 100%|██████████| 4130/4130 [00:00<00:00, 196186.41it/s]\n",
      "Evaluating FN edges: 100%|██████████| 4130/4130 [00:00<00:00, 240159.65it/s]\n",
      "Loading TIFFs: 100%|██████████| 33/33 [00:00<00:00, 476.80it/s]\n",
      "Computing node attributes: 100%|██████████| 34/34 [00:00<00:00, 161.89it/s]\n",
      "Loading TIFFs: 100%|██████████| 33/33 [00:00<00:00, 195.15it/s]\n",
      "Computing node attributes: 100%|██████████| 34/34 [00:00<00:00, 180.09it/s]\n",
      "Matching frames: 100%|██████████| 34/34 [00:00<00:00, 231.92it/s]\n",
      "Evaluating nodes: 100%|██████████| 1326/1326 [00:00<00:00, 461700.74it/s]\n",
      "Evaluating FP edges: 100%|██████████| 1324/1324 [00:00<00:00, 268234.48it/s]\n",
      "Evaluating FN edges: 100%|██████████| 1324/1324 [00:00<00:00, 398711.84it/s]\n",
      "Loading TIFFs: 100%|██████████| 61/61 [00:00<00:00, 629.47it/s]\n",
      "Computing node attributes: 100%|██████████| 62/62 [00:00<00:00, 234.76it/s]\n",
      "Loading TIFFs: 100%|██████████| 61/61 [00:00<00:00, 276.64it/s]\n",
      "Computing node attributes: 100%|██████████| 62/62 [00:00<00:00, 225.21it/s]\n",
      "Matching frames: 100%|██████████| 62/62 [00:00<00:00, 241.45it/s]\n",
      "Evaluating nodes: 100%|██████████| 2599/2599 [00:00<00:00, 349189.45it/s]\n",
      "Evaluating FP edges: 100%|██████████| 2598/2598 [00:00<00:00, 252726.34it/s]\n",
      "Evaluating FN edges: 100%|██████████| 2598/2598 [00:00<00:00, 369182.88it/s]\n",
      "Loading TIFFs: 100%|██████████| 55/55 [00:00<00:00, 645.49it/s]\n",
      "Computing node attributes: 100%|██████████| 56/56 [00:00<00:00, 185.23it/s]\n",
      "Loading TIFFs: 100%|██████████| 55/55 [00:00<00:00, 288.24it/s]\n",
      "Computing node attributes: 100%|██████████| 56/56 [00:00<00:00, 172.26it/s]\n",
      "Matching frames: 100%|██████████| 56/56 [00:00<00:00, 140.57it/s]\n",
      "Evaluating nodes: 100%|██████████| 3595/3595 [00:00<00:00, 359654.69it/s]\n",
      "Evaluating FP edges: 100%|██████████| 3594/3594 [00:00<00:00, 215671.06it/s]\n",
      "Evaluating FN edges: 100%|██████████| 3594/3594 [00:00<00:00, 310926.29it/s]\n",
      "Loading TIFFs: 100%|██████████| 75/75 [00:00<00:00, 421.07it/s]\n",
      "Computing node attributes: 100%|██████████| 76/76 [00:00<00:00, 289.06it/s]\n",
      "Loading TIFFs: 100%|██████████| 75/75 [00:00<00:00, 237.60it/s]\n",
      "Computing node attributes: 100%|██████████| 76/76 [00:00<00:00, 317.29it/s]\n",
      "Matching frames: 100%|██████████| 76/76 [00:00<00:00, 567.10it/s]\n",
      "Evaluating nodes: 100%|██████████| 938/938 [00:00<00:00, 396239.01it/s]\n",
      "Evaluating FP edges: 100%|██████████| 937/937 [00:00<00:00, 229479.32it/s]\n",
      "Evaluating FN edges: 100%|██████████| 937/937 [00:00<00:00, 335644.62it/s]\n",
      "Loading TIFFs: 100%|██████████| 91/91 [00:00<00:00, 268.41it/s]\n",
      "Computing node attributes: 100%|██████████| 92/92 [00:00<00:00, 132.08it/s]\n",
      "Loading TIFFs: 100%|██████████| 91/91 [00:00<00:00, 176.55it/s]\n",
      "Computing node attributes: 100%|██████████| 92/92 [00:00<00:00, 128.58it/s]\n",
      "Matching frames: 100%|██████████| 92/92 [00:00<00:00, 96.17it/s] \n",
      "Evaluating nodes: 100%|██████████| 6387/6387 [00:00<00:00, 267350.15it/s]\n",
      "Evaluating FP edges: 100%|██████████| 6386/6386 [00:00<00:00, 271960.29it/s]\n",
      "Evaluating FN edges: 100%|██████████| 6386/6386 [00:00<00:00, 327378.82it/s]\n",
      "Loading TIFFs: 100%|██████████| 28/28 [00:00<00:00, 513.51it/s]\n",
      "Computing node attributes: 100%|██████████| 29/29 [00:00<00:00, 255.75it/s]\n",
      "Loading TIFFs: 100%|██████████| 28/28 [00:00<00:00, 266.58it/s]\n",
      "Computing node attributes: 100%|██████████| 29/29 [00:00<00:00, 258.72it/s]\n",
      "Matching frames: 100%|██████████| 29/29 [00:00<00:00, 392.49it/s]\n",
      "Evaluating nodes: 100%|██████████| 550/550 [00:00<00:00, 365589.10it/s]\n",
      "Evaluating FP edges: 100%|██████████| 540/540 [00:00<00:00, 291909.29it/s]\n",
      "Evaluating FN edges: 100%|██████████| 548/548 [00:00<00:00, 338708.90it/s]\n",
      "Loading TIFFs: 100%|██████████| 50/50 [00:00<00:00, 220.12it/s]\n",
      "Computing node attributes: 100%|██████████| 51/51 [00:00<00:00, 125.43it/s]\n",
      "Loading TIFFs: 100%|██████████| 50/50 [00:00<00:00, 149.30it/s]\n",
      "Computing node attributes: 100%|██████████| 51/51 [00:00<00:00, 133.20it/s]\n",
      "Matching frames: 100%|██████████| 51/51 [00:00<00:00, 89.09it/s] \n",
      "Evaluating nodes: 100%|██████████| 2429/2429 [00:00<00:00, 305101.95it/s]\n",
      "Evaluating FP edges: 100%|██████████| 2427/2427 [00:00<00:00, 213220.56it/s]\n",
      "Evaluating FN edges: 100%|██████████| 2427/2427 [00:00<00:00, 224407.56it/s]\n",
      "Loading TIFFs: 100%|██████████| 54/54 [00:00<00:00, 224.13it/s]\n",
      "Computing node attributes: 100%|██████████| 55/55 [00:00<00:00, 116.81it/s]\n",
      "Loading TIFFs: 100%|██████████| 54/54 [00:00<00:00, 139.02it/s]\n",
      "Computing node attributes: 100%|██████████| 55/55 [00:00<00:00, 112.12it/s]\n",
      "Matching frames: 100%|██████████| 55/55 [00:00<00:00, 108.85it/s]\n",
      "Evaluating nodes: 100%|██████████| 2526/2526 [00:00<00:00, 340526.85it/s]\n",
      "Evaluating FP edges: 100%|██████████| 2524/2524 [00:00<00:00, 213547.89it/s]\n",
      "Evaluating FN edges: 100%|██████████| 2524/2524 [00:00<00:00, 285633.20it/s]\n",
      "Loading TIFFs: 100%|██████████| 62/62 [00:00<00:00, 219.44it/s]\n",
      "Computing node attributes: 100%|██████████| 63/63 [00:00<00:00, 124.00it/s]\n",
      "Loading TIFFs: 100%|██████████| 62/62 [00:00<00:00, 142.63it/s]\n",
      "Computing node attributes: 100%|██████████| 63/63 [00:00<00:00, 119.95it/s]\n",
      "Matching frames: 100%|██████████| 63/63 [00:00<00:00, 141.75it/s]\n",
      "Evaluating nodes: 100%|██████████| 2716/2716 [00:00<00:00, 419662.17it/s]\n",
      "Evaluating FP edges: 100%|██████████| 2714/2714 [00:00<00:00, 233136.20it/s]\n",
      "Evaluating FN edges: 100%|██████████| 2715/2715 [00:00<00:00, 351206.99it/s]\n",
      "Loading TIFFs: 100%|██████████| 54/54 [00:00<00:00, 486.52it/s]\n",
      "Computing node attributes: 100%|██████████| 55/55 [00:00<00:00, 200.08it/s]\n",
      "Loading TIFFs: 100%|██████████| 54/54 [00:00<00:00, 200.89it/s]\n",
      "Computing node attributes: 100%|██████████| 55/55 [00:00<00:00, 208.76it/s]\n",
      "Matching frames: 100%|██████████| 55/55 [00:00<00:00, 221.39it/s]\n",
      "Evaluating nodes: 100%|██████████| 1707/1707 [00:00<00:00, 396109.37it/s]\n",
      "Evaluating FP edges: 100%|██████████| 1703/1703 [00:00<00:00, 242025.54it/s]\n",
      "Evaluating FN edges: 100%|██████████| 1705/1705 [00:00<00:00, 324822.33it/s]\n",
      "Loading TIFFs: 100%|██████████| 52/52 [00:00<00:00, 539.60it/s]\n",
      "Computing node attributes: 100%|██████████| 53/53 [00:00<00:00, 146.33it/s]\n",
      "Loading TIFFs: 100%|██████████| 52/52 [00:00<00:00, 200.21it/s]\n",
      "Computing node attributes: 100%|██████████| 53/53 [00:00<00:00, 155.37it/s]\n",
      "Matching frames: 100%|██████████| 53/53 [00:00<00:00, 104.43it/s]\n",
      "Evaluating nodes: 100%|██████████| 2868/2868 [00:00<00:00, 343978.26it/s]\n",
      "Evaluating FP edges: 100%|██████████| 2864/2864 [00:00<00:00, 206028.41it/s]\n",
      "Evaluating FN edges: 100%|██████████| 2866/2866 [00:00<00:00, 252322.06it/s]\n",
      "Loading TIFFs: 100%|██████████| 52/52 [00:00<00:00, 251.75it/s]\n",
      "Computing node attributes: 100%|██████████| 53/53 [00:00<00:00, 110.45it/s]\n",
      "Loading TIFFs: 100%|██████████| 52/52 [00:00<00:00, 163.79it/s]\n",
      "Computing node attributes: 100%|██████████| 53/53 [00:00<00:00, 111.28it/s]\n",
      "Matching frames: 100%|██████████| 53/53 [00:00<00:00, 80.70it/s] \n",
      "Evaluating nodes: 100%|██████████| 3519/3519 [00:00<00:00, 377796.55it/s]\n",
      "Evaluating FP edges: 100%|██████████| 3514/3514 [00:00<00:00, 191144.68it/s]\n",
      "Evaluating FN edges: 100%|██████████| 3517/3517 [00:00<00:00, 335319.31it/s]\n",
      "Loading TIFFs: 100%|██████████| 54/54 [00:00<00:00, 563.57it/s]\n",
      "Computing node attributes: 100%|██████████| 55/55 [00:00<00:00, 224.48it/s]\n",
      "Loading TIFFs: 100%|██████████| 54/54 [00:00<00:00, 248.26it/s]\n",
      "Computing node attributes: 100%|██████████| 55/55 [00:00<00:00, 215.71it/s]\n",
      "Matching frames: 100%|██████████| 55/55 [00:00<00:00, 228.25it/s]\n",
      "Evaluating nodes: 100%|██████████| 1511/1511 [00:00<00:00, 336283.21it/s]\n",
      "Evaluating FP edges: 100%|██████████| 1510/1510 [00:00<00:00, 216083.22it/s]\n",
      "Evaluating FN edges: 100%|██████████| 1510/1510 [00:00<00:00, 318373.25it/s]\n",
      "Loading TIFFs: 100%|██████████| 59/59 [00:00<00:00, 306.42it/s]\n",
      "Computing node attributes: 100%|██████████| 60/60 [00:00<00:00, 183.48it/s]\n",
      "Loading TIFFs: 100%|██████████| 59/59 [00:00<00:00, 180.26it/s]\n",
      "Computing node attributes: 100%|██████████| 60/60 [00:00<00:00, 169.44it/s]\n",
      "Matching frames: 100%|██████████| 60/60 [00:00<00:00, 123.67it/s]\n",
      "Evaluating nodes: 100%|██████████| 1974/1974 [00:00<00:00, 349083.23it/s]\n",
      "Evaluating FP edges: 100%|██████████| 1972/1972 [00:00<00:00, 236643.61it/s]\n",
      "Evaluating FN edges: 100%|██████████| 1972/1972 [00:00<00:00, 301284.65it/s]\n",
      "Loading TIFFs: 100%|██████████| 62/62 [00:00<00:00, 317.78it/s]\n",
      "Computing node attributes: 100%|██████████| 63/63 [00:00<00:00, 163.16it/s]\n",
      "Loading TIFFs: 100%|██████████| 62/62 [00:00<00:00, 199.72it/s]\n",
      "Computing node attributes: 100%|██████████| 63/63 [00:00<00:00, 183.09it/s]\n",
      "Matching frames: 100%|██████████| 63/63 [00:00<00:00, 152.45it/s]\n",
      "Evaluating nodes: 100%|██████████| 2202/2202 [00:00<00:00, 390242.00it/s]\n",
      "Evaluating FP edges: 100%|██████████| 2201/2201 [00:00<00:00, 174185.61it/s]\n",
      "Evaluating FN edges: 100%|██████████| 2201/2201 [00:00<00:00, 251811.55it/s]\n",
      "Loading TIFFs: 100%|██████████| 54/54 [00:00<00:00, 267.09it/s]\n",
      "Computing node attributes: 100%|██████████| 55/55 [00:00<00:00, 160.40it/s]\n",
      "Loading TIFFs: 100%|██████████| 54/54 [00:00<00:00, 155.40it/s]\n",
      "Computing node attributes: 100%|██████████| 55/55 [00:00<00:00, 152.42it/s]\n",
      "Matching frames: 100%|██████████| 55/55 [00:00<00:00, 67.17it/s] \n",
      "Evaluating nodes: 100%|██████████| 1619/1619 [00:00<00:00, 491714.57it/s]\n",
      "Evaluating FP edges: 100%|██████████| 1613/1613 [00:00<00:00, 284883.46it/s]\n",
      "Evaluating FN edges: 100%|██████████| 1617/1617 [00:00<00:00, 311681.51it/s]\n",
      "Loading TIFFs: 100%|██████████| 18/18 [00:00<00:00, 474.61it/s]\n",
      "Computing node attributes: 100%|██████████| 19/19 [00:00<00:00, 145.53it/s]\n",
      "Loading TIFFs: 100%|██████████| 18/18 [00:00<00:00, 256.18it/s]\n",
      "Computing node attributes: 100%|██████████| 19/19 [00:00<00:00, 198.28it/s]\n",
      "Matching frames: 100%|██████████| 19/19 [00:00<00:00, 140.85it/s]\n",
      "Evaluating nodes: 100%|██████████| 614/614 [00:00<00:00, 385928.77it/s]\n",
      "Evaluating FP edges: 100%|██████████| 610/610 [00:00<00:00, 269176.80it/s]\n",
      "Evaluating FN edges: 100%|██████████| 612/612 [00:00<00:00, 311216.54it/s]\n",
      "Loading TIFFs: 100%|██████████| 19/19 [00:00<00:00, 495.48it/s]\n",
      "Computing node attributes: 100%|██████████| 20/20 [00:00<00:00, 190.21it/s]\n",
      "Loading TIFFs: 100%|██████████| 19/19 [00:00<00:00, 272.82it/s]\n",
      "Computing node attributes: 100%|██████████| 20/20 [00:00<00:00, 187.32it/s]\n",
      "Matching frames: 100%|██████████| 20/20 [00:00<00:00, 137.39it/s]\n",
      "Evaluating nodes: 100%|██████████| 630/630 [00:00<00:00, 449007.90it/s]\n",
      "Evaluating FP edges: 100%|██████████| 628/628 [00:00<00:00, 160856.36it/s]\n",
      "Evaluating FN edges: 100%|██████████| 628/628 [00:00<00:00, 292571.69it/s]\n",
      "Loading TIFFs: 100%|██████████| 22/22 [00:00<00:00, 307.14it/s]\n",
      "Computing node attributes: 100%|██████████| 23/23 [00:00<00:00, 104.13it/s]\n",
      "1 non-connected masks at t=14.\n",
      "Loading TIFFs: 100%|██████████| 22/22 [00:00<00:00, 148.58it/s]\n",
      "Computing node attributes: 100%|██████████| 23/23 [00:00<00:00, 120.25it/s]\n",
      "1 non-connected masks at t=14.\n",
      "Matching frames: 100%|██████████| 23/23 [00:00<00:00, 95.83it/s] \n",
      "Evaluating nodes: 100%|██████████| 1242/1242 [00:00<00:00, 388610.64it/s]\n",
      "Evaluating FP edges: 100%|██████████| 1226/1226 [00:00<00:00, 272840.06it/s]\n",
      "Evaluating FN edges: 100%|██████████| 1240/1240 [00:00<00:00, 288156.52it/s]\n",
      "Loading TIFFs: 100%|██████████| 22/22 [00:00<00:00, 491.66it/s]\n",
      "Computing node attributes: 100%|██████████| 23/23 [00:00<00:00, 195.27it/s]\n",
      "Loading TIFFs: 100%|██████████| 22/22 [00:00<00:00, 244.75it/s]\n",
      "Computing node attributes: 100%|██████████| 23/23 [00:00<00:00, 182.15it/s]\n",
      "Matching frames: 100%|██████████| 23/23 [00:00<00:00, 144.50it/s]\n",
      "Evaluating nodes: 100%|██████████| 855/855 [00:00<00:00, 327052.43it/s]\n",
      "Evaluating FP edges: 100%|██████████| 853/853 [00:00<00:00, 273381.32it/s]\n",
      "Evaluating FN edges: 100%|██████████| 854/854 [00:00<00:00, 288052.72it/s]\n",
      "Loading TIFFs: 100%|██████████| 20/20 [00:00<00:00, 399.56it/s]\n",
      "Computing node attributes: 100%|██████████| 21/21 [00:00<00:00, 138.81it/s]\n",
      "Loading TIFFs: 100%|██████████| 20/20 [00:00<00:00, 177.27it/s]\n",
      "Computing node attributes: 100%|██████████| 21/21 [00:00<00:00, 125.13it/s]\n",
      "Matching frames: 100%|██████████| 21/21 [00:00<00:00, 117.08it/s]\n",
      "Evaluating nodes: 100%|██████████| 965/965 [00:00<00:00, 430173.60it/s]\n",
      "Evaluating FP edges: 100%|██████████| 951/951 [00:00<00:00, 278449.08it/s]\n",
      "Evaluating FN edges: 100%|██████████| 963/963 [00:00<00:00, 317715.31it/s]\n",
      "Loading TIFFs: 100%|██████████| 22/22 [00:00<00:00, 574.36it/s]\n",
      "Computing node attributes: 100%|██████████| 23/23 [00:00<00:00, 240.59it/s]\n",
      "Loading TIFFs: 100%|██████████| 22/22 [00:00<00:00, 347.31it/s]\n",
      "Computing node attributes: 100%|██████████| 23/23 [00:00<00:00, 308.07it/s]\n",
      "Matching frames: 100%|██████████| 23/23 [00:00<00:00, 285.85it/s]\n",
      "Evaluating nodes: 100%|██████████| 417/417 [00:00<00:00, 440893.56it/s]\n",
      "Evaluating FP edges: 100%|██████████| 416/416 [00:00<00:00, 193526.01it/s]\n",
      "Evaluating FN edges: 100%|██████████| 416/416 [00:00<00:00, 377505.51it/s]\n",
      "Loading TIFFs: 100%|██████████| 23/23 [00:00<00:00, 441.69it/s]\n",
      "Computing node attributes: 100%|██████████| 24/24 [00:00<00:00, 130.08it/s]\n",
      "Loading TIFFs: 100%|██████████| 23/23 [00:00<00:00, 239.57it/s]\n",
      "Computing node attributes: 100%|██████████| 24/24 [00:00<00:00, 152.21it/s]\n",
      "Matching frames: 100%|██████████| 24/24 [00:00<00:00, 107.74it/s]\n",
      "Evaluating nodes: 100%|██████████| 1204/1204 [00:00<00:00, 370176.08it/s]\n",
      "Evaluating FP edges: 100%|██████████| 1199/1199 [00:00<00:00, 270549.31it/s]\n",
      "Evaluating FN edges: 100%|██████████| 1202/1202 [00:00<00:00, 269213.08it/s]\n",
      "Loading TIFFs: 100%|██████████| 30/30 [00:00<00:00, 143.92it/s]\n",
      "Computing node attributes: 100%|██████████| 31/31 [00:00<00:00, 155.95it/s]\n",
      "Loading TIFFs: 100%|██████████| 30/30 [00:00<00:00, 98.09it/s]\n",
      "Computing node attributes: 100%|██████████| 31/31 [00:00<00:00, 188.90it/s]\n",
      "Matching frames: 100%|██████████| 31/31 [00:00<00:00, 1044.09it/s]\n",
      "Evaluating nodes: 100%|██████████| 168/168 [00:00<00:00, 237653.65it/s]\n",
      "Evaluating FP edges: 100%|██████████| 164/164 [00:00<00:00, 167119.98it/s]\n",
      "Evaluating FN edges: 100%|██████████| 164/164 [00:00<00:00, 196645.47it/s]\n",
      "Loading TIFFs: 100%|██████████| 38/38 [00:00<00:00, 135.96it/s]\n",
      "Computing node attributes: 100%|██████████| 39/39 [00:00<00:00, 177.35it/s]\n",
      "1 non-connected masks at t=21.\n",
      "Loading TIFFs: 100%|██████████| 38/38 [00:00<00:00, 70.71it/s]\n",
      "Computing node attributes: 100%|██████████| 39/39 [00:00<00:00, 177.71it/s]\n",
      "1 non-connected masks at t=21.\n",
      "Matching frames: 100%|██████████| 39/39 [00:00<00:00, 580.80it/s]\n",
      "Evaluating nodes: 100%|██████████| 574/574 [00:00<00:00, 229441.58it/s]\n",
      "Evaluating FP edges: 100%|██████████| 558/558 [00:00<00:00, 261733.58it/s]\n",
      "Evaluating FN edges: 100%|██████████| 558/558 [00:00<00:00, 291750.39it/s]\n",
      "Loading TIFFs: 100%|██████████| 24/24 [00:00<00:00, 141.55it/s]\n",
      "Computing node attributes: 100%|██████████| 25/25 [00:00<00:00, 169.69it/s]\n",
      "Loading TIFFs: 100%|██████████| 24/24 [00:00<00:00, 94.24it/s]\n",
      "Computing node attributes: 100%|██████████| 25/25 [00:00<00:00, 161.57it/s]\n",
      "Matching frames: 100%|██████████| 25/25 [00:00<00:00, 2019.60it/s]\n",
      "Evaluating nodes: 100%|██████████| 128/128 [00:00<00:00, 398863.98it/s]\n",
      "Evaluating FP edges: 100%|██████████| 122/122 [00:00<00:00, 169719.76it/s]\n",
      "Evaluating FN edges: 100%|██████████| 123/123 [00:00<00:00, 254891.00it/s]\n",
      "Loading TIFFs: 100%|██████████| 30/30 [00:00<00:00, 137.17it/s]\n",
      "Computing node attributes: 100%|██████████| 31/31 [00:00<00:00, 181.77it/s]\n",
      "Loading TIFFs: 100%|██████████| 30/30 [00:00<00:00, 90.05it/s]\n",
      "Computing node attributes: 100%|██████████| 31/31 [00:00<00:00, 175.83it/s]\n",
      "Matching frames: 100%|██████████| 31/31 [00:00<00:00, 1989.13it/s]\n",
      "Evaluating nodes: 100%|██████████| 135/135 [00:00<00:00, 398473.64it/s]\n",
      "Evaluating FP edges: 100%|██████████| 132/132 [00:00<00:00, 257271.43it/s]\n",
      "Evaluating FN edges: 100%|██████████| 132/132 [00:00<00:00, 165713.30it/s]\n",
      "Loading TIFFs: 100%|██████████| 49/49 [00:00<00:00, 132.98it/s]\n",
      "Computing node attributes: 100%|██████████| 50/50 [00:00<00:00, 155.09it/s]\n",
      "Loading TIFFs: 100%|██████████| 49/49 [00:00<00:00, 94.73it/s]\n",
      "Computing node attributes: 100%|██████████| 50/50 [00:00<00:00, 145.68it/s]\n",
      "Matching frames: 100%|██████████| 50/50 [00:00<00:00, 984.52it/s]\n",
      "Evaluating nodes: 100%|██████████| 979/979 [00:00<00:00, 355363.36it/s]\n",
      "Evaluating FP edges: 100%|██████████| 962/962 [00:00<00:00, 256805.02it/s]\n",
      "Evaluating FN edges: 100%|██████████| 965/965 [00:00<00:00, 297501.17it/s]\n",
      "Loading TIFFs: 100%|██████████| 26/26 [00:00<00:00, 135.28it/s]\n",
      "Computing node attributes: 100%|██████████| 27/27 [00:00<00:00, 164.17it/s]\n",
      "Loading TIFFs: 100%|██████████| 26/26 [00:00<00:00, 83.02it/s]\n",
      "Computing node attributes: 100%|██████████| 27/27 [00:00<00:00, 176.98it/s]\n",
      "Matching frames: 100%|██████████| 27/27 [00:00<00:00, 1923.01it/s]\n",
      "Evaluating nodes: 100%|██████████| 190/190 [00:00<00:00, 222789.42it/s]\n",
      "Evaluating FP edges: 100%|██████████| 182/182 [00:00<00:00, 184031.66it/s]\n",
      "Evaluating FN edges: 100%|██████████| 182/182 [00:00<00:00, 313110.47it/s]\n",
      "Loading TIFFs: 100%|██████████| 44/44 [00:00<00:00, 125.68it/s]\n",
      "Computing node attributes: 100%|██████████| 45/45 [00:00<00:00, 164.82it/s]\n",
      "Loading TIFFs: 100%|██████████| 44/44 [00:00<00:00, 94.61it/s]\n",
      "Computing node attributes: 100%|██████████| 45/45 [00:00<00:00, 140.50it/s]\n",
      "Matching frames: 100%|██████████| 45/45 [00:00<00:00, 857.68it/s]\n",
      "Evaluating nodes: 100%|██████████| 515/515 [00:00<00:00, 470397.77it/s]\n",
      "Evaluating FP edges: 100%|██████████| 505/505 [00:00<00:00, 179654.24it/s]\n",
      "Evaluating FN edges: 100%|██████████| 506/506 [00:00<00:00, 356992.06it/s]\n",
      "Loading TIFFs: 100%|██████████| 39/39 [00:00<00:00, 138.10it/s]\n",
      "Computing node attributes: 100%|██████████| 40/40 [00:00<00:00, 164.09it/s]\n",
      "Loading TIFFs: 100%|██████████| 39/39 [00:00<00:00, 91.46it/s]\n",
      "Computing node attributes: 100%|██████████| 40/40 [00:00<00:00, 144.47it/s]\n",
      "Matching frames: 100%|██████████| 40/40 [00:00<00:00, 1120.22it/s]\n",
      "Evaluating nodes: 100%|██████████| 560/560 [00:00<00:00, 197113.98it/s]\n",
      "Evaluating FP edges: 100%|██████████| 547/547 [00:00<00:00, 213005.69it/s]\n",
      "Evaluating FN edges: 100%|██████████| 549/549 [00:00<00:00, 173185.39it/s]\n",
      "Loading TIFFs: 100%|██████████| 30/30 [00:00<00:00, 138.27it/s]\n",
      "Computing node attributes: 100%|██████████| 31/31 [00:00<00:00, 185.40it/s]\n",
      "Loading TIFFs: 100%|██████████| 30/30 [00:00<00:00, 94.25it/s]\n",
      "Computing node attributes: 100%|██████████| 31/31 [00:00<00:00, 182.97it/s]\n",
      "Matching frames: 100%|██████████| 31/31 [00:00<00:00, 2324.92it/s]\n",
      "Evaluating nodes: 100%|██████████| 136/136 [00:00<00:00, 370887.74it/s]\n",
      "Evaluating FP edges: 100%|██████████| 129/129 [00:00<00:00, 112534.36it/s]\n",
      "Evaluating FN edges: 100%|██████████| 131/131 [00:00<00:00, 320381.24it/s]\n",
      "Loading TIFFs: 100%|██████████| 30/30 [00:00<00:00, 120.39it/s]\n",
      "Computing node attributes: 100%|██████████| 31/31 [00:00<00:00, 156.32it/s]\n",
      "Loading TIFFs: 100%|██████████| 30/30 [00:00<00:00, 94.06it/s]\n",
      "Computing node attributes: 100%|██████████| 31/31 [00:00<00:00, 175.22it/s]\n",
      "Matching frames: 100%|██████████| 31/31 [00:00<00:00, 2368.02it/s]\n",
      "Evaluating nodes: 100%|██████████| 154/154 [00:00<00:00, 149001.80it/s]\n",
      "Evaluating FP edges: 100%|██████████| 148/148 [00:00<00:00, 243816.57it/s]\n",
      "Evaluating FN edges: 100%|██████████| 149/149 [00:00<00:00, 266617.45it/s]\n",
      "Loading TIFFs: 100%|██████████| 30/30 [00:00<00:00, 131.88it/s]\n",
      "Computing node attributes: 100%|██████████| 31/31 [00:00<00:00, 143.62it/s]\n",
      "Loading TIFFs: 100%|██████████| 30/30 [00:00<00:00, 95.37it/s]\n",
      "Computing node attributes: 100%|██████████| 31/31 [00:00<00:00, 190.88it/s]\n",
      "Matching frames: 100%|██████████| 31/31 [00:00<00:00, 1586.44it/s]\n",
      "Evaluating nodes: 100%|██████████| 161/161 [00:00<00:00, 200261.85it/s]\n",
      "Evaluating FP edges: 100%|██████████| 157/157 [00:00<00:00, 230649.99it/s]\n",
      "Evaluating FN edges: 100%|██████████| 157/157 [00:00<00:00, 351578.07it/s]\n",
      "Loading TIFFs: 100%|██████████| 40/40 [00:00<00:00, 139.75it/s]\n",
      "Computing node attributes: 100%|██████████| 41/41 [00:00<00:00, 159.30it/s]\n",
      "Loading TIFFs: 100%|██████████| 40/40 [00:00<00:00, 92.21it/s]\n",
      "Computing node attributes: 100%|██████████| 41/41 [00:00<00:00, 172.74it/s]\n",
      "Matching frames: 100%|██████████| 41/41 [00:00<00:00, 1101.71it/s]\n",
      "Evaluating nodes: 100%|██████████| 348/348 [00:00<00:00, 334085.10it/s]\n",
      "Evaluating FP edges: 100%|██████████| 340/340 [00:00<00:00, 154486.34it/s]\n",
      "Evaluating FN edges: 100%|██████████| 340/340 [00:00<00:00, 280500.27it/s]\n",
      "Loading TIFFs: 100%|██████████| 50/50 [00:00<00:00, 1665.90it/s]\n",
      "Computing node attributes: 100%|██████████| 51/51 [00:00<00:00, 259.60it/s]\n",
      "Loading TIFFs: 100%|██████████| 50/50 [00:00<00:00, 1662.45it/s]\n",
      "Computing node attributes: 100%|██████████| 51/51 [00:00<00:00, 273.47it/s]\n",
      "Matching frames: 100%|██████████| 51/51 [00:00<00:00, 971.45it/s]\n",
      "Evaluating nodes: 100%|██████████| 2371/2371 [00:00<00:00, 386622.14it/s]\n",
      "Evaluating FP edges: 100%|██████████| 2347/2347 [00:00<00:00, 236960.05it/s]\n",
      "Evaluating FN edges: 100%|██████████| 2347/2347 [00:00<00:00, 320527.20it/s]\n",
      "Loading TIFFs: 100%|██████████| 50/50 [00:00<00:00, 1613.93it/s]\n",
      "Computing node attributes: 100%|██████████| 51/51 [00:00<00:00, 111.67it/s]\n",
      "Loading TIFFs: 100%|██████████| 50/50 [00:00<00:00, 2210.67it/s]\n",
      "Computing node attributes: 100%|██████████| 51/51 [00:00<00:00, 99.18it/s] \n",
      "Matching frames: 100%|██████████| 51/51 [00:00<00:00, 168.53it/s]\n",
      "Evaluating nodes: 100%|██████████| 8525/8525 [00:00<00:00, 315783.15it/s]\n",
      "Evaluating FP edges: 100%|██████████| 8459/8459 [00:00<00:00, 232654.76it/s]\n",
      "Evaluating FN edges: 100%|██████████| 8459/8459 [00:00<00:00, 342160.20it/s]\n",
      "Loading TIFFs: 100%|██████████| 50/50 [00:00<00:00, 883.54it/s]\n",
      "Computing node attributes: 100%|██████████| 51/51 [00:00<00:00, 248.16it/s]\n",
      "Loading TIFFs: 100%|██████████| 50/50 [00:00<00:00, 2170.25it/s]\n",
      "Computing node attributes: 100%|██████████| 51/51 [00:00<00:00, 269.35it/s]\n",
      "Matching frames: 100%|██████████| 51/51 [00:00<00:00, 614.85it/s]\n",
      "Evaluating nodes: 100%|██████████| 2837/2837 [00:00<00:00, 386539.78it/s]\n",
      "Evaluating FP edges: 100%|██████████| 2814/2814 [00:00<00:00, 248228.56it/s]\n",
      "Evaluating FN edges: 100%|██████████| 2814/2814 [00:00<00:00, 341564.79it/s]\n",
      "Loading TIFFs: 100%|██████████| 50/50 [00:00<00:00, 1836.74it/s]\n",
      "Computing node attributes: 100%|██████████| 51/51 [00:00<00:00, 126.46it/s]\n",
      "Loading TIFFs: 100%|██████████| 50/50 [00:00<00:00, 2036.78it/s]\n",
      "Computing node attributes: 100%|██████████| 51/51 [00:00<00:00, 124.17it/s]\n",
      "Matching frames: 100%|██████████| 51/51 [00:00<00:00, 258.43it/s]\n",
      "Evaluating nodes: 100%|██████████| 7457/7457 [00:00<00:00, 376372.43it/s]\n",
      "Evaluating FP edges: 100%|██████████| 7381/7381 [00:00<00:00, 238937.36it/s]\n",
      "Evaluating FN edges: 100%|██████████| 7381/7381 [00:00<00:00, 228198.98it/s]\n",
      "Loading TIFFs: 100%|██████████| 50/50 [00:00<00:00, 1848.67it/s]\n",
      "Computing node attributes: 100%|██████████| 51/51 [00:00<00:00, 147.75it/s]\n",
      "Loading TIFFs: 100%|██████████| 50/50 [00:00<00:00, 1773.69it/s]\n",
      "Computing node attributes: 100%|██████████| 51/51 [00:00<00:00, 149.52it/s]\n",
      "Matching frames: 100%|██████████| 51/51 [00:00<00:00, 337.25it/s]\n",
      "Evaluating nodes: 100%|██████████| 5881/5881 [00:00<00:00, 389833.30it/s]\n",
      "Evaluating FP edges: 100%|██████████| 5824/5824 [00:00<00:00, 221585.87it/s]\n",
      "Evaluating FN edges: 100%|██████████| 5824/5824 [00:00<00:00, 341158.44it/s]\n",
      "Loading TIFFs: 100%|██████████| 50/50 [00:00<00:00, 1846.41it/s]\n",
      "Computing node attributes: 100%|██████████| 51/51 [00:00<00:00, 164.44it/s]\n",
      "Loading TIFFs: 100%|██████████| 50/50 [00:00<00:00, 2092.74it/s]\n",
      "Computing node attributes: 100%|██████████| 51/51 [00:00<00:00, 163.41it/s]\n",
      "Matching frames: 100%|██████████| 51/51 [00:00<00:00, 365.03it/s]\n",
      "Evaluating nodes: 100%|██████████| 5554/5554 [00:00<00:00, 392855.70it/s]\n",
      "Evaluating FP edges: 100%|██████████| 5512/5512 [00:00<00:00, 254376.45it/s]\n",
      "Evaluating FN edges: 100%|██████████| 5512/5512 [00:00<00:00, 325390.62it/s]\n",
      "Loading TIFFs: 100%|██████████| 50/50 [00:00<00:00, 1840.93it/s]\n",
      "Computing node attributes: 100%|██████████| 51/51 [00:00<00:00, 129.41it/s]\n",
      "Loading TIFFs: 100%|██████████| 50/50 [00:00<00:00, 2057.00it/s]\n",
      "Computing node attributes: 100%|██████████| 51/51 [00:00<00:00, 127.07it/s]\n",
      "Matching frames: 100%|██████████| 51/51 [00:00<00:00, 254.18it/s]\n",
      "Evaluating nodes: 100%|██████████| 7557/7557 [00:00<00:00, 283041.08it/s]\n",
      "Evaluating FP edges: 100%|██████████| 7484/7484 [00:00<00:00, 166386.64it/s]\n",
      "Evaluating FN edges: 100%|██████████| 7484/7484 [00:00<00:00, 176877.92it/s]\n",
      "Loading TIFFs: 100%|██████████| 50/50 [00:00<00:00, 1790.49it/s]\n",
      "Computing node attributes: 100%|██████████| 51/51 [00:00<00:00, 156.84it/s]\n",
      "Loading TIFFs: 100%|██████████| 50/50 [00:00<00:00, 2232.03it/s]\n",
      "Computing node attributes: 100%|██████████| 51/51 [00:00<00:00, 160.63it/s]\n",
      "Matching frames: 100%|██████████| 51/51 [00:00<00:00, 316.82it/s]\n",
      "Evaluating nodes: 100%|██████████| 5705/5705 [00:00<00:00, 384677.90it/s]\n",
      "Evaluating FP edges: 100%|██████████| 5650/5650 [00:00<00:00, 239113.46it/s]\n",
      "Evaluating FN edges: 100%|██████████| 5650/5650 [00:00<00:00, 325331.78it/s]\n",
      "Loading TIFFs: 100%|██████████| 50/50 [00:00<00:00, 1709.49it/s]\n",
      "Computing node attributes: 100%|██████████| 51/51 [00:00<00:00, 252.98it/s]\n",
      "Loading TIFFs: 100%|██████████| 50/50 [00:00<00:00, 2160.34it/s]\n",
      "Computing node attributes: 100%|██████████| 51/51 [00:00<00:00, 237.42it/s]\n",
      "Matching frames: 100%|██████████| 51/51 [00:00<00:00, 680.45it/s]\n",
      "Evaluating nodes: 100%|██████████| 2783/2783 [00:00<00:00, 360436.87it/s]\n",
      "Evaluating FP edges: 100%|██████████| 2758/2758 [00:00<00:00, 232918.36it/s]\n",
      "Evaluating FN edges: 100%|██████████| 2758/2758 [00:00<00:00, 340502.47it/s]\n",
      "Loading TIFFs: 100%|██████████| 50/50 [00:00<00:00, 2023.75it/s]\n",
      "Computing node attributes: 100%|██████████| 51/51 [00:00<00:00, 209.52it/s]\n",
      "Loading TIFFs: 100%|██████████| 50/50 [00:00<00:00, 2301.45it/s]\n",
      "Computing node attributes: 100%|██████████| 51/51 [00:00<00:00, 210.63it/s]\n",
      "Matching frames: 100%|██████████| 51/51 [00:00<00:00, 587.08it/s]\n",
      "Evaluating nodes: 100%|██████████| 3663/3663 [00:00<00:00, 413860.29it/s]\n",
      "Evaluating FP edges: 100%|██████████| 3627/3627 [00:00<00:00, 272629.76it/s]\n",
      "Evaluating FN edges: 100%|██████████| 3627/3627 [00:00<00:00, 331750.27it/s]\n",
      "Loading TIFFs: 100%|██████████| 50/50 [00:00<00:00, 1580.68it/s]\n",
      "Computing node attributes: 100%|██████████| 51/51 [00:00<00:00, 175.30it/s]\n",
      "Loading TIFFs: 100%|██████████| 50/50 [00:00<00:00, 2209.71it/s]\n",
      "Computing node attributes: 100%|██████████| 51/51 [00:00<00:00, 174.87it/s]\n",
      "Matching frames: 100%|██████████| 51/51 [00:00<00:00, 429.69it/s]\n",
      "Evaluating nodes: 100%|██████████| 4643/4643 [00:00<00:00, 361167.53it/s]\n",
      "Evaluating FP edges: 100%|██████████| 4589/4589 [00:00<00:00, 170384.55it/s]\n",
      "Evaluating FN edges: 100%|██████████| 4589/4589 [00:00<00:00, 276968.67it/s]\n",
      "Loading TIFFs: 100%|██████████| 50/50 [00:00<00:00, 1729.47it/s]\n",
      "Computing node attributes: 100%|██████████| 51/51 [00:00<00:00, 199.58it/s]\n",
      "Loading TIFFs: 100%|██████████| 50/50 [00:00<00:00, 2197.44it/s]\n",
      "Computing node attributes: 100%|██████████| 51/51 [00:00<00:00, 196.02it/s]\n",
      "Matching frames: 100%|██████████| 51/51 [00:00<00:00, 460.88it/s]\n",
      "Evaluating nodes: 100%|██████████| 4441/4441 [00:00<00:00, 288333.24it/s]\n",
      "Evaluating FP edges: 100%|██████████| 4398/4398 [00:00<00:00, 213763.98it/s]\n",
      "Evaluating FN edges: 100%|██████████| 4398/4398 [00:00<00:00, 275609.58it/s]\n",
      "Loading TIFFs: 100%|██████████| 50/50 [00:00<00:00, 1684.59it/s]\n",
      "Computing node attributes: 100%|██████████| 51/51 [00:00<00:00, 138.24it/s]\n",
      "Loading TIFFs: 100%|██████████| 50/50 [00:00<00:00, 1771.59it/s]\n",
      "Computing node attributes: 100%|██████████| 51/51 [00:00<00:00, 134.41it/s]\n",
      "Matching frames: 100%|██████████| 51/51 [00:00<00:00, 285.32it/s]\n",
      "Evaluating nodes: 100%|██████████| 6585/6585 [00:00<00:00, 348995.35it/s]\n",
      "Evaluating FP edges: 100%|██████████| 6531/6531 [00:00<00:00, 242843.59it/s]\n",
      "Evaluating FN edges: 100%|██████████| 6531/6531 [00:00<00:00, 325901.51it/s]\n",
      "Loading TIFFs: 100%|██████████| 50/50 [00:00<00:00, 1578.36it/s]\n",
      "Computing node attributes: 100%|██████████| 51/51 [00:00<00:00, 126.99it/s]\n",
      "Loading TIFFs: 100%|██████████| 50/50 [00:00<00:00, 2312.03it/s]\n",
      "Computing node attributes: 100%|██████████| 51/51 [00:00<00:00, 125.31it/s]\n",
      "Matching frames: 100%|██████████| 51/51 [00:00<00:00, 198.29it/s]\n",
      "Evaluating nodes: 100%|██████████| 7327/7327 [00:00<00:00, 314008.17it/s]\n",
      "Evaluating FP edges: 100%|██████████| 7261/7261 [00:00<00:00, 186154.29it/s]\n",
      "Evaluating FN edges: 100%|██████████| 7261/7261 [00:00<00:00, 296025.83it/s]\n",
      "Loading TIFFs: 100%|██████████| 50/50 [00:00<00:00, 1581.85it/s]\n",
      "Computing node attributes: 100%|██████████| 51/51 [00:00<00:00, 147.94it/s]\n",
      "Loading TIFFs: 100%|██████████| 50/50 [00:00<00:00, 2151.06it/s]\n",
      "Computing node attributes: 100%|██████████| 51/51 [00:00<00:00, 168.22it/s]\n",
      "Matching frames: 100%|██████████| 51/51 [00:00<00:00, 378.23it/s]\n",
      "Evaluating nodes: 100%|██████████| 5139/5139 [00:00<00:00, 216739.52it/s]\n",
      "Evaluating FP edges: 100%|██████████| 5087/5087 [00:00<00:00, 232407.73it/s]\n",
      "Evaluating FN edges: 100%|██████████| 5087/5087 [00:00<00:00, 169869.23it/s]\n",
      "Loading TIFFs: 100%|██████████| 50/50 [00:00<00:00, 1658.48it/s]\n",
      "Computing node attributes: 100%|██████████| 51/51 [00:00<00:00, 179.39it/s]\n",
      "Loading TIFFs: 100%|██████████| 50/50 [00:00<00:00, 2088.53it/s]\n",
      "Computing node attributes: 100%|██████████| 51/51 [00:00<00:00, 149.67it/s]\n",
      "Matching frames: 100%|██████████| 51/51 [00:00<00:00, 294.37it/s]\n",
      "Evaluating nodes: 100%|██████████| 4682/4682 [00:00<00:00, 304569.56it/s]\n",
      "Evaluating FP edges: 100%|██████████| 4637/4637 [00:00<00:00, 145948.77it/s]\n",
      "Evaluating FN edges: 100%|██████████| 4637/4637 [00:00<00:00, 259978.45it/s]\n",
      "Loading TIFFs: 100%|██████████| 50/50 [00:00<00:00, 1895.56it/s]\n",
      "Computing node attributes: 100%|██████████| 51/51 [00:00<00:00, 141.05it/s]\n",
      "Loading TIFFs: 100%|██████████| 50/50 [00:00<00:00, 1034.33it/s]\n",
      "Computing node attributes: 100%|██████████| 51/51 [00:00<00:00, 118.38it/s]\n",
      "Matching frames: 100%|██████████| 51/51 [00:00<00:00, 280.59it/s]\n",
      "Evaluating nodes: 100%|██████████| 6228/6228 [00:00<00:00, 259104.37it/s]\n",
      "Evaluating FP edges: 100%|██████████| 6165/6165 [00:00<00:00, 219303.74it/s]\n",
      "Evaluating FN edges: 100%|██████████| 6165/6165 [00:00<00:00, 307035.13it/s]\n",
      "Loading TIFFs: 100%|██████████| 50/50 [00:00<00:00, 1328.65it/s]\n",
      "Computing node attributes: 100%|██████████| 51/51 [00:00<00:00, 156.46it/s]\n",
      "Loading TIFFs: 100%|██████████| 50/50 [00:00<00:00, 1645.30it/s]\n",
      "Computing node attributes: 100%|██████████| 51/51 [00:00<00:00, 175.45it/s]\n",
      "Matching frames: 100%|██████████| 51/51 [00:00<00:00, 588.62it/s]\n",
      "Evaluating nodes: 100%|██████████| 3427/3427 [00:00<00:00, 319554.47it/s]\n",
      "Evaluating FP edges: 100%|██████████| 3394/3394 [00:00<00:00, 204262.58it/s]\n",
      "Evaluating FN edges: 100%|██████████| 3394/3394 [00:00<00:00, 278924.46it/s]\n",
      "Loading TIFFs: 100%|██████████| 50/50 [00:00<00:00, 1564.30it/s]\n",
      "Computing node attributes: 100%|██████████| 51/51 [00:00<00:00, 187.44it/s]\n",
      "Loading TIFFs: 100%|██████████| 50/50 [00:00<00:00, 1987.88it/s]\n",
      "Computing node attributes: 100%|██████████| 51/51 [00:00<00:00, 228.98it/s]\n",
      "Matching frames: 100%|██████████| 51/51 [00:00<00:00, 496.45it/s]\n",
      "Evaluating nodes: 100%|██████████| 3234/3234 [00:00<00:00, 245905.24it/s]\n",
      "Evaluating FP edges: 100%|██████████| 3202/3202 [00:00<00:00, 177062.11it/s]\n",
      "Evaluating FN edges: 100%|██████████| 3202/3202 [00:00<00:00, 184993.55it/s]\n",
      "Loading TIFFs: 100%|██████████| 50/50 [00:00<00:00, 1624.80it/s]\n",
      "Computing node attributes: 100%|██████████| 51/51 [00:00<00:00, 264.53it/s]\n",
      "Loading TIFFs: 100%|██████████| 50/50 [00:00<00:00, 1830.20it/s]\n",
      "Computing node attributes: 100%|██████████| 51/51 [00:00<00:00, 207.49it/s]\n",
      "Matching frames: 100%|██████████| 51/51 [00:00<00:00, 958.72it/s]\n",
      "Evaluating nodes: 100%|██████████| 2251/2251 [00:00<00:00, 395367.60it/s]\n",
      "Evaluating FP edges: 100%|██████████| 2225/2225 [00:00<00:00, 198100.71it/s]\n",
      "Evaluating FN edges: 100%|██████████| 2225/2225 [00:00<00:00, 223138.62it/s]\n",
      "Loading TIFFs: 100%|██████████| 50/50 [00:00<00:00, 1413.18it/s]\n",
      "Computing node attributes: 100%|██████████| 51/51 [00:00<00:00, 173.24it/s]\n",
      "Loading TIFFs: 100%|██████████| 50/50 [00:00<00:00, 2205.95it/s]\n",
      "Computing node attributes: 100%|██████████| 51/51 [00:00<00:00, 180.72it/s]\n",
      "Matching frames: 100%|██████████| 51/51 [00:00<00:00, 157.60it/s]\n",
      "Evaluating nodes: 100%|██████████| 4395/4395 [00:00<00:00, 318134.17it/s]\n",
      "Evaluating FP edges: 100%|██████████| 4352/4352 [00:00<00:00, 217126.54it/s]\n",
      "Evaluating FN edges: 100%|██████████| 4352/4352 [00:00<00:00, 317724.86it/s]\n",
      "Loading TIFFs: 100%|██████████| 50/50 [00:00<00:00, 1603.43it/s]\n",
      "Computing node attributes: 100%|██████████| 51/51 [00:00<00:00, 139.50it/s]\n",
      "Loading TIFFs: 100%|██████████| 50/50 [00:00<00:00, 1842.71it/s]\n",
      "Computing node attributes: 100%|██████████| 51/51 [00:00<00:00, 138.83it/s]\n",
      "Matching frames: 100%|██████████| 51/51 [00:00<00:00, 304.22it/s]\n",
      "Evaluating nodes: 100%|██████████| 5659/5659 [00:00<00:00, 350573.32it/s]\n",
      "Evaluating FP edges: 100%|██████████| 5594/5594 [00:00<00:00, 211661.93it/s]\n",
      "Evaluating FN edges: 100%|██████████| 5594/5594 [00:00<00:00, 302088.82it/s]\n",
      "Loading TIFFs: 100%|██████████| 50/50 [00:00<00:00, 1644.52it/s]\n",
      "Computing node attributes: 100%|██████████| 51/51 [00:00<00:00, 97.70it/s] \n",
      "Loading TIFFs: 100%|██████████| 50/50 [00:00<00:00, 2177.14it/s]\n",
      "Computing node attributes: 100%|██████████| 51/51 [00:00<00:00, 110.61it/s]\n",
      "Matching frames: 100%|██████████| 51/51 [00:00<00:00, 189.65it/s]\n",
      "Evaluating nodes: 100%|██████████| 8514/8514 [00:00<00:00, 340649.66it/s]\n",
      "Evaluating FP edges: 100%|██████████| 8440/8440 [00:00<00:00, 268820.72it/s]\n",
      "Evaluating FN edges: 100%|██████████| 8440/8440 [00:00<00:00, 365603.51it/s]\n"
     ]
    }
   ],
   "source": [
    "for config in configs:\n",
    "    config.evaluate(as_ctc=True)"
   ]
  }
 ],
 "metadata": {
  "kernelspec": {
   "display_name": "tracktour",
   "language": "python",
   "name": "python3"
  },
  "language_info": {
   "codemirror_mode": {
    "name": "ipython",
    "version": 3
   },
   "file_extension": ".py",
   "mimetype": "text/x-python",
   "name": "python",
   "nbconvert_exporter": "python",
   "pygments_lexer": "ipython3",
   "version": "3.13.2"
  }
 },
 "nbformat": 4,
 "nbformat_minor": 2
}
