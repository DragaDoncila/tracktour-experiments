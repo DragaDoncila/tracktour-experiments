{
 "cells": [
  {
   "cell_type": "code",
   "execution_count": 3,
   "metadata": {},
   "outputs": [],
   "source": [
    "import os\n",
    "\n",
    "from tracktour_experiments.generate_dataset_summary import generate_ctc_summary\n",
    "\n",
    "GT_DIR = '/home/ddon0001/PhD/data/cell_tracking_challenge/SUBMISSION/'\n",
    "SEG_DIR = '/home/ddon0001/PhD/experiments/scaled/pre-thesis/merge_introduced_seg/'\n",
    "OUT_ROOT = '/home/ddon0001/PhD/experiments/scaled/pre-thesis/merge_introduced_solved/'\n",
    "out_csv_path = os.path.join(OUT_ROOT, 'summary.csv')"
   ]
  },
  {
   "cell_type": "code",
   "execution_count": 4,
   "metadata": {},
   "outputs": [
    {
     "name": "stderr",
     "output_type": "stream",
     "text": [
      "Loading TIFFs: 100%|██████████| 11/11 [00:01<00:00,  7.27it/s]\n",
      "Loading TIFFs: 100%|██████████| 11/11 [00:00<00:00, 123.46it/s]\n",
      "/home/ddon0001/miniconda3/envs/tracktour/lib/python3.13/site-packages/numpy/_core/fromnumeric.py:86: RuntimeWarning: overflow encountered in reduce\n",
      "  return ufunc.reduce(obj, axis, dtype, out, **passkwargs)\n",
      "Extracting Centroids: 100%|██████████| 12/12 [00:00<00:00, 22.53it/s]\n",
      "/home/ddon0001/PhD/code/tracktour-experiments/src/tracktour_experiments/generate_dataset_summary.py:84: UserWarning: No error segmentation for dataset Fluo-C3DL-MDA231_02. Skipping...\n",
      "  warnings.warn(f'No error segmentation for dataset {ds_name}_{seq}. Skipping...')\n",
      "Loading TIFFs: 100%|██████████| 91/91 [00:00<00:00, 123.68it/s]\n",
      "Loading TIFFs: 100%|██████████| 91/91 [00:00<00:00, 488.91it/s]\n",
      "Extracting Centroids: 100%|██████████| 92/92 [00:01<00:00, 55.36it/s]\n",
      "Loading TIFFs: 100%|██████████| 91/91 [00:00<00:00, 128.03it/s]\n",
      "Loading TIFFs: 100%|██████████| 91/91 [00:00<00:00, 311.32it/s]\n",
      "Extracting Centroids: 100%|██████████| 92/92 [00:01<00:00, 49.66it/s]\n",
      "Loading TIFFs: 100%|██████████| 91/91 [00:01<00:00, 70.90it/s]\n",
      "Loading TIFFs: 100%|██████████| 91/91 [00:00<00:00, 597.20it/s]\n",
      "Extracting Centroids: 100%|██████████| 92/92 [00:05<00:00, 17.41it/s]\n",
      "Loading TIFFs: 100%|██████████| 91/91 [00:01<00:00, 59.13it/s]\n",
      "Loading TIFFs: 100%|██████████| 91/91 [00:00<00:00, 546.53it/s]\n",
      "Extracting Centroids: 100%|██████████| 92/92 [00:15<00:00,  5.88it/s]\n",
      "Loading TIFFs: 100%|██████████| 1375/1375 [00:14<00:00, 95.47it/s]\n",
      "Loading TIFFs: 100%|██████████| 1375/1375 [00:03<00:00, 440.21it/s]\n",
      "Extracting Centroids: 100%|██████████| 1376/1376 [00:09<00:00, 144.32it/s]\n",
      "Loading TIFFs: 100%|██████████| 1375/1375 [00:13<00:00, 99.93it/s] \n",
      "Loading TIFFs: 100%|██████████| 1375/1375 [00:03<00:00, 441.94it/s]\n",
      "Extracting Centroids: 100%|██████████| 1376/1376 [00:11<00:00, 119.59it/s]\n",
      "Loading TIFFs: 100%|██████████| 1763/1763 [00:17<00:00, 99.97it/s]\n",
      "Loading TIFFs: 100%|██████████| 1763/1763 [00:03<00:00, 461.21it/s]\n",
      "Extracting Centroids: 100%|██████████| 1764/1764 [00:12<00:00, 142.28it/s]\n",
      "Loading TIFFs: 100%|██████████| 1763/1763 [00:16<00:00, 109.33it/s]\n",
      "Loading TIFFs: 100%|██████████| 1763/1763 [00:03<00:00, 490.68it/s]\n",
      "Extracting Centroids: 100%|██████████| 1764/1764 [00:45<00:00, 39.17it/s]\n",
      "Loading TIFFs: 100%|██████████| 299/299 [00:01<00:00, 213.18it/s]\n",
      "Loading TIFFs: 100%|██████████| 299/299 [00:00<00:00, 733.78it/s]\n",
      "Extracting Centroids: 100%|██████████| 300/300 [00:42<00:00,  7.06it/s]\n",
      "Loading TIFFs: 100%|██████████| 299/299 [00:01<00:00, 216.77it/s]\n",
      "Loading TIFFs: 100%|██████████| 299/299 [00:00<00:00, 721.19it/s]\n",
      "Extracting Centroids: 100%|██████████| 300/300 [00:34<00:00,  8.66it/s]\n",
      "Loading TIFFs: 100%|██████████| 249/249 [00:28<00:00,  8.61it/s]\n",
      "Loading TIFFs: 100%|██████████| 194/194 [00:02<00:00, 92.36it/s]\n",
      "/home/ddon0001/miniconda3/envs/tracktour/lib/python3.13/site-packages/numpy/_core/fromnumeric.py:86: RuntimeWarning: overflow encountered in reduce\n",
      "  return ufunc.reduce(obj, axis, dtype, out, **passkwargs)\n",
      "/home/ddon0001/miniconda3/envs/tracktour/lib/python3.13/site-packages/numpy/_core/fromnumeric.py:86: RuntimeWarning: overflow encountered in reduce\n",
      "  return ufunc.reduce(obj, axis, dtype, out, **passkwargs)\n",
      "/home/ddon0001/miniconda3/envs/tracktour/lib/python3.13/site-packages/numpy/_core/fromnumeric.py:86: RuntimeWarning: overflow encountered in reduce\n",
      "  return ufunc.reduce(obj, axis, dtype, out, **passkwargs)\n",
      "/home/ddon0001/miniconda3/envs/tracktour/lib/python3.13/site-packages/numpy/_core/fromnumeric.py:86: RuntimeWarning: overflow encountered in reduce\n",
      "  return ufunc.reduce(obj, axis, dtype, out, **passkwargs)\n",
      "/home/ddon0001/miniconda3/envs/tracktour/lib/python3.13/site-packages/numpy/_core/fromnumeric.py:86: RuntimeWarning: overflow encountered in reduce\n",
      "  return ufunc.reduce(obj, axis, dtype, out, **passkwargs)\n",
      "/home/ddon0001/miniconda3/envs/tracktour/lib/python3.13/site-packages/numpy/_core/fromnumeric.py:86: RuntimeWarning: overflow encountered in reduce\n",
      "  return ufunc.reduce(obj, axis, dtype, out, **passkwargs)\n",
      "/home/ddon0001/miniconda3/envs/tracktour/lib/python3.13/site-packages/numpy/_core/fromnumeric.py:86: RuntimeWarning: overflow encountered in reduce\n",
      "  return ufunc.reduce(obj, axis, dtype, out, **passkwargs)\n",
      "/home/ddon0001/miniconda3/envs/tracktour/lib/python3.13/site-packages/numpy/_core/fromnumeric.py:86: RuntimeWarning: overflow encountered in reduce\n",
      "  return ufunc.reduce(obj, axis, dtype, out, **passkwargs)\n",
      "Extracting Centroids: 100%|██████████| 195/195 [00:24<00:00,  8.06it/s]\n",
      "Loading TIFFs: 100%|██████████| 249/249 [00:29<00:00,  8.43it/s]\n",
      "Loading TIFFs: 100%|██████████| 189/189 [00:01<00:00, 103.10it/s]\n",
      "/home/ddon0001/miniconda3/envs/tracktour/lib/python3.13/site-packages/numpy/_core/fromnumeric.py:86: RuntimeWarning: overflow encountered in reduce\n",
      "  return ufunc.reduce(obj, axis, dtype, out, **passkwargs)\n",
      "/home/ddon0001/miniconda3/envs/tracktour/lib/python3.13/site-packages/numpy/_core/fromnumeric.py:86: RuntimeWarning: overflow encountered in reduce\n",
      "  return ufunc.reduce(obj, axis, dtype, out, **passkwargs)\n",
      "/home/ddon0001/miniconda3/envs/tracktour/lib/python3.13/site-packages/numpy/_core/fromnumeric.py:86: RuntimeWarning: overflow encountered in reduce\n",
      "  return ufunc.reduce(obj, axis, dtype, out, **passkwargs)\n",
      "/home/ddon0001/miniconda3/envs/tracktour/lib/python3.13/site-packages/numpy/_core/fromnumeric.py:86: RuntimeWarning: overflow encountered in reduce\n",
      "  return ufunc.reduce(obj, axis, dtype, out, **passkwargs)\n",
      "/home/ddon0001/miniconda3/envs/tracktour/lib/python3.13/site-packages/numpy/_core/fromnumeric.py:86: RuntimeWarning: overflow encountered in reduce\n",
      "  return ufunc.reduce(obj, axis, dtype, out, **passkwargs)\n",
      "/home/ddon0001/miniconda3/envs/tracktour/lib/python3.13/site-packages/numpy/_core/fromnumeric.py:86: RuntimeWarning: overflow encountered in reduce\n",
      "  return ufunc.reduce(obj, axis, dtype, out, **passkwargs)\n",
      "/home/ddon0001/miniconda3/envs/tracktour/lib/python3.13/site-packages/numpy/_core/fromnumeric.py:86: RuntimeWarning: overflow encountered in reduce\n",
      "  return ufunc.reduce(obj, axis, dtype, out, **passkwargs)\n",
      "Extracting Centroids: 100%|██████████| 190/190 [00:22<00:00,  8.27it/s]\n",
      "100%|██████████| 7/7 [06:20<00:00, 54.34s/it]\n"
     ]
    },
    {
     "data": {
      "text/html": [
       "<div>\n",
       "<style scoped>\n",
       "    .dataframe tbody tr th:only-of-type {\n",
       "        vertical-align: middle;\n",
       "    }\n",
       "\n",
       "    .dataframe tbody tr th {\n",
       "        vertical-align: top;\n",
       "    }\n",
       "\n",
       "    .dataframe thead th {\n",
       "        text-align: right;\n",
       "    }\n",
       "</style>\n",
       "<table border=\"1\" class=\"dataframe\">\n",
       "  <thead>\n",
       "    <tr style=\"text-align: right;\">\n",
       "      <th></th>\n",
       "      <th>ds_name</th>\n",
       "      <th>im_shape</th>\n",
       "      <th>n_frames</th>\n",
       "      <th>min_det</th>\n",
       "      <th>max_det</th>\n",
       "      <th>total_det</th>\n",
       "      <th>det_path</th>\n",
       "      <th>im_path</th>\n",
       "      <th>seg_path</th>\n",
       "      <th>tra_gt_path</th>\n",
       "    </tr>\n",
       "  </thead>\n",
       "  <tbody>\n",
       "    <tr>\n",
       "      <th>0</th>\n",
       "      <td>Fluo-C3DL-MDA231_01</td>\n",
       "      <td>(30, 512, 512)</td>\n",
       "      <td>12</td>\n",
       "      <td>28</td>\n",
       "      <td>31</td>\n",
       "      <td>352</td>\n",
       "      <td>/home/ddon0001/PhD/experiments/scaled/pre-thes...</td>\n",
       "      <td>/home/ddon0001/PhD/data/cell_tracking_challeng...</td>\n",
       "      <td>/home/ddon0001/PhD/experiments/scaled/pre-thes...</td>\n",
       "      <td>/home/ddon0001/PhD/data/cell_tracking_challeng...</td>\n",
       "    </tr>\n",
       "    <tr>\n",
       "      <th>1</th>\n",
       "      <td>Fluo-N2DH-GOWT1_01</td>\n",
       "      <td>(1024, 1024)</td>\n",
       "      <td>92</td>\n",
       "      <td>20</td>\n",
       "      <td>24</td>\n",
       "      <td>2055</td>\n",
       "      <td>/home/ddon0001/PhD/experiments/scaled/pre-thes...</td>\n",
       "      <td>/home/ddon0001/PhD/data/cell_tracking_challeng...</td>\n",
       "      <td>/home/ddon0001/PhD/experiments/scaled/pre-thes...</td>\n",
       "      <td>/home/ddon0001/PhD/data/cell_tracking_challeng...</td>\n",
       "    </tr>\n",
       "    <tr>\n",
       "      <th>2</th>\n",
       "      <td>Fluo-N2DH-GOWT1_02</td>\n",
       "      <td>(1024, 1024)</td>\n",
       "      <td>92</td>\n",
       "      <td>21</td>\n",
       "      <td>29</td>\n",
       "      <td>2293</td>\n",
       "      <td>/home/ddon0001/PhD/experiments/scaled/pre-thes...</td>\n",
       "      <td>/home/ddon0001/PhD/data/cell_tracking_challeng...</td>\n",
       "      <td>/home/ddon0001/PhD/experiments/scaled/pre-thes...</td>\n",
       "      <td>/home/ddon0001/PhD/data/cell_tracking_challeng...</td>\n",
       "    </tr>\n",
       "    <tr>\n",
       "      <th>3</th>\n",
       "      <td>Fluo-N2DL-HeLa_01</td>\n",
       "      <td>(700, 1100)</td>\n",
       "      <td>92</td>\n",
       "      <td>43</td>\n",
       "      <td>136</td>\n",
       "      <td>8613</td>\n",
       "      <td>/home/ddon0001/PhD/experiments/scaled/pre-thes...</td>\n",
       "      <td>/home/ddon0001/PhD/data/cell_tracking_challeng...</td>\n",
       "      <td>/home/ddon0001/PhD/experiments/scaled/pre-thes...</td>\n",
       "      <td>/home/ddon0001/PhD/data/cell_tracking_challeng...</td>\n",
       "    </tr>\n",
       "    <tr>\n",
       "      <th>4</th>\n",
       "      <td>Fluo-N2DL-HeLa_02</td>\n",
       "      <td>(700, 1100)</td>\n",
       "      <td>92</td>\n",
       "      <td>124</td>\n",
       "      <td>364</td>\n",
       "      <td>25391</td>\n",
       "      <td>/home/ddon0001/PhD/experiments/scaled/pre-thes...</td>\n",
       "      <td>/home/ddon0001/PhD/data/cell_tracking_challeng...</td>\n",
       "      <td>/home/ddon0001/PhD/experiments/scaled/pre-thes...</td>\n",
       "      <td>/home/ddon0001/PhD/data/cell_tracking_challeng...</td>\n",
       "    </tr>\n",
       "    <tr>\n",
       "      <th>5</th>\n",
       "      <td>BF-C2DL-MuSC_01</td>\n",
       "      <td>(1036, 1070)</td>\n",
       "      <td>1376</td>\n",
       "      <td>1</td>\n",
       "      <td>23</td>\n",
       "      <td>5400</td>\n",
       "      <td>/home/ddon0001/PhD/experiments/scaled/pre-thes...</td>\n",
       "      <td>/home/ddon0001/PhD/data/cell_tracking_challeng...</td>\n",
       "      <td>/home/ddon0001/PhD/experiments/scaled/pre-thes...</td>\n",
       "      <td>/home/ddon0001/PhD/data/cell_tracking_challeng...</td>\n",
       "    </tr>\n",
       "    <tr>\n",
       "      <th>6</th>\n",
       "      <td>BF-C2DL-MuSC_02</td>\n",
       "      <td>(1036, 1070)</td>\n",
       "      <td>1376</td>\n",
       "      <td>1</td>\n",
       "      <td>22</td>\n",
       "      <td>7268</td>\n",
       "      <td>/home/ddon0001/PhD/experiments/scaled/pre-thes...</td>\n",
       "      <td>/home/ddon0001/PhD/data/cell_tracking_challeng...</td>\n",
       "      <td>/home/ddon0001/PhD/experiments/scaled/pre-thes...</td>\n",
       "      <td>/home/ddon0001/PhD/data/cell_tracking_challeng...</td>\n",
       "    </tr>\n",
       "    <tr>\n",
       "      <th>7</th>\n",
       "      <td>BF-C2DL-HSC_01</td>\n",
       "      <td>(1010, 1010)</td>\n",
       "      <td>1764</td>\n",
       "      <td>1</td>\n",
       "      <td>12</td>\n",
       "      <td>8675</td>\n",
       "      <td>/home/ddon0001/PhD/experiments/scaled/pre-thes...</td>\n",
       "      <td>/home/ddon0001/PhD/data/cell_tracking_challeng...</td>\n",
       "      <td>/home/ddon0001/PhD/experiments/scaled/pre-thes...</td>\n",
       "      <td>/home/ddon0001/PhD/data/cell_tracking_challeng...</td>\n",
       "    </tr>\n",
       "    <tr>\n",
       "      <th>8</th>\n",
       "      <td>BF-C2DL-HSC_02</td>\n",
       "      <td>(1010, 1010)</td>\n",
       "      <td>1764</td>\n",
       "      <td>2</td>\n",
       "      <td>159</td>\n",
       "      <td>64503</td>\n",
       "      <td>/home/ddon0001/PhD/experiments/scaled/pre-thes...</td>\n",
       "      <td>/home/ddon0001/PhD/data/cell_tracking_challeng...</td>\n",
       "      <td>/home/ddon0001/PhD/experiments/scaled/pre-thes...</td>\n",
       "      <td>/home/ddon0001/PhD/data/cell_tracking_challeng...</td>\n",
       "    </tr>\n",
       "    <tr>\n",
       "      <th>9</th>\n",
       "      <td>PhC-C2DL-PSC_01</td>\n",
       "      <td>(576, 720)</td>\n",
       "      <td>300</td>\n",
       "      <td>74</td>\n",
       "      <td>660</td>\n",
       "      <td>71299</td>\n",
       "      <td>/home/ddon0001/PhD/experiments/scaled/pre-thes...</td>\n",
       "      <td>/home/ddon0001/PhD/data/cell_tracking_challeng...</td>\n",
       "      <td>/home/ddon0001/PhD/experiments/scaled/pre-thes...</td>\n",
       "      <td>/home/ddon0001/PhD/data/cell_tracking_challeng...</td>\n",
       "    </tr>\n",
       "    <tr>\n",
       "      <th>10</th>\n",
       "      <td>PhC-C2DL-PSC_02</td>\n",
       "      <td>(576, 720)</td>\n",
       "      <td>300</td>\n",
       "      <td>65</td>\n",
       "      <td>498</td>\n",
       "      <td>56791</td>\n",
       "      <td>/home/ddon0001/PhD/experiments/scaled/pre-thes...</td>\n",
       "      <td>/home/ddon0001/PhD/data/cell_tracking_challeng...</td>\n",
       "      <td>/home/ddon0001/PhD/experiments/scaled/pre-thes...</td>\n",
       "      <td>/home/ddon0001/PhD/data/cell_tracking_challeng...</td>\n",
       "    </tr>\n",
       "    <tr>\n",
       "      <th>11</th>\n",
       "      <td>Fluo-N3DH-CE_01</td>\n",
       "      <td>(35, 512, 708)</td>\n",
       "      <td>250</td>\n",
       "      <td>4</td>\n",
       "      <td>362</td>\n",
       "      <td>23797</td>\n",
       "      <td>/home/ddon0001/PhD/experiments/scaled/pre-thes...</td>\n",
       "      <td>/home/ddon0001/PhD/data/cell_tracking_challeng...</td>\n",
       "      <td>/home/ddon0001/PhD/experiments/scaled/pre-thes...</td>\n",
       "      <td>/home/ddon0001/PhD/data/cell_tracking_challeng...</td>\n",
       "    </tr>\n",
       "    <tr>\n",
       "      <th>12</th>\n",
       "      <td>Fluo-N3DH-CE_02</td>\n",
       "      <td>(31, 512, 712)</td>\n",
       "      <td>250</td>\n",
       "      <td>2</td>\n",
       "      <td>359</td>\n",
       "      <td>22344</td>\n",
       "      <td>/home/ddon0001/PhD/experiments/scaled/pre-thes...</td>\n",
       "      <td>/home/ddon0001/PhD/data/cell_tracking_challeng...</td>\n",
       "      <td>/home/ddon0001/PhD/experiments/scaled/pre-thes...</td>\n",
       "      <td>/home/ddon0001/PhD/data/cell_tracking_challeng...</td>\n",
       "    </tr>\n",
       "  </tbody>\n",
       "</table>\n",
       "</div>"
      ],
      "text/plain": [
       "                ds_name        im_shape  n_frames  min_det  max_det  \\\n",
       "0   Fluo-C3DL-MDA231_01  (30, 512, 512)        12       28       31   \n",
       "1    Fluo-N2DH-GOWT1_01    (1024, 1024)        92       20       24   \n",
       "2    Fluo-N2DH-GOWT1_02    (1024, 1024)        92       21       29   \n",
       "3     Fluo-N2DL-HeLa_01     (700, 1100)        92       43      136   \n",
       "4     Fluo-N2DL-HeLa_02     (700, 1100)        92      124      364   \n",
       "5       BF-C2DL-MuSC_01    (1036, 1070)      1376        1       23   \n",
       "6       BF-C2DL-MuSC_02    (1036, 1070)      1376        1       22   \n",
       "7        BF-C2DL-HSC_01    (1010, 1010)      1764        1       12   \n",
       "8        BF-C2DL-HSC_02    (1010, 1010)      1764        2      159   \n",
       "9       PhC-C2DL-PSC_01      (576, 720)       300       74      660   \n",
       "10      PhC-C2DL-PSC_02      (576, 720)       300       65      498   \n",
       "11      Fluo-N3DH-CE_01  (35, 512, 708)       250        4      362   \n",
       "12      Fluo-N3DH-CE_02  (31, 512, 712)       250        2      359   \n",
       "\n",
       "    total_det                                           det_path  \\\n",
       "0         352  /home/ddon0001/PhD/experiments/scaled/pre-thes...   \n",
       "1        2055  /home/ddon0001/PhD/experiments/scaled/pre-thes...   \n",
       "2        2293  /home/ddon0001/PhD/experiments/scaled/pre-thes...   \n",
       "3        8613  /home/ddon0001/PhD/experiments/scaled/pre-thes...   \n",
       "4       25391  /home/ddon0001/PhD/experiments/scaled/pre-thes...   \n",
       "5        5400  /home/ddon0001/PhD/experiments/scaled/pre-thes...   \n",
       "6        7268  /home/ddon0001/PhD/experiments/scaled/pre-thes...   \n",
       "7        8675  /home/ddon0001/PhD/experiments/scaled/pre-thes...   \n",
       "8       64503  /home/ddon0001/PhD/experiments/scaled/pre-thes...   \n",
       "9       71299  /home/ddon0001/PhD/experiments/scaled/pre-thes...   \n",
       "10      56791  /home/ddon0001/PhD/experiments/scaled/pre-thes...   \n",
       "11      23797  /home/ddon0001/PhD/experiments/scaled/pre-thes...   \n",
       "12      22344  /home/ddon0001/PhD/experiments/scaled/pre-thes...   \n",
       "\n",
       "                                              im_path  \\\n",
       "0   /home/ddon0001/PhD/data/cell_tracking_challeng...   \n",
       "1   /home/ddon0001/PhD/data/cell_tracking_challeng...   \n",
       "2   /home/ddon0001/PhD/data/cell_tracking_challeng...   \n",
       "3   /home/ddon0001/PhD/data/cell_tracking_challeng...   \n",
       "4   /home/ddon0001/PhD/data/cell_tracking_challeng...   \n",
       "5   /home/ddon0001/PhD/data/cell_tracking_challeng...   \n",
       "6   /home/ddon0001/PhD/data/cell_tracking_challeng...   \n",
       "7   /home/ddon0001/PhD/data/cell_tracking_challeng...   \n",
       "8   /home/ddon0001/PhD/data/cell_tracking_challeng...   \n",
       "9   /home/ddon0001/PhD/data/cell_tracking_challeng...   \n",
       "10  /home/ddon0001/PhD/data/cell_tracking_challeng...   \n",
       "11  /home/ddon0001/PhD/data/cell_tracking_challeng...   \n",
       "12  /home/ddon0001/PhD/data/cell_tracking_challeng...   \n",
       "\n",
       "                                             seg_path  \\\n",
       "0   /home/ddon0001/PhD/experiments/scaled/pre-thes...   \n",
       "1   /home/ddon0001/PhD/experiments/scaled/pre-thes...   \n",
       "2   /home/ddon0001/PhD/experiments/scaled/pre-thes...   \n",
       "3   /home/ddon0001/PhD/experiments/scaled/pre-thes...   \n",
       "4   /home/ddon0001/PhD/experiments/scaled/pre-thes...   \n",
       "5   /home/ddon0001/PhD/experiments/scaled/pre-thes...   \n",
       "6   /home/ddon0001/PhD/experiments/scaled/pre-thes...   \n",
       "7   /home/ddon0001/PhD/experiments/scaled/pre-thes...   \n",
       "8   /home/ddon0001/PhD/experiments/scaled/pre-thes...   \n",
       "9   /home/ddon0001/PhD/experiments/scaled/pre-thes...   \n",
       "10  /home/ddon0001/PhD/experiments/scaled/pre-thes...   \n",
       "11  /home/ddon0001/PhD/experiments/scaled/pre-thes...   \n",
       "12  /home/ddon0001/PhD/experiments/scaled/pre-thes...   \n",
       "\n",
       "                                          tra_gt_path  \n",
       "0   /home/ddon0001/PhD/data/cell_tracking_challeng...  \n",
       "1   /home/ddon0001/PhD/data/cell_tracking_challeng...  \n",
       "2   /home/ddon0001/PhD/data/cell_tracking_challeng...  \n",
       "3   /home/ddon0001/PhD/data/cell_tracking_challeng...  \n",
       "4   /home/ddon0001/PhD/data/cell_tracking_challeng...  \n",
       "5   /home/ddon0001/PhD/data/cell_tracking_challeng...  \n",
       "6   /home/ddon0001/PhD/data/cell_tracking_challeng...  \n",
       "7   /home/ddon0001/PhD/data/cell_tracking_challeng...  \n",
       "8   /home/ddon0001/PhD/data/cell_tracking_challeng...  \n",
       "9   /home/ddon0001/PhD/data/cell_tracking_challeng...  \n",
       "10  /home/ddon0001/PhD/data/cell_tracking_challeng...  \n",
       "11  /home/ddon0001/PhD/data/cell_tracking_challeng...  \n",
       "12  /home/ddon0001/PhD/data/cell_tracking_challeng...  "
      ]
     },
     "execution_count": 4,
     "metadata": {},
     "output_type": "execute_result"
    }
   ],
   "source": [
    "generate_ctc_summary(SEG_DIR, out_csv_path, gt_dir=GT_DIR, use_err_seg=True)"
   ]
  },
  {
   "cell_type": "code",
   "execution_count": 5,
   "metadata": {},
   "outputs": [],
   "source": [
    "from tracktour_experiments.generate_configs import ds_summary_to_configs\n",
    "configs = ds_summary_to_configs(out_csv_path, OUT_ROOT, div_constraint=False)"
   ]
  },
  {
   "cell_type": "code",
   "execution_count": 7,
   "metadata": {},
   "outputs": [
    {
     "name": "stderr",
     "output_type": "stream",
     "text": [
      "Computing candidate edges: 100%|██████████| 11/11 [00:00<00:00, 1624.50it/s]"
     ]
    },
    {
     "name": "stderr",
     "output_type": "stream",
     "text": [
      "\n"
     ]
    },
    {
     "name": "stdout",
     "output_type": "stream",
     "text": [
      "Building took 0.3043348789215088 seconds\n"
     ]
    },
    {
     "name": "stderr",
     "output_type": "stream",
     "text": [
      "Computing candidate edges: 100%|██████████| 91/91 [00:00<00:00, 1701.96it/s]\n"
     ]
    },
    {
     "name": "stdout",
     "output_type": "stream",
     "text": [
      "Building took 1.412987470626831 seconds\n"
     ]
    },
    {
     "name": "stderr",
     "output_type": "stream",
     "text": [
      "Computing candidate edges: 100%|██████████| 91/91 [00:00<00:00, 1732.67it/s]\n"
     ]
    },
    {
     "name": "stdout",
     "output_type": "stream",
     "text": [
      "Building took 1.5324771404266357 seconds\n"
     ]
    },
    {
     "name": "stderr",
     "output_type": "stream",
     "text": [
      "Computing candidate edges: 100%|██████████| 91/91 [00:00<00:00, 1537.37it/s]\n"
     ]
    },
    {
     "name": "stdout",
     "output_type": "stream",
     "text": [
      "Building took 5.958585977554321 seconds\n"
     ]
    },
    {
     "name": "stderr",
     "output_type": "stream",
     "text": [
      "Computing candidate edges: 100%|██████████| 91/91 [00:00<00:00, 1043.68it/s]\n"
     ]
    },
    {
     "name": "stdout",
     "output_type": "stream",
     "text": [
      "Building took 17.410743713378906 seconds\n"
     ]
    },
    {
     "name": "stderr",
     "output_type": "stream",
     "text": [
      "Computing candidate edges: 100%|██████████| 1375/1375 [00:00<00:00, 2088.16it/s]\n"
     ]
    },
    {
     "name": "stdout",
     "output_type": "stream",
     "text": [
      "Building took 4.344847679138184 seconds\n"
     ]
    },
    {
     "name": "stderr",
     "output_type": "stream",
     "text": [
      "Computing candidate edges: 100%|██████████| 1375/1375 [00:00<00:00, 1930.38it/s]\n"
     ]
    },
    {
     "name": "stdout",
     "output_type": "stream",
     "text": [
      "Building took 6.201094150543213 seconds\n"
     ]
    },
    {
     "name": "stderr",
     "output_type": "stream",
     "text": [
      "Computing candidate edges: 100%|██████████| 1763/1763 [00:00<00:00, 1949.81it/s]\n"
     ]
    },
    {
     "name": "stdout",
     "output_type": "stream",
     "text": [
      "Building took 6.188644170761108 seconds\n"
     ]
    },
    {
     "name": "stderr",
     "output_type": "stream",
     "text": [
      "Computing candidate edges: 100%|██████████| 1763/1763 [00:01<00:00, 1600.46it/s]\n"
     ]
    },
    {
     "name": "stdout",
     "output_type": "stream",
     "text": [
      "Building took 47.26533770561218 seconds\n"
     ]
    },
    {
     "name": "stderr",
     "output_type": "stream",
     "text": [
      "Computing candidate edges: 100%|██████████| 299/299 [00:00<00:00, 1357.07it/s]\n"
     ]
    },
    {
     "name": "stdout",
     "output_type": "stream",
     "text": [
      "Building took 40.15345907211304 seconds\n"
     ]
    },
    {
     "name": "stderr",
     "output_type": "stream",
     "text": [
      "Computing candidate edges: 100%|██████████| 299/299 [00:00<00:00, 1419.97it/s]\n"
     ]
    },
    {
     "name": "stdout",
     "output_type": "stream",
     "text": [
      "Building took 32.98662567138672 seconds\n"
     ]
    },
    {
     "name": "stderr",
     "output_type": "stream",
     "text": [
      "Computing candidate edges: 100%|██████████| 194/194 [00:00<00:00, 1647.48it/s]\n"
     ]
    },
    {
     "name": "stdout",
     "output_type": "stream",
     "text": [
      "Building took 16.112735986709595 seconds\n"
     ]
    },
    {
     "name": "stderr",
     "output_type": "stream",
     "text": [
      "Computing candidate edges: 100%|██████████| 189/189 [00:00<00:00, 1432.37it/s]\n"
     ]
    },
    {
     "name": "stdout",
     "output_type": "stream",
     "text": [
      "Building took 13.693387269973755 seconds\n"
     ]
    }
   ],
   "source": [
    "for config in configs:\n",
    "     config.run(compute_additional_features=True)"
   ]
  },
  {
   "cell_type": "code",
   "execution_count": 8,
   "metadata": {},
   "outputs": [
    {
     "name": "stdout",
     "output_type": "stream",
     "text": [
      "Fluo-C3DL-MDA231_01\n"
     ]
    },
    {
     "name": "stderr",
     "output_type": "stream",
     "text": [
      "Loading TIFFs: 100%|██████████| 11/11 [00:00<00:00, 130.18it/s]\n",
      "Loading TIFFs: 100%|██████████| 11/11 [00:00<00:00, 33.36it/s]\n",
      "Computing node attributes: 100%|██████████| 12/12 [00:00<00:00, 49.79it/s]\n",
      "1 non-connected masks at t=0.\n",
      "1 non-connected masks at t=6.\n",
      "1 non-connected masks at t=9.\n",
      "2 non-connected masks at t=10.\n",
      "1 non-connected masks at t=11.\n",
      "Matching frames:   0%|          | 0/12 [00:00<?, ?it/s]/home/ddon0001/PhD/code/traccuracy/src/traccuracy/matchers/_ctc.py:92: UserWarning: 'res_boxes' and/or 'res_labels' are not provided, using 'regionprops' to get them\n",
      "  overlaps = get_labels_with_overlap(\n",
      "Matching frames: 100%|██████████| 12/12 [00:00<00:00, 46.93it/s]\n",
      "Evaluating nodes: 100%|██████████| 352/352 [00:00<00:00, 256496.70it/s]\n",
      "Evaluating FP edges: 100%|██████████| 317/317 [00:00<00:00, 281098.18it/s]\n",
      "Evaluating FN edges: 100%|██████████| 331/331 [00:00<00:00, 289654.63it/s]\n"
     ]
    },
    {
     "name": "stdout",
     "output_type": "stream",
     "text": [
      "Fluo-N2DH-GOWT1_01\n"
     ]
    },
    {
     "name": "stderr",
     "output_type": "stream",
     "text": [
      "Loading TIFFs: 100%|██████████| 91/91 [00:00<00:00, 559.67it/s]\n",
      "Loading TIFFs: 100%|██████████| 91/91 [00:00<00:00, 242.24it/s]\n",
      "Computing node attributes: 100%|██████████| 92/92 [00:00<00:00, 220.92it/s]\n",
      "Matching frames:   0%|          | 0/92 [00:00<?, ?it/s]/home/ddon0001/PhD/code/traccuracy/src/traccuracy/matchers/_ctc.py:92: UserWarning: 'res_boxes' and/or 'res_labels' are not provided, using 'regionprops' to get them\n",
      "  overlaps = get_labels_with_overlap(\n",
      "Matching frames: 100%|██████████| 92/92 [00:00<00:00, 250.83it/s]\n",
      "Evaluating nodes: 100%|██████████| 2055/2055 [00:00<00:00, 444843.86it/s]\n",
      "Evaluating FP edges: 100%|██████████| 2034/2034 [00:00<00:00, 274545.10it/s]\n",
      "Evaluating FN edges: 100%|██████████| 2035/2035 [00:00<00:00, 385067.61it/s]\n"
     ]
    },
    {
     "name": "stdout",
     "output_type": "stream",
     "text": [
      "Fluo-N2DH-GOWT1_02\n"
     ]
    },
    {
     "name": "stderr",
     "output_type": "stream",
     "text": [
      "Loading TIFFs: 100%|██████████| 91/91 [00:00<00:00, 485.79it/s]\n",
      "Loading TIFFs: 100%|██████████| 91/91 [00:00<00:00, 218.31it/s]\n",
      "Computing node attributes: 100%|██████████| 92/92 [00:00<00:00, 206.26it/s]\n",
      "Matching frames:   0%|          | 0/92 [00:00<?, ?it/s]/home/ddon0001/PhD/code/traccuracy/src/traccuracy/matchers/_ctc.py:92: UserWarning: 'res_boxes' and/or 'res_labels' are not provided, using 'regionprops' to get them\n",
      "  overlaps = get_labels_with_overlap(\n",
      "Matching frames: 100%|██████████| 92/92 [00:00<00:00, 255.96it/s]\n",
      "Evaluating nodes: 100%|██████████| 2293/2293 [00:00<00:00, 524802.96it/s]\n",
      "Evaluating FP edges: 100%|██████████| 2271/2271 [00:00<00:00, 320629.61it/s]\n",
      "Evaluating FN edges: 100%|██████████| 2472/2472 [00:00<00:00, 381819.90it/s]\n"
     ]
    },
    {
     "name": "stdout",
     "output_type": "stream",
     "text": [
      "Fluo-N2DL-HeLa_01\n"
     ]
    },
    {
     "name": "stderr",
     "output_type": "stream",
     "text": [
      "Loading TIFFs: 100%|██████████| 91/91 [00:00<00:00, 539.15it/s]\n",
      "Loading TIFFs: 100%|██████████| 91/91 [00:00<00:00, 247.12it/s]\n",
      "Computing node attributes: 100%|██████████| 92/92 [00:00<00:00, 135.17it/s]\n",
      "1 non-connected masks at t=23.\n",
      "2 non-connected masks at t=52.\n",
      "Matching frames:   0%|          | 0/92 [00:00<?, ?it/s]/home/ddon0001/PhD/code/traccuracy/src/traccuracy/matchers/_ctc.py:92: UserWarning: 'res_boxes' and/or 'res_labels' are not provided, using 'regionprops' to get them\n",
      "  overlaps = get_labels_with_overlap(\n",
      "Matching frames: 100%|██████████| 92/92 [00:00<00:00, 174.72it/s]\n",
      "Evaluating nodes: 100%|██████████| 8613/8613 [00:00<00:00, 377917.80it/s]\n",
      "Evaluating FP edges: 100%|██████████| 8549/8549 [00:00<00:00, 281809.08it/s]\n",
      "Evaluating FN edges: 100%|██████████| 8562/8562 [00:00<00:00, 397560.40it/s]\n"
     ]
    },
    {
     "name": "stdout",
     "output_type": "stream",
     "text": [
      "Fluo-N2DL-HeLa_02\n"
     ]
    },
    {
     "name": "stderr",
     "output_type": "stream",
     "text": [
      "Loading TIFFs: 100%|██████████| 91/91 [00:00<00:00, 605.16it/s]\n",
      "Loading TIFFs: 100%|██████████| 91/91 [00:00<00:00, 275.86it/s]\n",
      "Computing node attributes: 100%|██████████| 92/92 [00:01<00:00, 77.58it/s] \n",
      "1 non-connected masks at t=28.\n",
      "1 non-connected masks at t=31.\n",
      "1 non-connected masks at t=33.\n",
      "1 non-connected masks at t=44.\n",
      "1 non-connected masks at t=54.\n",
      "Matching frames:   0%|          | 0/92 [00:00<?, ?it/s]/home/ddon0001/PhD/code/traccuracy/src/traccuracy/matchers/_ctc.py:92: UserWarning: 'res_boxes' and/or 'res_labels' are not provided, using 'regionprops' to get them\n",
      "  overlaps = get_labels_with_overlap(\n",
      "Matching frames: 100%|██████████| 92/92 [00:01<00:00, 78.03it/s] \n",
      "Evaluating nodes: 100%|██████████| 25391/25391 [00:00<00:00, 328708.39it/s]\n",
      "Evaluating FP edges: 100%|██████████| 25180/25180 [00:00<00:00, 257252.82it/s]\n",
      "Evaluating FN edges: 100%|██████████| 25168/25168 [00:00<00:00, 347620.43it/s]\n"
     ]
    },
    {
     "name": "stdout",
     "output_type": "stream",
     "text": [
      "BF-C2DL-MuSC_01\n"
     ]
    },
    {
     "name": "stderr",
     "output_type": "stream",
     "text": [
      "Loading TIFFs: 100%|██████████| 1375/1375 [00:03<00:00, 455.86it/s]\n",
      "Loading TIFFs: 100%|██████████| 1375/1375 [00:06<00:00, 206.33it/s]\n",
      "Computing node attributes: 100%|██████████| 1376/1376 [00:04<00:00, 324.54it/s]\n",
      "Matching frames:   0%|          | 0/1376 [00:00<?, ?it/s]/home/ddon0001/PhD/code/traccuracy/src/traccuracy/matchers/_ctc.py:92: UserWarning: 'res_boxes' and/or 'res_labels' are not provided, using 'regionprops' to get them\n",
      "  overlaps = get_labels_with_overlap(\n",
      "Matching frames: 100%|██████████| 1376/1376 [00:03<00:00, 348.91it/s]\n",
      "Evaluating nodes: 100%|██████████| 5400/5400 [00:00<00:00, 398039.46it/s]\n",
      "Evaluating FP edges: 100%|██████████| 5425/5425 [00:00<00:00, 262998.44it/s]\n",
      "Evaluating FN edges: 100%|██████████| 5410/5410 [00:00<00:00, 384505.11it/s]\n"
     ]
    },
    {
     "name": "stdout",
     "output_type": "stream",
     "text": [
      "BF-C2DL-MuSC_02\n"
     ]
    },
    {
     "name": "stderr",
     "output_type": "stream",
     "text": [
      "Loading TIFFs: 100%|██████████| 1375/1375 [00:03<00:00, 437.63it/s]\n",
      "Loading TIFFs: 100%|██████████| 1375/1375 [00:06<00:00, 225.42it/s]\n",
      "Computing node attributes: 100%|██████████| 1376/1376 [00:04<00:00, 331.66it/s]\n",
      "Matching frames:   0%|          | 0/1376 [00:00<?, ?it/s]/home/ddon0001/PhD/code/traccuracy/src/traccuracy/matchers/_ctc.py:92: UserWarning: 'res_boxes' and/or 'res_labels' are not provided, using 'regionprops' to get them\n",
      "  overlaps = get_labels_with_overlap(\n",
      "Matching frames: 100%|██████████| 1376/1376 [00:04<00:00, 313.94it/s]\n",
      "Evaluating nodes: 100%|██████████| 7268/7268 [00:00<00:00, 375356.48it/s]\n",
      "Evaluating FP edges: 100%|██████████| 7274/7274 [00:00<00:00, 173870.29it/s]\n",
      "Evaluating FN edges: 100%|██████████| 7294/7294 [00:00<00:00, 283213.17it/s]\n"
     ]
    },
    {
     "name": "stdout",
     "output_type": "stream",
     "text": [
      "BF-C2DL-HSC_01\n"
     ]
    },
    {
     "name": "stderr",
     "output_type": "stream",
     "text": [
      "Loading TIFFs: 100%|██████████| 1763/1763 [00:04<00:00, 403.13it/s]\n",
      "Loading TIFFs: 100%|██████████| 1763/1763 [00:06<00:00, 261.57it/s]\n",
      "Computing node attributes: 100%|██████████| 1764/1764 [00:05<00:00, 331.68it/s]\n",
      "Matching frames:   0%|          | 0/1764 [00:00<?, ?it/s]/home/ddon0001/PhD/code/traccuracy/src/traccuracy/matchers/_ctc.py:92: UserWarning: 'res_boxes' and/or 'res_labels' are not provided, using 'regionprops' to get them\n",
      "  overlaps = get_labels_with_overlap(\n",
      "Matching frames: 100%|██████████| 1764/1764 [00:04<00:00, 379.59it/s]\n",
      "Evaluating nodes: 100%|██████████| 8675/8675 [00:00<00:00, 496840.09it/s]\n",
      "Evaluating FP edges: 100%|██████████| 8674/8674 [00:00<00:00, 310583.09it/s]\n",
      "Evaluating FN edges: 100%|██████████| 8674/8674 [00:00<00:00, 434104.06it/s]\n"
     ]
    },
    {
     "name": "stdout",
     "output_type": "stream",
     "text": [
      "BF-C2DL-HSC_02\n"
     ]
    },
    {
     "name": "stderr",
     "output_type": "stream",
     "text": [
      "Loading TIFFs: 100%|██████████| 1763/1763 [00:03<00:00, 480.00it/s]\n",
      "Loading TIFFs: 100%|██████████| 1763/1763 [00:06<00:00, 263.41it/s]\n",
      "Computing node attributes: 100%|██████████| 1764/1764 [00:07<00:00, 238.01it/s]\n",
      "Matching frames:   0%|          | 0/1764 [00:00<?, ?it/s]/home/ddon0001/PhD/code/traccuracy/src/traccuracy/matchers/_ctc.py:92: UserWarning: 'res_boxes' and/or 'res_labels' are not provided, using 'regionprops' to get them\n",
      "  overlaps = get_labels_with_overlap(\n",
      "Matching frames: 100%|██████████| 1764/1764 [00:06<00:00, 259.89it/s]\n",
      "Evaluating nodes: 100%|██████████| 64503/64503 [00:00<00:00, 398937.71it/s]\n",
      "Evaluating FP edges: 100%|██████████| 64503/64503 [00:00<00:00, 300502.60it/s]\n",
      "Evaluating FN edges: 100%|██████████| 64501/64501 [00:00<00:00, 392706.67it/s]\n"
     ]
    },
    {
     "name": "stdout",
     "output_type": "stream",
     "text": [
      "PhC-C2DL-PSC_01\n"
     ]
    },
    {
     "name": "stderr",
     "output_type": "stream",
     "text": [
      "Loading TIFFs: 100%|██████████| 299/299 [00:00<00:00, 682.62it/s]\n",
      "Loading TIFFs: 100%|██████████| 299/299 [00:00<00:00, 509.75it/s]\n",
      "Computing node attributes: 100%|██████████| 300/300 [00:03<00:00, 90.17it/s] \n",
      "Matching frames:   0%|          | 0/300 [00:00<?, ?it/s]/home/ddon0001/PhD/code/traccuracy/src/traccuracy/matchers/_ctc.py:92: UserWarning: 'res_boxes' and/or 'res_labels' are not provided, using 'regionprops' to get them\n",
      "  overlaps = get_labels_with_overlap(\n",
      "Matching frames: 100%|██████████| 300/300 [00:02<00:00, 101.23it/s]\n",
      "Evaluating nodes: 100%|██████████| 71299/71299 [00:00<00:00, 355655.87it/s]\n",
      "Evaluating FP edges: 100%|██████████| 71300/71300 [00:00<00:00, 255912.64it/s]\n",
      "Evaluating FN edges: 100%|██████████| 71201/71201 [00:00<00:00, 390819.72it/s]\n"
     ]
    },
    {
     "name": "stdout",
     "output_type": "stream",
     "text": [
      "PhC-C2DL-PSC_02\n"
     ]
    },
    {
     "name": "stderr",
     "output_type": "stream",
     "text": [
      "Loading TIFFs: 100%|██████████| 299/299 [00:00<00:00, 713.65it/s]\n",
      "Loading TIFFs: 100%|██████████| 299/299 [00:00<00:00, 507.75it/s]\n",
      "Computing node attributes: 100%|██████████| 300/300 [00:02<00:00, 115.47it/s]\n",
      "Matching frames:   0%|          | 0/300 [00:00<?, ?it/s]/home/ddon0001/PhD/code/traccuracy/src/traccuracy/matchers/_ctc.py:92: UserWarning: 'res_boxes' and/or 'res_labels' are not provided, using 'regionprops' to get them\n",
      "  overlaps = get_labels_with_overlap(\n",
      "Matching frames: 100%|██████████| 300/300 [00:02<00:00, 123.15it/s]\n",
      "Evaluating nodes: 100%|██████████| 56791/56791 [00:00<00:00, 364598.43it/s]\n",
      "Evaluating FP edges: 100%|██████████| 56702/56702 [00:00<00:00, 266334.69it/s]\n",
      "Evaluating FN edges: 100%|██████████| 56639/56639 [00:00<00:00, 364132.02it/s]\n"
     ]
    },
    {
     "name": "stdout",
     "output_type": "stream",
     "text": [
      "Fluo-N3DH-CE_01\n"
     ]
    },
    {
     "name": "stderr",
     "output_type": "stream",
     "text": [
      "Loading TIFFs: 100%|██████████| 194/194 [00:02<00:00, 94.73it/s]\n",
      "Loading TIFFs: 100%|██████████| 194/194 [00:09<00:00, 20.84it/s]\n",
      "Computing node attributes: 100%|██████████| 195/195 [00:06<00:00, 29.37it/s]\n",
      "Matching frames:   0%|          | 0/195 [00:00<?, ?it/s]/home/ddon0001/PhD/code/traccuracy/src/traccuracy/matchers/_ctc.py:92: UserWarning: 'res_boxes' and/or 'res_labels' are not provided, using 'regionprops' to get them\n",
      "  overlaps = get_labels_with_overlap(\n",
      "Matching frames: 100%|██████████| 195/195 [00:09<00:00, 19.93it/s]\n",
      "Evaluating nodes: 100%|██████████| 23797/23797 [00:00<00:00, 318151.79it/s]\n",
      "Evaluating FP edges: 100%|██████████| 23764/23764 [00:00<00:00, 265147.47it/s]\n",
      "Evaluating FN edges: 100%|██████████| 23798/23798 [00:00<00:00, 379808.86it/s]\n"
     ]
    },
    {
     "name": "stdout",
     "output_type": "stream",
     "text": [
      "Fluo-N3DH-CE_02\n"
     ]
    },
    {
     "name": "stderr",
     "output_type": "stream",
     "text": [
      "Loading TIFFs: 100%|██████████| 189/189 [00:01<00:00, 105.18it/s]\n",
      "Loading TIFFs: 100%|██████████| 189/189 [00:08<00:00, 21.79it/s]\n",
      "Computing node attributes: 100%|██████████| 190/190 [00:05<00:00, 32.24it/s]\n",
      "Matching frames:   0%|          | 0/190 [00:00<?, ?it/s]/home/ddon0001/PhD/code/traccuracy/src/traccuracy/matchers/_ctc.py:92: UserWarning: 'res_boxes' and/or 'res_labels' are not provided, using 'regionprops' to get them\n",
      "  overlaps = get_labels_with_overlap(\n",
      "Matching frames: 100%|██████████| 190/190 [00:09<00:00, 20.25it/s]\n",
      "Evaluating nodes: 100%|██████████| 22344/22344 [00:00<00:00, 346017.77it/s]\n",
      "Evaluating FP edges: 100%|██████████| 22208/22208 [00:00<00:00, 191750.27it/s]\n",
      "Evaluating FN edges: 100%|██████████| 22416/22416 [00:00<00:00, 317652.83it/s]\n"
     ]
    }
   ],
   "source": [
    "for config in configs:\n",
    "    if os.path.exists(os.path.join(config.data_config.out_root_path, config.data_config.dataset_name, 'matched_solution.zarr')):\n",
    "        print('Finished', config.data_config.dataset_name)\n",
    "        continue\n",
    "    print(config.data_config.dataset_name)\n",
    "    # if not os.path.exists(os.path.join(config.data_config.out_root_path, config.data_config.dataset_name, 'metrics.json')):\n",
    "    config.evaluate()\n",
    "    # else:\n",
    "    #     print('Finished', config.data_config.dataset_name)"
   ]
  }
 ],
 "metadata": {
  "kernelspec": {
   "display_name": "tracktour",
   "language": "python",
   "name": "python3"
  },
  "language_info": {
   "codemirror_mode": {
    "name": "ipython",
    "version": 3
   },
   "file_extension": ".py",
   "mimetype": "text/x-python",
   "name": "python",
   "nbconvert_exporter": "python",
   "pygments_lexer": "ipython3",
   "version": "3.13.2"
  }
 },
 "nbformat": 4,
 "nbformat_minor": 2
}
