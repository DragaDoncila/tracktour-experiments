{
 "cells": [
  {
   "cell_type": "code",
   "execution_count": null,
   "metadata": {},
   "outputs": [],
   "source": [
    "import os\n",
    "\n",
    "from generate_dataset_summary import generate_ctc_summary\n",
    "\n",
    "ROOT_DIR = '/home/ddon0001/PhD/data/cell_tracking_challenge/SUBMISSION/'\n",
    "OUT_ROOT = '/home/ddon0001/PhD/experiments/scaled/no_merges_all'\n",
    "out_csv_path = os.path.join(OUT_ROOT, 'summary.csv')"
   ]
  },
  {
   "cell_type": "code",
   "execution_count": null,
   "metadata": {},
   "outputs": [],
   "source": [
    "generate_ctc_summary(ROOT_DIR, out_csv_path)"
   ]
  }
 ],
 "metadata": {
  "kernelspec": {
   "display_name": "isbi25",
   "language": "python",
   "name": "python3"
  },
  "language_info": {
   "name": "python",
   "version": "3.10.14"
  }
 },
 "nbformat": 4,
 "nbformat_minor": 2
}
