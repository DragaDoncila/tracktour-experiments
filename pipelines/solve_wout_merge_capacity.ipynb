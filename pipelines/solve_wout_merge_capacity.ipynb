{
 "cells": [
  {
   "cell_type": "code",
   "execution_count": 1,
   "metadata": {},
   "outputs": [],
   "source": [
    "import os\n",
    "\n",
    "from tracktour_experiments.generate_dataset_summary import generate_ctc_summary\n",
    "\n",
    "ROOT_DIR = '/home/ddon0001/PhD/data/cell_tracking_challenge/SUBMISSION/'\n",
    "OUT_ROOT = '/home/ddon0001/PhD/experiments/scaled/pre-thesis/scaled_no_merge_cap/'\n",
    "out_csv_path = os.path.join(OUT_ROOT, 'summary.csv')"
   ]
  },
  {
   "cell_type": "code",
   "execution_count": null,
   "metadata": {},
   "outputs": [],
   "source": [
    "generate_ctc_summary(ROOT_DIR, out_csv_path, use_err_seg=True)"
   ]
  },
  {
   "cell_type": "code",
   "execution_count": 2,
   "metadata": {},
   "outputs": [],
   "source": [
    "from tracktour_experiments.generate_configs import ds_summary_to_configs\n",
    "configs = ds_summary_to_configs(out_csv_path, OUT_ROOT, div_constraint=False, use_scale=True, allow_merges=True, merge_capacity=1)"
   ]
  },
  {
   "cell_type": "code",
   "execution_count": 3,
   "metadata": {},
   "outputs": [
    {
     "name": "stderr",
     "output_type": "stream",
     "text": [
      "Computing candidate edges: 100%|██████████| 149/149 [00:00<00:00, 1688.19it/s]\n"
     ]
    },
    {
     "name": "stdout",
     "output_type": "stream",
     "text": [
      "Set parameter Username\n",
      "Academic license - for non-commercial use only - expires 2026-03-03\n",
      "Building took 2.063439130783081 seconds\n"
     ]
    },
    {
     "name": "stderr",
     "output_type": "stream",
     "text": [
      "Computing candidate edges: 100%|██████████| 79/79 [00:00<00:00, 2179.86it/s]\n"
     ]
    },
    {
     "name": "stdout",
     "output_type": "stream",
     "text": [
      "Building took 2.1500728130340576 seconds\n"
     ]
    },
    {
     "name": "stderr",
     "output_type": "stream",
     "text": [
      "Computing candidate edges: 100%|██████████| 11/11 [00:00<00:00, 2000.32it/s]\n"
     ]
    },
    {
     "name": "stdout",
     "output_type": "stream",
     "text": [
      "Building took 0.22736811637878418 seconds\n"
     ]
    },
    {
     "name": "stderr",
     "output_type": "stream",
     "text": [
      "Computing candidate edges: 100%|██████████| 11/11 [00:00<00:00, 1609.54it/s]\n"
     ]
    },
    {
     "name": "stdout",
     "output_type": "stream",
     "text": [
      "Building took 0.3672056198120117 seconds\n"
     ]
    },
    {
     "name": "stderr",
     "output_type": "stream",
     "text": [
      "Computing candidate edges: 100%|██████████| 91/91 [00:00<00:00, 2117.57it/s]\n"
     ]
    },
    {
     "name": "stdout",
     "output_type": "stream",
     "text": [
      "Building took 1.4093928337097168 seconds\n"
     ]
    },
    {
     "name": "stderr",
     "output_type": "stream",
     "text": [
      "Computing candidate edges: 100%|██████████| 91/91 [00:00<00:00, 2058.69it/s]\n"
     ]
    },
    {
     "name": "stdout",
     "output_type": "stream",
     "text": [
      "Building took 1.3690528869628906 seconds\n"
     ]
    },
    {
     "name": "stderr",
     "output_type": "stream",
     "text": [
      "Computing candidate edges: 100%|██████████| 114/114 [00:00<00:00, 2392.81it/s]\n"
     ]
    },
    {
     "name": "stdout",
     "output_type": "stream",
     "text": [
      "Building took 0.3930821418762207 seconds\n"
     ]
    },
    {
     "name": "stderr",
     "output_type": "stream",
     "text": [
      "Computing candidate edges: 100%|██████████| 114/114 [00:00<00:00, 2086.40it/s]\n"
     ]
    },
    {
     "name": "stdout",
     "output_type": "stream",
     "text": [
      "Building took 0.3751640319824219 seconds\n"
     ]
    },
    {
     "name": "stderr",
     "output_type": "stream",
     "text": [
      "Computing candidate edges: 100%|██████████| 91/91 [00:00<00:00, 1736.53it/s]\n"
     ]
    },
    {
     "name": "stdout",
     "output_type": "stream",
     "text": [
      "Building took 5.306071996688843 seconds\n"
     ]
    },
    {
     "name": "stderr",
     "output_type": "stream",
     "text": [
      "Computing candidate edges: 100%|██████████| 91/91 [00:00<00:00, 998.68it/s]\n"
     ]
    },
    {
     "name": "stdout",
     "output_type": "stream",
     "text": [
      "Building took 14.741955280303955 seconds\n"
     ]
    },
    {
     "name": "stderr",
     "output_type": "stream",
     "text": [
      "Computing candidate edges: 100%|██████████| 47/47 [00:00<00:00, 2245.57it/s]\n"
     ]
    },
    {
     "name": "stdout",
     "output_type": "stream",
     "text": [
      "Building took 0.2558126449584961 seconds\n"
     ]
    },
    {
     "name": "stderr",
     "output_type": "stream",
     "text": [
      "Computing candidate edges: 100%|██████████| 47/47 [00:00<00:00, 2424.04it/s]\n"
     ]
    },
    {
     "name": "stdout",
     "output_type": "stream",
     "text": [
      "Building took 0.10324311256408691 seconds\n"
     ]
    },
    {
     "name": "stderr",
     "output_type": "stream",
     "text": [
      "Computing candidate edges: 100%|██████████| 59/59 [00:00<00:00, 2170.18it/s]\n"
     ]
    },
    {
     "name": "stdout",
     "output_type": "stream",
     "text": [
      "Building took 0.13577604293823242 seconds\n"
     ]
    },
    {
     "name": "stderr",
     "output_type": "stream",
     "text": [
      "Computing candidate edges: 100%|██████████| 59/59 [00:00<00:00, 2289.91it/s]\n"
     ]
    },
    {
     "name": "stdout",
     "output_type": "stream",
     "text": [
      "Building took 0.10518693923950195 seconds\n"
     ]
    },
    {
     "name": "stderr",
     "output_type": "stream",
     "text": [
      "Computing candidate edges: 100%|██████████| 83/83 [00:00<00:00, 2294.16it/s]\n"
     ]
    },
    {
     "name": "stdout",
     "output_type": "stream",
     "text": [
      "Building took 0.6922667026519775 seconds\n"
     ]
    },
    {
     "name": "stderr",
     "output_type": "stream",
     "text": [
      "Computing candidate edges: 100%|██████████| 83/83 [00:00<00:00, 1984.42it/s]\n"
     ]
    },
    {
     "name": "stdout",
     "output_type": "stream",
     "text": [
      "Building took 0.6193549633026123 seconds\n"
     ]
    },
    {
     "name": "stderr",
     "output_type": "stream",
     "text": [
      "Computing candidate edges: 100%|██████████| 91/91 [00:00<00:00, 2276.25it/s]\n"
     ]
    },
    {
     "name": "stdout",
     "output_type": "stream",
     "text": [
      "Building took 0.5942482948303223 seconds\n"
     ]
    },
    {
     "name": "stderr",
     "output_type": "stream",
     "text": [
      "Computing candidate edges: 100%|██████████| 91/91 [00:00<00:00, 2230.91it/s]\n"
     ]
    },
    {
     "name": "stdout",
     "output_type": "stream",
     "text": [
      "Building took 0.3873097896575928 seconds\n"
     ]
    },
    {
     "name": "stderr",
     "output_type": "stream",
     "text": [
      "Computing candidate edges: 100%|██████████| 1375/1375 [00:00<00:00, 2507.59it/s]\n"
     ]
    },
    {
     "name": "stdout",
     "output_type": "stream",
     "text": [
      "Building took 3.6821107864379883 seconds\n"
     ]
    },
    {
     "name": "stderr",
     "output_type": "stream",
     "text": [
      "Computing candidate edges: 100%|██████████| 1375/1375 [00:00<00:00, 2389.88it/s]\n"
     ]
    },
    {
     "name": "stdout",
     "output_type": "stream",
     "text": [
      "Building took 4.604702472686768 seconds\n"
     ]
    },
    {
     "name": "stderr",
     "output_type": "stream",
     "text": [
      "Computing candidate edges: 100%|██████████| 1763/1763 [00:00<00:00, 2418.72it/s]\n"
     ]
    },
    {
     "name": "stdout",
     "output_type": "stream",
     "text": [
      "Building took 5.187437057495117 seconds\n"
     ]
    },
    {
     "name": "stderr",
     "output_type": "stream",
     "text": [
      "Computing candidate edges: 100%|██████████| 1763/1763 [00:00<00:00, 1987.67it/s]\n"
     ]
    },
    {
     "name": "stdout",
     "output_type": "stream",
     "text": [
      "Building took 38.534690141677856 seconds\n"
     ]
    },
    {
     "name": "stderr",
     "output_type": "stream",
     "text": [
      "Computing candidate edges: 100%|██████████| 29/29 [00:00<00:00, 2276.53it/s]\n"
     ]
    },
    {
     "name": "stdout",
     "output_type": "stream",
     "text": [
      "Building took 0.04484081268310547 seconds\n"
     ]
    },
    {
     "name": "stderr",
     "output_type": "stream",
     "text": [
      "Computing candidate edges: 100%|██████████| 29/29 [00:00<00:00, 2385.18it/s]\n"
     ]
    },
    {
     "name": "stdout",
     "output_type": "stream",
     "text": [
      "Building took 0.03901863098144531 seconds\n"
     ]
    },
    {
     "name": "stderr",
     "output_type": "stream",
     "text": [
      "Computing candidate edges: 100%|██████████| 64/64 [00:00<00:00, 1963.83it/s]\n"
     ]
    },
    {
     "name": "stdout",
     "output_type": "stream",
     "text": [
      "Building took 1.5422537326812744 seconds\n"
     ]
    },
    {
     "name": "stderr",
     "output_type": "stream",
     "text": [
      "Computing candidate edges: 100%|██████████| 149/149 [00:00<00:00, 2308.30it/s]\n"
     ]
    },
    {
     "name": "stdout",
     "output_type": "stream",
     "text": [
      "Building took 2.0335023403167725 seconds\n"
     ]
    },
    {
     "name": "stderr",
     "output_type": "stream",
     "text": [
      "Computing candidate edges: 100%|██████████| 299/299 [00:00<00:00, 1214.26it/s]\n"
     ]
    },
    {
     "name": "stdout",
     "output_type": "stream",
     "text": [
      "Building took 42.48674154281616 seconds\n"
     ]
    },
    {
     "name": "stderr",
     "output_type": "stream",
     "text": [
      "Computing candidate edges: 100%|██████████| 299/299 [00:00<00:00, 1305.16it/s]\n"
     ]
    },
    {
     "name": "stdout",
     "output_type": "stream",
     "text": [
      "Building took 34.709309101104736 seconds\n"
     ]
    },
    {
     "name": "stderr",
     "output_type": "stream",
     "text": [
      "Computing candidate edges: 100%|██████████| 194/194 [00:00<00:00, 1344.64it/s]\n"
     ]
    },
    {
     "name": "stdout",
     "output_type": "stream",
     "text": [
      "Building took 17.019325256347656 seconds\n"
     ]
    },
    {
     "name": "stderr",
     "output_type": "stream",
     "text": [
      "Computing candidate edges: 100%|██████████| 189/189 [00:00<00:00, 1422.86it/s]\n"
     ]
    },
    {
     "name": "stdout",
     "output_type": "stream",
     "text": [
      "Building took 15.707350730895996 seconds\n"
     ]
    },
    {
     "name": "stderr",
     "output_type": "stream",
     "text": [
      "Computing candidate edges: 100%|██████████| 29/29 [00:00<00:00, 2090.66it/s]\n"
     ]
    },
    {
     "name": "stdout",
     "output_type": "stream",
     "text": [
      "Building took 0.0452275276184082 seconds\n"
     ]
    },
    {
     "name": "stderr",
     "output_type": "stream",
     "text": [
      "Computing candidate edges: 100%|██████████| 29/29 [00:00<00:00, 1958.88it/s]\n"
     ]
    },
    {
     "name": "stdout",
     "output_type": "stream",
     "text": [
      "Building took 0.05396008491516113 seconds\n"
     ]
    }
   ],
   "source": [
    "for config in configs:\n",
    "     config.run(compute_additional_features=True)"
   ]
  },
  {
   "cell_type": "code",
   "execution_count": 4,
   "metadata": {},
   "outputs": [
    {
     "name": "stdout",
     "output_type": "stream",
     "text": [
      "Fluo-N3DH-SIM+_01\n"
     ]
    },
    {
     "name": "stderr",
     "output_type": "stream",
     "text": [
      "Loading TIFFs: 100%|██████████| 149/149 [00:07<00:00, 19.36it/s]\n",
      "Loading TIFFs: 100%|██████████| 149/149 [00:08<00:00, 18.30it/s]\n",
      "Computing node attributes: 100%|██████████| 150/150 [00:06<00:00, 21.87it/s]\n",
      "1 non-connected masks at t=37.\n",
      "1 non-connected masks at t=119.\n",
      "Matching frames:   0%|          | 0/150 [00:00<?, ?it/s]/home/ddon0001/PhD/code/traccuracy/src/traccuracy/matchers/_ctc.py:92: UserWarning: 'res_boxes' and/or 'res_labels' are not provided, using 'regionprops' to get them\n",
      "  overlaps = get_labels_with_overlap(\n",
      "Matching frames: 100%|██████████| 150/150 [00:09<00:00, 15.42it/s]\n",
      "Evaluating nodes: 100%|██████████| 2866/2866 [00:00<00:00, 511439.55it/s]\n",
      "Evaluating FP edges: 100%|██████████| 2818/2818 [00:00<00:00, 267580.11it/s]\n",
      "Evaluating FN edges: 100%|██████████| 2859/2859 [00:00<00:00, 467669.56it/s]\n"
     ]
    },
    {
     "name": "stdout",
     "output_type": "stream",
     "text": [
      "Fluo-N3DH-SIM+_02\n"
     ]
    },
    {
     "name": "stderr",
     "output_type": "stream",
     "text": [
      "Loading TIFFs: 100%|██████████| 79/79 [00:08<00:00,  9.68it/s]\n",
      "Loading TIFFs: 100%|██████████| 79/79 [00:08<00:00,  9.85it/s]\n",
      "Computing node attributes: 100%|██████████| 80/80 [00:06<00:00, 11.54it/s]\n",
      "1 non-connected masks at t=28.\n",
      "1 non-connected masks at t=29.\n",
      "1 non-connected masks at t=30.\n",
      "1 non-connected masks at t=32.\n",
      "1 non-connected masks at t=41.\n",
      "3 non-connected masks at t=51.\n",
      "1 non-connected masks at t=54.\n",
      "1 non-connected masks at t=55.\n",
      "2 non-connected masks at t=57.\n",
      "1 non-connected masks at t=58.\n",
      "1 non-connected masks at t=60.\n",
      "4 non-connected masks at t=61.\n",
      "2 non-connected masks at t=64.\n",
      "1 non-connected masks at t=67.\n",
      "2 non-connected masks at t=74.\n",
      "Matching frames:   0%|          | 0/80 [00:00<?, ?it/s]/home/ddon0001/PhD/code/traccuracy/src/traccuracy/matchers/_ctc.py:92: UserWarning: 'res_boxes' and/or 'res_labels' are not provided, using 'regionprops' to get them\n",
      "  overlaps = get_labels_with_overlap(\n",
      "Matching frames: 100%|██████████| 80/80 [00:08<00:00,  9.16it/s]\n",
      "Evaluating nodes: 100%|██████████| 3459/3459 [00:00<00:00, 419745.91it/s]\n",
      "Evaluating FP edges: 100%|██████████| 3349/3349 [00:00<00:00, 296588.42it/s]\n",
      "Evaluating FN edges: 100%|██████████| 3424/3424 [00:00<00:00, 362741.45it/s]\n"
     ]
    },
    {
     "name": "stdout",
     "output_type": "stream",
     "text": [
      "Fluo-C3DL-MDA231_01\n"
     ]
    },
    {
     "name": "stderr",
     "output_type": "stream",
     "text": [
      "Loading TIFFs: 100%|██████████| 11/11 [00:00<00:00, 46.18it/s]\n",
      "Loading TIFFs: 100%|██████████| 11/11 [00:00<00:00, 36.94it/s]\n",
      "Computing node attributes: 100%|██████████| 12/12 [00:00<00:00, 49.82it/s]\n",
      "1 non-connected masks at t=0.\n",
      "1 non-connected masks at t=6.\n",
      "1 non-connected masks at t=9.\n",
      "2 non-connected masks at t=10.\n",
      "1 non-connected masks at t=11.\n",
      "Matching frames:   0%|          | 0/12 [00:00<?, ?it/s]/home/ddon0001/PhD/code/traccuracy/src/traccuracy/matchers/_ctc.py:92: UserWarning: 'res_boxes' and/or 'res_labels' are not provided, using 'regionprops' to get them\n",
      "  overlaps = get_labels_with_overlap(\n",
      "Matching frames: 100%|██████████| 12/12 [00:00<00:00, 50.45it/s]\n",
      "Evaluating nodes: 100%|██████████| 351/351 [00:00<00:00, 393006.06it/s]\n",
      "Evaluating FP edges: 100%|██████████| 316/316 [00:00<00:00, 211996.17it/s]\n",
      "Evaluating FN edges: 100%|██████████| 331/331 [00:00<00:00, 519384.45it/s]\n"
     ]
    },
    {
     "name": "stdout",
     "output_type": "stream",
     "text": [
      "Fluo-C3DL-MDA231_02\n"
     ]
    },
    {
     "name": "stderr",
     "output_type": "stream",
     "text": [
      "Loading TIFFs: 100%|██████████| 11/11 [00:00<00:00, 43.12it/s]\n",
      "Loading TIFFs: 100%|██████████| 11/11 [00:00<00:00, 35.82it/s]\n",
      "Computing node attributes: 100%|██████████| 12/12 [00:00<00:00, 47.83it/s]\n",
      "1 non-connected masks at t=0.\n",
      "2 non-connected masks at t=4.\n",
      "2 non-connected masks at t=5.\n",
      "1 non-connected masks at t=7.\n",
      "1 non-connected masks at t=11.\n",
      "Matching frames:   0%|          | 0/12 [00:00<?, ?it/s]/home/ddon0001/PhD/code/traccuracy/src/traccuracy/matchers/_ctc.py:92: UserWarning: 'res_boxes' and/or 'res_labels' are not provided, using 'regionprops' to get them\n",
      "  overlaps = get_labels_with_overlap(\n",
      "Matching frames: 100%|██████████| 12/12 [00:00<00:00, 45.23it/s]\n",
      "Evaluating nodes: 100%|██████████| 582/582 [00:00<00:00, 579417.26it/s]\n",
      "Evaluating FP edges: 100%|██████████| 525/525 [00:00<00:00, 308016.45it/s]\n",
      "Evaluating FN edges: 100%|██████████| 528/528 [00:00<00:00, 618428.51it/s]\n"
     ]
    },
    {
     "name": "stdout",
     "output_type": "stream",
     "text": [
      "Fluo-N2DH-GOWT1_01\n"
     ]
    },
    {
     "name": "stderr",
     "output_type": "stream",
     "text": [
      "Loading TIFFs: 100%|██████████| 91/91 [00:00<00:00, 268.94it/s]\n",
      "Loading TIFFs: 100%|██████████| 91/91 [00:00<00:00, 232.15it/s]\n",
      "Computing node attributes: 100%|██████████| 92/92 [00:00<00:00, 238.28it/s]\n",
      "Matching frames:   0%|          | 0/92 [00:00<?, ?it/s]/home/ddon0001/PhD/code/traccuracy/src/traccuracy/matchers/_ctc.py:92: UserWarning: 'res_boxes' and/or 'res_labels' are not provided, using 'regionprops' to get them\n",
      "  overlaps = get_labels_with_overlap(\n",
      "Matching frames: 100%|██████████| 92/92 [00:00<00:00, 285.68it/s]\n",
      "Evaluating nodes: 100%|██████████| 2054/2054 [00:00<00:00, 361599.18it/s]\n",
      "Evaluating FP edges: 100%|██████████| 2031/2031 [00:00<00:00, 264973.45it/s]\n",
      "Evaluating FN edges: 100%|██████████| 2035/2035 [00:00<00:00, 388768.33it/s]\n"
     ]
    },
    {
     "name": "stdout",
     "output_type": "stream",
     "text": [
      "Fluo-N2DH-GOWT1_02\n"
     ]
    },
    {
     "name": "stderr",
     "output_type": "stream",
     "text": [
      "Loading TIFFs: 100%|██████████| 91/91 [00:00<00:00, 274.31it/s]\n",
      "Loading TIFFs: 100%|██████████| 91/91 [00:00<00:00, 226.21it/s]\n",
      "Computing node attributes: 100%|██████████| 92/92 [00:00<00:00, 229.69it/s]\n",
      "Matching frames:   0%|          | 0/92 [00:00<?, ?it/s]/home/ddon0001/PhD/code/traccuracy/src/traccuracy/matchers/_ctc.py:92: UserWarning: 'res_boxes' and/or 'res_labels' are not provided, using 'regionprops' to get them\n",
      "  overlaps = get_labels_with_overlap(\n",
      "Matching frames: 100%|██████████| 92/92 [00:00<00:00, 280.92it/s]\n",
      "Evaluating nodes: 100%|██████████| 2287/2287 [00:00<00:00, 494019.33it/s]\n",
      "Evaluating FP edges: 100%|██████████| 2261/2261 [00:00<00:00, 306032.06it/s]\n",
      "Evaluating FN edges: 100%|██████████| 2472/2472 [00:00<00:00, 444839.52it/s]\n"
     ]
    },
    {
     "name": "stdout",
     "output_type": "stream",
     "text": [
      "PhC-C2DH-U373_01\n"
     ]
    },
    {
     "name": "stderr",
     "output_type": "stream",
     "text": [
      "Loading TIFFs: 100%|██████████| 114/114 [00:00<00:00, 648.13it/s]\n",
      "Loading TIFFs: 100%|██████████| 114/114 [00:00<00:00, 712.76it/s]\n",
      "Computing node attributes: 100%|██████████| 115/115 [00:00<00:00, 682.97it/s]\n",
      "Matching frames:   0%|          | 0/115 [00:00<?, ?it/s]/home/ddon0001/PhD/code/traccuracy/src/traccuracy/matchers/_ctc.py:92: UserWarning: 'res_boxes' and/or 'res_labels' are not provided, using 'regionprops' to get them\n",
      "  overlaps = get_labels_with_overlap(\n",
      "Matching frames: 100%|██████████| 115/115 [00:00<00:00, 765.72it/s]\n",
      "Evaluating nodes: 100%|██████████| 765/765 [00:00<00:00, 426454.35it/s]\n",
      "Evaluating FP edges: 100%|██████████| 757/757 [00:00<00:00, 346966.25it/s]\n",
      "Evaluating FN edges: 100%|██████████| 758/758 [00:00<00:00, 664010.53it/s]\n"
     ]
    },
    {
     "name": "stdout",
     "output_type": "stream",
     "text": [
      "PhC-C2DH-U373_02\n"
     ]
    },
    {
     "name": "stderr",
     "output_type": "stream",
     "text": [
      "Loading TIFFs: 100%|██████████| 114/114 [00:00<00:00, 495.76it/s]\n",
      "Loading TIFFs: 100%|██████████| 114/114 [00:00<00:00, 764.01it/s]\n",
      "Computing node attributes: 100%|██████████| 115/115 [00:00<00:00, 718.55it/s]\n",
      "Matching frames:   0%|          | 0/115 [00:00<?, ?it/s]/home/ddon0001/PhD/code/traccuracy/src/traccuracy/matchers/_ctc.py:92: UserWarning: 'res_boxes' and/or 'res_labels' are not provided, using 'regionprops' to get them\n",
      "  overlaps = get_labels_with_overlap(\n",
      "Matching frames: 100%|██████████| 115/115 [00:00<00:00, 845.44it/s]\n",
      "Evaluating nodes: 100%|██████████| 692/692 [00:00<00:00, 511356.30it/s]\n",
      "Evaluating FP edges: 100%|██████████| 680/680 [00:00<00:00, 371854.85it/s]\n",
      "Evaluating FN edges: 100%|██████████| 685/685 [00:00<00:00, 576811.53it/s]\n"
     ]
    },
    {
     "name": "stdout",
     "output_type": "stream",
     "text": [
      "Fluo-N2DL-HeLa_01\n"
     ]
    },
    {
     "name": "stderr",
     "output_type": "stream",
     "text": [
      "Loading TIFFs: 100%|██████████| 91/91 [00:00<00:00, 287.87it/s]\n",
      "Loading TIFFs: 100%|██████████| 91/91 [00:00<00:00, 266.68it/s]\n",
      "Computing node attributes: 100%|██████████| 92/92 [00:00<00:00, 176.43it/s]\n",
      "1 non-connected masks at t=23.\n",
      "2 non-connected masks at t=52.\n",
      "Matching frames:   0%|          | 0/92 [00:00<?, ?it/s]/home/ddon0001/PhD/code/traccuracy/src/traccuracy/matchers/_ctc.py:92: UserWarning: 'res_boxes' and/or 'res_labels' are not provided, using 'regionprops' to get them\n",
      "  overlaps = get_labels_with_overlap(\n",
      "Matching frames: 100%|██████████| 92/92 [00:00<00:00, 193.25it/s]\n",
      "Evaluating nodes: 100%|██████████| 8602/8602 [00:00<00:00, 437092.98it/s]\n",
      "Evaluating FP edges: 100%|██████████| 8553/8553 [00:00<00:00, 291262.12it/s]\n",
      "Evaluating FN edges: 100%|██████████| 8562/8562 [00:00<00:00, 457170.17it/s]\n"
     ]
    },
    {
     "name": "stdout",
     "output_type": "stream",
     "text": [
      "Fluo-N2DL-HeLa_02\n"
     ]
    },
    {
     "name": "stderr",
     "output_type": "stream",
     "text": [
      "Loading TIFFs: 100%|██████████| 91/91 [00:00<00:00, 218.41it/s]\n",
      "Loading TIFFs: 100%|██████████| 91/91 [00:00<00:00, 268.30it/s]\n",
      "Computing node attributes: 100%|██████████| 92/92 [00:01<00:00, 83.88it/s] \n",
      "1 non-connected masks at t=28.\n",
      "1 non-connected masks at t=31.\n",
      "1 non-connected masks at t=33.\n",
      "1 non-connected masks at t=44.\n",
      "1 non-connected masks at t=54.\n",
      "Matching frames:   0%|          | 0/92 [00:00<?, ?it/s]/home/ddon0001/PhD/code/traccuracy/src/traccuracy/matchers/_ctc.py:92: UserWarning: 'res_boxes' and/or 'res_labels' are not provided, using 'regionprops' to get them\n",
      "  overlaps = get_labels_with_overlap(\n",
      "Matching frames: 100%|██████████| 92/92 [00:01<00:00, 86.91it/s] \n",
      "Evaluating nodes: 100%|██████████| 25378/25378 [00:00<00:00, 396251.45it/s]\n",
      "Evaluating FP edges: 100%|██████████| 25165/25165 [00:00<00:00, 292704.03it/s]\n",
      "Evaluating FN edges: 100%|██████████| 25168/25168 [00:00<00:00, 376240.75it/s]\n"
     ]
    },
    {
     "name": "stdout",
     "output_type": "stream",
     "text": [
      "Fluo-C2DL-MSC_01\n"
     ]
    },
    {
     "name": "stderr",
     "output_type": "stream",
     "text": [
      "Loading TIFFs: 100%|██████████| 47/47 [00:00<00:00, 316.83it/s]\n",
      "Loading TIFFs: 100%|██████████| 47/47 [00:00<00:00, 246.02it/s]\n",
      "Computing node attributes: 100%|██████████| 48/48 [00:00<00:00, 322.36it/s]\n",
      "35 non-connected masks at t=19.\n",
      "Matching frames:   0%|          | 0/48 [00:00<?, ?it/s]/home/ddon0001/PhD/code/traccuracy/src/traccuracy/matchers/_ctc.py:92: UserWarning: 'res_boxes' and/or 'res_labels' are not provided, using 'regionprops' to get them\n",
      "  overlaps = get_labels_with_overlap(\n",
      "Matching frames: 100%|██████████| 48/48 [00:00<00:00, 305.17it/s]\n",
      "Evaluating nodes: 100%|██████████| 427/427 [00:00<00:00, 433228.79it/s]\n",
      "Evaluating FP edges: 100%|██████████| 411/411 [00:00<00:00, 308051.99it/s]\n",
      "Evaluating FN edges: 100%|██████████| 413/413 [00:00<00:00, 395670.98it/s]\n"
     ]
    },
    {
     "name": "stdout",
     "output_type": "stream",
     "text": [
      "Fluo-C2DL-MSC_02\n"
     ]
    },
    {
     "name": "stderr",
     "output_type": "stream",
     "text": [
      "Loading TIFFs: 100%|██████████| 47/47 [00:00<00:00, 294.17it/s]\n",
      "Loading TIFFs: 100%|██████████| 47/47 [00:00<00:00, 298.85it/s]\n",
      "Computing node attributes: 100%|██████████| 48/48 [00:00<00:00, 306.87it/s]\n",
      "1 non-connected masks at t=45.\n",
      "1 non-connected masks at t=46.\n",
      "Matching frames:   0%|          | 0/48 [00:00<?, ?it/s]/home/ddon0001/PhD/code/traccuracy/src/traccuracy/matchers/_ctc.py:92: UserWarning: 'res_boxes' and/or 'res_labels' are not provided, using 'regionprops' to get them\n",
      "  overlaps = get_labels_with_overlap(\n",
      "Matching frames: 100%|██████████| 48/48 [00:00<00:00, 315.15it/s]\n",
      "Evaluating nodes: 100%|██████████| 188/188 [00:00<00:00, 532789.97it/s]\n",
      "Evaluating FP edges: 100%|██████████| 176/176 [00:00<00:00, 213970.29it/s]\n",
      "Evaluating FN edges: 100%|██████████| 178/178 [00:00<00:00, 445457.11it/s]\n"
     ]
    },
    {
     "name": "stdout",
     "output_type": "stream",
     "text": [
      "Fluo-C3DH-H157_01\n"
     ]
    },
    {
     "name": "stderr",
     "output_type": "stream",
     "text": [
      "Loading TIFFs: 100%|██████████| 59/59 [00:05<00:00, 10.32it/s]\n",
      "Loading TIFFs: 100%|██████████| 59/59 [00:05<00:00, 10.37it/s]\n",
      "Computing node attributes: 100%|██████████| 60/60 [00:03<00:00, 15.35it/s]\n",
      "Matching frames:   0%|          | 0/60 [00:00<?, ?it/s]/home/ddon0001/PhD/code/traccuracy/src/traccuracy/matchers/_ctc.py:92: UserWarning: 'res_boxes' and/or 'res_labels' are not provided, using 'regionprops' to get them\n",
      "  overlaps = get_labels_with_overlap(\n",
      "Matching frames: 100%|██████████| 60/60 [00:05<00:00, 11.80it/s]\n",
      "Evaluating nodes: 100%|██████████| 240/240 [00:00<00:00, 528416.25it/s]\n",
      "Evaluating FP edges: 100%|██████████| 236/236 [00:00<00:00, 345499.39it/s]\n",
      "Evaluating FN edges: 100%|██████████| 236/236 [00:00<00:00, 545375.07it/s]\n"
     ]
    },
    {
     "name": "stdout",
     "output_type": "stream",
     "text": [
      "Fluo-C3DH-H157_02\n"
     ]
    },
    {
     "name": "stderr",
     "output_type": "stream",
     "text": [
      "Loading TIFFs: 100%|██████████| 59/59 [00:12<00:00,  4.67it/s]\n",
      "Loading TIFFs: 100%|██████████| 59/59 [00:12<00:00,  4.73it/s]\n",
      "Computing node attributes: 100%|██████████| 60/60 [00:08<00:00,  7.10it/s]\n",
      "Matching frames:   0%|          | 0/60 [00:00<?, ?it/s]/home/ddon0001/PhD/code/traccuracy/src/traccuracy/matchers/_ctc.py:92: UserWarning: 'res_boxes' and/or 'res_labels' are not provided, using 'regionprops' to get them\n",
      "  overlaps = get_labels_with_overlap(\n",
      "Matching frames: 100%|██████████| 60/60 [00:09<00:00,  6.34it/s]\n",
      "Evaluating nodes: 100%|██████████| 159/159 [00:00<00:00, 486429.13it/s]\n",
      "Evaluating FP edges: 100%|██████████| 139/139 [00:00<00:00, 326249.72it/s]\n",
      "Evaluating FN edges: 100%|██████████| 149/149 [00:00<00:00, 540148.05it/s]\n"
     ]
    },
    {
     "name": "stdout",
     "output_type": "stream",
     "text": [
      "DIC-C2DH-HeLa_01\n"
     ]
    },
    {
     "name": "stderr",
     "output_type": "stream",
     "text": [
      "Loading TIFFs: 100%|██████████| 83/83 [00:00<00:00, 527.66it/s]\n",
      "Loading TIFFs: 100%|██████████| 83/83 [00:00<00:00, 750.09it/s]\n",
      "Computing node attributes: 100%|██████████| 84/84 [00:00<00:00, 646.63it/s]\n",
      "Matching frames:   0%|          | 0/84 [00:00<?, ?it/s]/home/ddon0001/PhD/code/traccuracy/src/traccuracy/matchers/_ctc.py:92: UserWarning: 'res_boxes' and/or 'res_labels' are not provided, using 'regionprops' to get them\n",
      "  overlaps = get_labels_with_overlap(\n",
      "Matching frames: 100%|██████████| 84/84 [00:00<00:00, 526.91it/s]\n",
      "Evaluating nodes: 100%|██████████| 1104/1104 [00:00<00:00, 496995.99it/s]\n",
      "Evaluating FP edges: 100%|██████████| 1072/1072 [00:00<00:00, 393445.39it/s]\n",
      "Evaluating FN edges: 100%|██████████| 1100/1100 [00:00<00:00, 578960.27it/s]\n"
     ]
    },
    {
     "name": "stdout",
     "output_type": "stream",
     "text": [
      "DIC-C2DH-HeLa_02\n"
     ]
    },
    {
     "name": "stderr",
     "output_type": "stream",
     "text": [
      "Loading TIFFs: 100%|██████████| 83/83 [00:00<00:00, 481.87it/s]\n",
      "Loading TIFFs: 100%|██████████| 83/83 [00:00<00:00, 765.88it/s]\n",
      "Computing node attributes: 100%|██████████| 84/84 [00:00<00:00, 651.52it/s]\n",
      "Matching frames:   0%|          | 0/84 [00:00<?, ?it/s]/home/ddon0001/PhD/code/traccuracy/src/traccuracy/matchers/_ctc.py:92: UserWarning: 'res_boxes' and/or 'res_labels' are not provided, using 'regionprops' to get them\n",
      "  overlaps = get_labels_with_overlap(\n",
      "Matching frames: 100%|██████████| 84/84 [00:00<00:00, 469.85it/s]\n",
      "Evaluating nodes: 100%|██████████| 988/988 [00:00<00:00, 450725.73it/s]\n",
      "Evaluating FP edges: 100%|██████████| 952/952 [00:00<00:00, 360344.50it/s]\n",
      "Evaluating FN edges: 100%|██████████| 1011/1011 [00:00<00:00, 381129.01it/s]\n"
     ]
    },
    {
     "name": "stdout",
     "output_type": "stream",
     "text": [
      "Fluo-N3DH-CHO_01\n"
     ]
    },
    {
     "name": "stderr",
     "output_type": "stream",
     "text": [
      "Loading TIFFs: 100%|██████████| 91/91 [00:00<00:00, 166.29it/s]\n",
      "Loading TIFFs: 100%|██████████| 91/91 [00:00<00:00, 215.69it/s]\n",
      "Computing node attributes: 100%|██████████| 92/92 [00:00<00:00, 286.93it/s]\n",
      "Matching frames:   0%|          | 0/92 [00:00<?, ?it/s]/home/ddon0001/PhD/code/traccuracy/src/traccuracy/matchers/_ctc.py:92: UserWarning: 'res_boxes' and/or 'res_labels' are not provided, using 'regionprops' to get them\n",
      "  overlaps = get_labels_with_overlap(\n",
      "Matching frames: 100%|██████████| 92/92 [00:00<00:00, 228.79it/s]\n",
      "Evaluating nodes: 100%|██████████| 905/905 [00:00<00:00, 586683.94it/s]\n",
      "Evaluating FP edges: 100%|██████████| 853/853 [00:00<00:00, 289133.77it/s]\n",
      "Evaluating FN edges: 100%|██████████| 888/888 [00:00<00:00, 431081.24it/s]\n"
     ]
    },
    {
     "name": "stdout",
     "output_type": "stream",
     "text": [
      "Fluo-N3DH-CHO_02\n"
     ]
    },
    {
     "name": "stderr",
     "output_type": "stream",
     "text": [
      "Loading TIFFs: 100%|██████████| 91/91 [00:00<00:00, 193.24it/s]\n",
      "Loading TIFFs: 100%|██████████| 91/91 [00:00<00:00, 220.18it/s]\n",
      "Computing node attributes: 100%|██████████| 92/92 [00:00<00:00, 306.91it/s]\n",
      "Matching frames:   0%|          | 0/92 [00:00<?, ?it/s]/home/ddon0001/PhD/code/traccuracy/src/traccuracy/matchers/_ctc.py:92: UserWarning: 'res_boxes' and/or 'res_labels' are not provided, using 'regionprops' to get them\n",
      "  overlaps = get_labels_with_overlap(\n",
      "Matching frames: 100%|██████████| 92/92 [00:00<00:00, 270.68it/s]\n",
      "Evaluating nodes: 100%|██████████| 614/614 [00:00<00:00, 533299.37it/s]\n",
      "Evaluating FP edges: 100%|██████████| 576/576 [00:00<00:00, 293051.81it/s]\n",
      "Evaluating FN edges: 100%|██████████| 596/596 [00:00<00:00, 519710.02it/s]\n"
     ]
    },
    {
     "name": "stdout",
     "output_type": "stream",
     "text": [
      "BF-C2DL-MuSC_01\n"
     ]
    },
    {
     "name": "stderr",
     "output_type": "stream",
     "text": [
      "Loading TIFFs: 100%|██████████| 1375/1375 [00:06<00:00, 218.60it/s]\n",
      "Loading TIFFs: 100%|██████████| 1375/1375 [00:06<00:00, 213.84it/s]\n",
      "Computing node attributes: 100%|██████████| 1376/1376 [00:04<00:00, 333.10it/s]\n",
      "Matching frames:   0%|          | 0/1376 [00:00<?, ?it/s]/home/ddon0001/PhD/code/traccuracy/src/traccuracy/matchers/_ctc.py:92: UserWarning: 'res_boxes' and/or 'res_labels' are not provided, using 'regionprops' to get them\n",
      "  overlaps = get_labels_with_overlap(\n",
      "Matching frames: 100%|██████████| 1376/1376 [00:03<00:00, 346.29it/s]\n",
      "Evaluating nodes: 100%|██████████| 5388/5388 [00:00<00:00, 520892.24it/s]\n",
      "Evaluating FP edges: 100%|██████████| 5440/5440 [00:00<00:00, 326045.84it/s]\n",
      "Evaluating FN edges: 100%|██████████| 5410/5410 [00:00<00:00, 466925.63it/s]\n"
     ]
    },
    {
     "name": "stdout",
     "output_type": "stream",
     "text": [
      "BF-C2DL-MuSC_02\n"
     ]
    },
    {
     "name": "stderr",
     "output_type": "stream",
     "text": [
      "Loading TIFFs: 100%|██████████| 1375/1375 [00:06<00:00, 214.69it/s]\n",
      "Loading TIFFs: 100%|██████████| 1375/1375 [00:06<00:00, 209.19it/s]\n",
      "Computing node attributes: 100%|██████████| 1376/1376 [00:04<00:00, 334.77it/s]\n",
      "Matching frames:   0%|          | 0/1376 [00:00<?, ?it/s]/home/ddon0001/PhD/code/traccuracy/src/traccuracy/matchers/_ctc.py:92: UserWarning: 'res_boxes' and/or 'res_labels' are not provided, using 'regionprops' to get them\n",
      "  overlaps = get_labels_with_overlap(\n",
      "Matching frames: 100%|██████████| 1376/1376 [00:03<00:00, 351.25it/s]\n",
      "Evaluating nodes: 100%|██████████| 7223/7223 [00:00<00:00, 532761.06it/s]\n",
      "Evaluating FP edges: 100%|██████████| 7263/7263 [00:00<00:00, 298243.91it/s]\n",
      "Evaluating FN edges: 100%|██████████| 7294/7294 [00:00<00:00, 437296.36it/s]\n"
     ]
    },
    {
     "name": "stdout",
     "output_type": "stream",
     "text": [
      "BF-C2DL-HSC_01\n"
     ]
    },
    {
     "name": "stderr",
     "output_type": "stream",
     "text": [
      "Loading TIFFs: 100%|██████████| 1763/1763 [00:06<00:00, 269.88it/s]\n",
      "Loading TIFFs: 100%|██████████| 1763/1763 [00:06<00:00, 264.54it/s]\n",
      "Computing node attributes: 100%|██████████| 1764/1764 [00:05<00:00, 339.79it/s]\n",
      "Matching frames:   0%|          | 0/1764 [00:00<?, ?it/s]/home/ddon0001/PhD/code/traccuracy/src/traccuracy/matchers/_ctc.py:92: UserWarning: 'res_boxes' and/or 'res_labels' are not provided, using 'regionprops' to get them\n",
      "  overlaps = get_labels_with_overlap(\n",
      "Matching frames: 100%|██████████| 1764/1764 [00:04<00:00, 395.73it/s]\n",
      "Evaluating nodes: 100%|██████████| 8674/8674 [00:00<00:00, 518046.83it/s]\n",
      "Evaluating FP edges: 100%|██████████| 8674/8674 [00:00<00:00, 318481.30it/s]\n",
      "Evaluating FN edges: 100%|██████████| 8674/8674 [00:00<00:00, 391964.84it/s]\n"
     ]
    },
    {
     "name": "stdout",
     "output_type": "stream",
     "text": [
      "BF-C2DL-HSC_02\n"
     ]
    },
    {
     "name": "stderr",
     "output_type": "stream",
     "text": [
      "Loading TIFFs: 100%|██████████| 1763/1763 [00:06<00:00, 256.97it/s]\n",
      "Loading TIFFs: 100%|██████████| 1763/1763 [00:07<00:00, 251.06it/s]\n",
      "Computing node attributes: 100%|██████████| 1764/1764 [00:07<00:00, 233.25it/s]\n",
      "Matching frames:   0%|          | 0/1764 [00:00<?, ?it/s]/home/ddon0001/PhD/code/traccuracy/src/traccuracy/matchers/_ctc.py:92: UserWarning: 'res_boxes' and/or 'res_labels' are not provided, using 'regionprops' to get them\n",
      "  overlaps = get_labels_with_overlap(\n",
      "Matching frames: 100%|██████████| 1764/1764 [00:06<00:00, 271.45it/s]\n",
      "Evaluating nodes: 100%|██████████| 64501/64501 [00:00<00:00, 413110.23it/s]\n",
      "Evaluating FP edges: 100%|██████████| 64504/64504 [00:00<00:00, 307628.11it/s]\n",
      "Evaluating FN edges: 100%|██████████| 64501/64501 [00:00<00:00, 410073.25it/s]\n"
     ]
    },
    {
     "name": "stdout",
     "output_type": "stream",
     "text": [
      "Fluo-C3DH-A549_01\n"
     ]
    },
    {
     "name": "stderr",
     "output_type": "stream",
     "text": [
      "Loading TIFFs: 100%|██████████| 29/29 [00:00<00:00, 87.00it/s]\n",
      "Loading TIFFs: 100%|██████████| 29/29 [00:00<00:00, 74.98it/s]\n",
      "Computing node attributes: 100%|██████████| 30/30 [00:00<00:00, 116.92it/s]\n",
      "Matching frames:   0%|          | 0/30 [00:00<?, ?it/s]/home/ddon0001/PhD/code/traccuracy/src/traccuracy/matchers/_ctc.py:92: UserWarning: 'res_boxes' and/or 'res_labels' are not provided, using 'regionprops' to get them\n",
      "  overlaps = get_labels_with_overlap(\n",
      "Matching frames: 100%|██████████| 30/30 [00:00<00:00, 128.91it/s]\n",
      "Evaluating nodes: 100%|██████████| 30/30 [00:00<00:00, 374491.43it/s]\n",
      "Evaluating FP edges: 100%|██████████| 29/29 [00:00<00:00, 238032.91it/s]\n",
      "Evaluating FN edges: 100%|██████████| 29/29 [00:00<00:00, 289606.70it/s]\n"
     ]
    },
    {
     "name": "stdout",
     "output_type": "stream",
     "text": [
      "Fluo-C3DH-A549_02\n"
     ]
    },
    {
     "name": "stderr",
     "output_type": "stream",
     "text": [
      "Loading TIFFs: 100%|██████████| 29/29 [00:00<00:00, 96.88it/s]\n",
      "Loading TIFFs: 100%|██████████| 29/29 [00:00<00:00, 82.49it/s]\n",
      "Computing node attributes: 100%|██████████| 30/30 [00:00<00:00, 130.77it/s]\n",
      "Matching frames:   0%|          | 0/30 [00:00<?, ?it/s]/home/ddon0001/PhD/code/traccuracy/src/traccuracy/matchers/_ctc.py:92: UserWarning: 'res_boxes' and/or 'res_labels' are not provided, using 'regionprops' to get them\n",
      "  overlaps = get_labels_with_overlap(\n",
      "Matching frames: 100%|██████████| 30/30 [00:00<00:00, 126.63it/s]\n",
      "Evaluating nodes: 100%|██████████| 30/30 [00:00<00:00, 269441.37it/s]\n",
      "Evaluating FP edges: 100%|██████████| 29/29 [00:00<00:00, 205117.73it/s]\n",
      "Evaluating FN edges: 100%|██████████| 29/29 [00:00<00:00, 365269.72it/s]\n"
     ]
    },
    {
     "name": "stdout",
     "output_type": "stream",
     "text": [
      "Fluo-N2DH-SIM+_01\n"
     ]
    },
    {
     "name": "stderr",
     "output_type": "stream",
     "text": [
      "Loading TIFFs: 100%|██████████| 64/64 [00:00<00:00, 377.71it/s]\n",
      "Loading TIFFs: 100%|██████████| 64/64 [00:00<00:00, 414.48it/s]\n",
      "Computing node attributes: 100%|██████████| 65/65 [00:00<00:00, 239.03it/s]\n",
      "1 non-connected masks at t=20.\n",
      "1 non-connected masks at t=22.\n",
      "1 non-connected masks at t=23.\n",
      "1 non-connected masks at t=24.\n",
      "1 non-connected masks at t=25.\n",
      "1 non-connected masks at t=26.\n",
      "1 non-connected masks at t=28.\n",
      "1 non-connected masks at t=30.\n",
      "1 non-connected masks at t=31.\n",
      "1 non-connected masks at t=32.\n",
      "1 non-connected masks at t=35.\n",
      "2 non-connected masks at t=38.\n",
      "1 non-connected masks at t=45.\n",
      "2 non-connected masks at t=47.\n",
      "1 non-connected masks at t=49.\n",
      "6 non-connected masks at t=52.\n",
      "2 non-connected masks at t=53.\n",
      "1 non-connected masks at t=54.\n",
      "1 non-connected masks at t=57.\n",
      "1 non-connected masks at t=58.\n",
      "2 non-connected masks at t=60.\n",
      "1 non-connected masks at t=61.\n",
      "Matching frames:   0%|          | 0/65 [00:00<?, ?it/s]/home/ddon0001/PhD/code/traccuracy/src/traccuracy/matchers/_ctc.py:92: UserWarning: 'res_boxes' and/or 'res_labels' are not provided, using 'regionprops' to get them\n",
      "  overlaps = get_labels_with_overlap(\n",
      "Matching frames: 100%|██████████| 65/65 [00:00<00:00, 309.05it/s]\n",
      "Evaluating nodes: 100%|██████████| 2607/2607 [00:00<00:00, 448910.03it/s]\n",
      "Evaluating FP edges: 100%|██████████| 2558/2558 [00:00<00:00, 269208.35it/s]\n",
      "Evaluating FN edges: 100%|██████████| 2571/2571 [00:00<00:00, 317471.53it/s]\n"
     ]
    },
    {
     "name": "stdout",
     "output_type": "stream",
     "text": [
      "Fluo-N2DH-SIM+_02\n"
     ]
    },
    {
     "name": "stderr",
     "output_type": "stream",
     "text": [
      "Loading TIFFs: 100%|██████████| 149/149 [00:00<00:00, 363.72it/s]\n",
      "Loading TIFFs: 100%|██████████| 149/149 [00:00<00:00, 346.46it/s]\n",
      "Computing node attributes: 100%|██████████| 150/150 [00:00<00:00, 304.46it/s]\n",
      "1 non-connected masks at t=14.\n",
      "1 non-connected masks at t=16.\n",
      "1 non-connected masks at t=17.\n",
      "1 non-connected masks at t=20.\n",
      "2 non-connected masks at t=23.\n",
      "2 non-connected masks at t=24.\n",
      "3 non-connected masks at t=26.\n",
      "1 non-connected masks at t=27.\n",
      "1 non-connected masks at t=28.\n",
      "1 non-connected masks at t=29.\n",
      "3 non-connected masks at t=30.\n",
      "2 non-connected masks at t=31.\n",
      "3 non-connected masks at t=32.\n",
      "2 non-connected masks at t=33.\n",
      "1 non-connected masks at t=43.\n",
      "2 non-connected masks at t=45.\n",
      "2 non-connected masks at t=46.\n",
      "2 non-connected masks at t=49.\n",
      "1 non-connected masks at t=50.\n",
      "1 non-connected masks at t=52.\n",
      "2 non-connected masks at t=56.\n",
      "1 non-connected masks at t=57.\n",
      "2 non-connected masks at t=61.\n",
      "1 non-connected masks at t=62.\n",
      "1 non-connected masks at t=65.\n",
      "1 non-connected masks at t=66.\n",
      "1 non-connected masks at t=68.\n",
      "2 non-connected masks at t=69.\n",
      "5 non-connected masks at t=71.\n",
      "2 non-connected masks at t=72.\n",
      "1 non-connected masks at t=73.\n",
      "3 non-connected masks at t=75.\n",
      "3 non-connected masks at t=76.\n",
      "3 non-connected masks at t=77.\n",
      "1 non-connected masks at t=79.\n",
      "1 non-connected masks at t=80.\n",
      "1 non-connected masks at t=83.\n",
      "2 non-connected masks at t=86.\n",
      "1 non-connected masks at t=90.\n",
      "1 non-connected masks at t=91.\n",
      "1 non-connected masks at t=102.\n",
      "1 non-connected masks at t=103.\n",
      "2 non-connected masks at t=104.\n",
      "1 non-connected masks at t=107.\n",
      "1 non-connected masks at t=109.\n",
      "1 non-connected masks at t=111.\n",
      "1 non-connected masks at t=112.\n",
      "2 non-connected masks at t=113.\n",
      "1 non-connected masks at t=117.\n",
      "1 non-connected masks at t=118.\n",
      "1 non-connected masks at t=124.\n",
      "1 non-connected masks at t=126.\n",
      "2 non-connected masks at t=127.\n",
      "1 non-connected masks at t=130.\n",
      "3 non-connected masks at t=131.\n",
      "4 non-connected masks at t=132.\n",
      "1 non-connected masks at t=134.\n",
      "2 non-connected masks at t=136.\n",
      "3 non-connected masks at t=137.\n",
      "1 non-connected masks at t=139.\n",
      "1 non-connected masks at t=140.\n",
      "1 non-connected masks at t=144.\n",
      "1 non-connected masks at t=147.\n",
      "1 non-connected masks at t=148.\n",
      "3 non-connected masks at t=149.\n",
      "Matching frames:   0%|          | 0/150 [00:00<?, ?it/s]/home/ddon0001/PhD/code/traccuracy/src/traccuracy/matchers/_ctc.py:92: UserWarning: 'res_boxes' and/or 'res_labels' are not provided, using 'regionprops' to get them\n",
      "  overlaps = get_labels_with_overlap(\n",
      "Matching frames: 100%|██████████| 150/150 [00:00<00:00, 381.16it/s]\n",
      "Evaluating nodes: 100%|██████████| 3371/3371 [00:00<00:00, 561294.12it/s]\n",
      "Evaluating FP edges: 100%|██████████| 3318/3318 [00:00<00:00, 291595.79it/s]\n",
      "Evaluating FN edges: 100%|██████████| 3354/3354 [00:00<00:00, 428409.89it/s]\n"
     ]
    },
    {
     "name": "stdout",
     "output_type": "stream",
     "text": [
      "PhC-C2DL-PSC_01\n"
     ]
    },
    {
     "name": "stderr",
     "output_type": "stream",
     "text": [
      "Loading TIFFs: 100%|██████████| 299/299 [00:00<00:00, 379.37it/s]\n",
      "Loading TIFFs: 100%|██████████| 299/299 [00:00<00:00, 504.79it/s]\n",
      "Computing node attributes: 100%|██████████| 300/300 [00:03<00:00, 99.87it/s] \n",
      "Matching frames:   0%|          | 0/300 [00:00<?, ?it/s]/home/ddon0001/PhD/code/traccuracy/src/traccuracy/matchers/_ctc.py:92: UserWarning: 'res_boxes' and/or 'res_labels' are not provided, using 'regionprops' to get them\n",
      "  overlaps = get_labels_with_overlap(\n",
      "Matching frames: 100%|██████████| 300/300 [00:03<00:00, 99.18it/s] \n",
      "Evaluating nodes: 100%|██████████| 71067/71067 [00:00<00:00, 378266.44it/s]\n",
      "Evaluating FP edges: 100%|██████████| 71346/71346 [00:00<00:00, 317469.23it/s]\n",
      "Evaluating FN edges: 100%|██████████| 71201/71201 [00:00<00:00, 384565.59it/s]\n"
     ]
    },
    {
     "name": "stdout",
     "output_type": "stream",
     "text": [
      "PhC-C2DL-PSC_02\n"
     ]
    },
    {
     "name": "stderr",
     "output_type": "stream",
     "text": [
      "Loading TIFFs: 100%|██████████| 299/299 [00:00<00:00, 368.27it/s]\n",
      "Loading TIFFs: 100%|██████████| 299/299 [00:00<00:00, 470.26it/s]\n",
      "Computing node attributes: 100%|██████████| 300/300 [00:02<00:00, 123.90it/s]\n",
      "Matching frames:   0%|          | 0/300 [00:00<?, ?it/s]/home/ddon0001/PhD/code/traccuracy/src/traccuracy/matchers/_ctc.py:92: UserWarning: 'res_boxes' and/or 'res_labels' are not provided, using 'regionprops' to get them\n",
      "  overlaps = get_labels_with_overlap(\n",
      "Matching frames: 100%|██████████| 300/300 [00:02<00:00, 118.69it/s]\n",
      "Evaluating nodes: 100%|██████████| 56775/56775 [00:00<00:00, 384872.23it/s]\n",
      "Evaluating FP edges: 100%|██████████| 56709/56709 [00:00<00:00, 304169.91it/s]\n",
      "Evaluating FN edges: 100%|██████████| 56639/56639 [00:00<00:00, 384148.36it/s]\n"
     ]
    },
    {
     "name": "stdout",
     "output_type": "stream",
     "text": [
      "Fluo-N3DH-CE_01\n"
     ]
    },
    {
     "name": "stderr",
     "output_type": "stream",
     "text": [
      "Loading TIFFs: 100%|██████████| 194/194 [00:10<00:00, 17.70it/s]\n",
      "Loading TIFFs: 100%|██████████| 194/194 [00:10<00:00, 18.69it/s]\n",
      "Computing node attributes: 100%|██████████| 195/195 [00:06<00:00, 29.56it/s]\n",
      "Matching frames:   0%|          | 0/195 [00:00<?, ?it/s]/home/ddon0001/PhD/code/traccuracy/src/traccuracy/matchers/_ctc.py:92: UserWarning: 'res_boxes' and/or 'res_labels' are not provided, using 'regionprops' to get them\n",
      "  overlaps = get_labels_with_overlap(\n",
      "Matching frames: 100%|██████████| 195/195 [00:09<00:00, 19.98it/s]\n",
      "Evaluating nodes: 100%|██████████| 23785/23785 [00:00<00:00, 366804.01it/s]\n",
      "Evaluating FP edges: 100%|██████████| 23759/23759 [00:00<00:00, 269052.49it/s]\n",
      "Evaluating FN edges: 100%|██████████| 23798/23798 [00:00<00:00, 376438.46it/s]\n"
     ]
    },
    {
     "name": "stdout",
     "output_type": "stream",
     "text": [
      "Fluo-N3DH-CE_02\n"
     ]
    },
    {
     "name": "stderr",
     "output_type": "stream",
     "text": [
      "Loading TIFFs: 100%|██████████| 189/189 [00:09<00:00, 20.84it/s]\n",
      "Loading TIFFs: 100%|██████████| 189/189 [00:08<00:00, 22.56it/s]\n",
      "Computing node attributes: 100%|██████████| 190/190 [00:06<00:00, 31.28it/s]\n",
      "Matching frames:   0%|          | 0/190 [00:00<?, ?it/s]/home/ddon0001/PhD/code/traccuracy/src/traccuracy/matchers/_ctc.py:92: UserWarning: 'res_boxes' and/or 'res_labels' are not provided, using 'regionprops' to get them\n",
      "  overlaps = get_labels_with_overlap(\n",
      "Matching frames: 100%|██████████| 190/190 [00:09<00:00, 20.51it/s]\n",
      "Evaluating nodes: 100%|██████████| 22317/22317 [00:00<00:00, 378765.36it/s]\n",
      "Evaluating FP edges: 100%|██████████| 22192/22192 [00:00<00:00, 258163.99it/s]\n",
      "Evaluating FN edges: 100%|██████████| 22416/22416 [00:00<00:00, 347814.65it/s]\n"
     ]
    },
    {
     "name": "stdout",
     "output_type": "stream",
     "text": [
      "Fluo-C3DH-A549-SIM_01\n"
     ]
    },
    {
     "name": "stderr",
     "output_type": "stream",
     "text": [
      "Loading TIFFs: 100%|██████████| 29/29 [00:00<00:00, 98.34it/s]\n",
      "Loading TIFFs: 100%|██████████| 29/29 [00:00<00:00, 77.47it/s]\n",
      "Computing node attributes: 100%|██████████| 30/30 [00:00<00:00, 107.58it/s]\n",
      "Matching frames:   0%|          | 0/30 [00:00<?, ?it/s]/home/ddon0001/PhD/code/traccuracy/src/traccuracy/matchers/_ctc.py:92: UserWarning: 'res_boxes' and/or 'res_labels' are not provided, using 'regionprops' to get them\n",
      "  overlaps = get_labels_with_overlap(\n",
      "Matching frames: 100%|██████████| 30/30 [00:00<00:00, 135.19it/s]\n",
      "Evaluating nodes: 100%|██████████| 30/30 [00:00<00:00, 336441.50it/s]\n",
      "Evaluating FP edges: 100%|██████████| 29/29 [00:00<00:00, 219954.46it/s]\n",
      "Evaluating FN edges: 100%|██████████| 29/29 [00:00<00:00, 293803.90it/s]\n"
     ]
    },
    {
     "name": "stdout",
     "output_type": "stream",
     "text": [
      "Fluo-C3DH-A549-SIM_02\n"
     ]
    },
    {
     "name": "stderr",
     "output_type": "stream",
     "text": [
      "Loading TIFFs: 100%|██████████| 29/29 [00:00<00:00, 61.31it/s]\n",
      "Loading TIFFs: 100%|██████████| 29/29 [00:00<00:00, 58.05it/s]\n",
      "Computing node attributes: 100%|██████████| 30/30 [00:00<00:00, 55.38it/s]\n",
      "Matching frames:   0%|          | 0/30 [00:00<?, ?it/s]/home/ddon0001/PhD/code/traccuracy/src/traccuracy/matchers/_ctc.py:92: UserWarning: 'res_boxes' and/or 'res_labels' are not provided, using 'regionprops' to get them\n",
      "  overlaps = get_labels_with_overlap(\n",
      "Matching frames: 100%|██████████| 30/30 [00:00<00:00, 75.33it/s]\n",
      "Evaluating nodes: 100%|██████████| 30/30 [00:00<00:00, 297468.37it/s]\n",
      "Evaluating FP edges: 100%|██████████| 29/29 [00:00<00:00, 219954.46it/s]\n",
      "Evaluating FN edges: 100%|██████████| 29/29 [00:00<00:00, 325226.78it/s]\n"
     ]
    }
   ],
   "source": [
    "for config in configs:\n",
    "    if os.path.exists(os.path.join(config.data_config.out_root_path, config.data_config.dataset_name, 'matched_solution.zarr')):\n",
    "        print('Finished', config.data_config.dataset_name)\n",
    "        continue\n",
    "    print(config.data_config.dataset_name)\n",
    "    # if not os.path.exists(os.path.join(config.data_config.out_root_path, config.data_config.dataset_name, 'metrics.json')):\n",
    "    config.evaluate()\n",
    "    # else:\n",
    "    #     print('Finished', config.data_config.dataset_name)"
   ]
  }
 ],
 "metadata": {
  "kernelspec": {
   "display_name": "trexp",
   "language": "python",
   "name": "python3"
  },
  "language_info": {
   "codemirror_mode": {
    "name": "ipython",
    "version": 3
   },
   "file_extension": ".py",
   "mimetype": "text/x-python",
   "name": "python",
   "nbconvert_exporter": "python",
   "pygments_lexer": "ipython3",
   "version": "3.13.2"
  }
 },
 "nbformat": 4,
 "nbformat_minor": 2
}
